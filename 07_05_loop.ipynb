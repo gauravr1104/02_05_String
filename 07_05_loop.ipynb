{
  "nbformat": 4,
  "nbformat_minor": 0,
  "metadata": {
    "colab": {
      "provenance": [],
      "authorship_tag": "ABX9TyMGyuf9ZALGKwYUGQBb2it+",
      "include_colab_link": true
    },
    "kernelspec": {
      "name": "python3",
      "display_name": "Python 3"
    },
    "language_info": {
      "name": "python"
    }
  },
  "cells": [
    {
      "cell_type": "markdown",
      "metadata": {
        "id": "view-in-github",
        "colab_type": "text"
      },
      "source": [
        "<a href=\"https://colab.research.google.com/github/gauravr1104/Frisson_Assignment/blob/main/07_05_loop.ipynb\" target=\"_parent\"><img src=\"https://colab.research.google.com/assets/colab-badge.svg\" alt=\"Open In Colab\"/></a>"
      ]
    },
    {
      "cell_type": "markdown",
      "source": [
        "1. Write a Python program to print the numbers from 1 to 10 using a `for` loop."
      ],
      "metadata": {
        "id": "NP-EAtyuN5Nt"
      }
    },
    {
      "cell_type": "code",
      "execution_count": null,
      "metadata": {
        "colab": {
          "base_uri": "https://localhost:8080/"
        },
        "id": "1qCZlEb7FNMc",
        "outputId": "ce8509b3-2f02-4c5a-a3af-6ad345bce29d"
      },
      "outputs": [
        {
          "output_type": "stream",
          "name": "stdout",
          "text": [
            "1\n",
            "2\n",
            "3\n",
            "4\n",
            "5\n",
            "6\n",
            "7\n",
            "8\n",
            "9\n",
            "10\n"
          ]
        }
      ],
      "source": [
        "for i in range(1,11):\n",
        "  print(i)"
      ]
    },
    {
      "cell_type": "markdown",
      "source": [
        "2. Create a program that calculates the sum of all numbers in a list using a `for` loop."
      ],
      "metadata": {
        "id": "8eJ6dkXOOB-x"
      }
    },
    {
      "cell_type": "code",
      "source": [
        "a=[1,2,3,4,5]\n",
        "x=0\n",
        "for i in range(0,len(a)):\n",
        "  x+=a[i]\n",
        "print(x)"
      ],
      "metadata": {
        "colab": {
          "base_uri": "https://localhost:8080/"
        },
        "id": "RbViq4llN_kt",
        "outputId": "06bc93d1-1c9f-4249-de7d-bea1c7c62ff7"
      },
      "execution_count": null,
      "outputs": [
        {
          "output_type": "stream",
          "name": "stdout",
          "text": [
            "15\n"
          ]
        }
      ]
    },
    {
      "cell_type": "markdown",
      "source": [
        "3. Write a program to print the characters of a string in reverse order using a `for` loop."
      ],
      "metadata": {
        "id": "y86lrtV-OaE-"
      }
    },
    {
      "cell_type": "code",
      "source": [
        "a=\"abcd\"\n",
        "for i in range(len(a)-1,-1,-1):\n",
        "  print(a[i])"
      ],
      "metadata": {
        "colab": {
          "base_uri": "https://localhost:8080/"
        },
        "id": "SleLLXEIOP3n",
        "outputId": "4b3c73da-27cd-4e43-dd39-153211b392d9"
      },
      "execution_count": null,
      "outputs": [
        {
          "output_type": "stream",
          "name": "stdout",
          "text": [
            "d\n",
            "c\n",
            "b\n",
            "a\n"
          ]
        }
      ]
    },
    {
      "cell_type": "markdown",
      "source": [
        "4. Develop a program that finds the factorial of a given number using a `for` loop."
      ],
      "metadata": {
        "id": "Cr-GmW3zOwAN"
      }
    },
    {
      "cell_type": "code",
      "source": [
        "n=int(input(\"enter a no.\"))\n",
        "product = 1\n",
        "for i in range(n,0,-1):\n",
        "  product=product*i\n",
        "print(product)"
      ],
      "metadata": {
        "colab": {
          "base_uri": "https://localhost:8080/"
        },
        "id": "2oFXai_SOs6d",
        "outputId": "2feae9d5-4e2f-42e3-ab56-0bcfc58dc361"
      },
      "execution_count": null,
      "outputs": [
        {
          "output_type": "stream",
          "name": "stdout",
          "text": [
            "enter a no.5\n",
            "120\n"
          ]
        }
      ]
    },
    {
      "cell_type": "markdown",
      "source": [
        "5. Create a program to print the multiplication table of a given number using a `for` loop."
      ],
      "metadata": {
        "id": "1YFwAs-QQNQs"
      }
    },
    {
      "cell_type": "code",
      "source": [
        "n=int(input(\"enter a no.\"))\n",
        "for i in range(1,11):\n",
        "  print(n,\"*\",i,\"=\",n*i)"
      ],
      "metadata": {
        "colab": {
          "base_uri": "https://localhost:8080/"
        },
        "id": "QeAiiMXzPFbv",
        "outputId": "cbd04718-b732-400a-8940-fd0bb5882a62"
      },
      "execution_count": null,
      "outputs": [
        {
          "output_type": "stream",
          "name": "stdout",
          "text": [
            "enter a no.5\n",
            "5 * 1 = 5\n",
            "5 * 2 = 10\n",
            "5 * 3 = 15\n",
            "5 * 4 = 20\n",
            "5 * 5 = 25\n",
            "5 * 6 = 30\n",
            "5 * 7 = 35\n",
            "5 * 8 = 40\n",
            "5 * 9 = 45\n",
            "5 * 10 = 50\n"
          ]
        }
      ]
    },
    {
      "cell_type": "markdown",
      "source": [
        "# OR"
      ],
      "metadata": {
        "id": "Hm5rRkjdSuhi"
      }
    },
    {
      "cell_type": "code",
      "source": [
        "n=int(input(\"enter a number\"))\n",
        "for index,element in enumerate(list(range(n,(n*10)+1,n))):\n",
        "  print(f\"{n}*{index+1}={element}\")"
      ],
      "metadata": {
        "colab": {
          "base_uri": "https://localhost:8080/"
        },
        "id": "Zqb7A1x8Sx_a",
        "outputId": "c55aeb0a-6ced-4399-eada-b9fdc6c6b6f1"
      },
      "execution_count": null,
      "outputs": [
        {
          "output_type": "stream",
          "name": "stdout",
          "text": [
            "enter a number4\n",
            "4*1=4\n",
            "4*2=8\n",
            "4*3=12\n",
            "4*4=16\n",
            "4*5=20\n",
            "4*6=24\n",
            "4*7=28\n",
            "4*8=32\n",
            "4*9=36\n",
            "4*10=40\n"
          ]
        }
      ]
    },
    {
      "cell_type": "markdown",
      "source": [
        "6. Write a program that counts the number of even and odd numbers in a list using a `for` loop."
      ],
      "metadata": {
        "id": "VUdLH8i1Q_cH"
      }
    },
    {
      "cell_type": "code",
      "source": [
        "a=[1,2,3,4,5,6,7,8]\n",
        "even=0\n",
        "odd=0\n",
        "for i in a:\n",
        "  if i%2==0:\n",
        "    even+=1\n",
        "  else:\n",
        "    odd+=1\n",
        "print(\"even=\",even)\n",
        "print(\"odd=\",odd)\n",
        "\n"
      ],
      "metadata": {
        "colab": {
          "base_uri": "https://localhost:8080/"
        },
        "id": "eQmxYje1Q1eN",
        "outputId": "a345ab1f-3feb-431d-890c-a83698e6d53d"
      },
      "execution_count": null,
      "outputs": [
        {
          "output_type": "stream",
          "name": "stdout",
          "text": [
            "even= 4\n",
            "odd= 4\n"
          ]
        }
      ]
    },
    {
      "cell_type": "markdown",
      "source": [
        "7. Develop a program that prints the squares of numbers from 1 to 5 using a `for` loop."
      ],
      "metadata": {
        "id": "4FqRXnl1StQI"
      }
    },
    {
      "cell_type": "code",
      "source": [
        "for i in range(1,6):\n",
        "  print(i**2, end=\" \")"
      ],
      "metadata": {
        "colab": {
          "base_uri": "https://localhost:8080/"
        },
        "id": "KN6cK2tXSqHL",
        "outputId": "7f02b456-e573-46bb-a107-3e5c37b2f680"
      },
      "execution_count": null,
      "outputs": [
        {
          "output_type": "stream",
          "name": "stdout",
          "text": [
            "1 4 9 16 25 "
          ]
        }
      ]
    },
    {
      "cell_type": "markdown",
      "source": [
        "8. Create a program to find the length of a string without using the `len()` function."
      ],
      "metadata": {
        "id": "Tb_my5vzTKQ9"
      }
    },
    {
      "cell_type": "code",
      "source": [
        "a=input(\"enter a string \")\n",
        "count=0\n",
        "for i in a:\n",
        "  count+=1\n",
        "print(f\"the length of string is {count}\")\n"
      ],
      "metadata": {
        "colab": {
          "base_uri": "https://localhost:8080/"
        },
        "id": "2g-igMr1TFVS",
        "outputId": "94035037-5ded-456e-baa9-79e88d5ec918"
      },
      "execution_count": null,
      "outputs": [
        {
          "output_type": "stream",
          "name": "stdout",
          "text": [
            "enter a string gaurav\n",
            "the length of string is 6\n"
          ]
        }
      ]
    },
    {
      "cell_type": "markdown",
      "source": [
        "9. Write a program that calculates the average of a list of numbers using a `for` loop."
      ],
      "metadata": {
        "id": "vcwuKxaNTj_Z"
      }
    },
    {
      "cell_type": "code",
      "source": [
        "a=[1,2,3,4,5,6,7,8]\n",
        "x=0\n",
        "for i in a:\n",
        "  x+=i\n",
        "print(\"average of no. in list is\", x/len(a))"
      ],
      "metadata": {
        "colab": {
          "base_uri": "https://localhost:8080/"
        },
        "id": "FAZs2gjUTTvv",
        "outputId": "9f18b6ad-cec6-4bf7-b7fa-153059f58014"
      },
      "execution_count": null,
      "outputs": [
        {
          "output_type": "stream",
          "name": "stdout",
          "text": [
            "average of no. in list is 4.5\n"
          ]
        }
      ]
    },
    {
      "cell_type": "markdown",
      "source": [
        "10. Develop a program that prints the first `n` Fibonacci numbers using a `for` loop."
      ],
      "metadata": {
        "id": "LxUYAkSWUmT5"
      }
    },
    {
      "cell_type": "code",
      "source": [
        "a=int(input(\"enter a no.\"))\n",
        "x=0\n",
        "y=1\n",
        "print(x)\n",
        "print(y)\n",
        "for i in range(0,n-3):\n",
        "  c=x+y\n",
        "  x,y=y,c\n",
        "  print(c)"
      ],
      "metadata": {
        "colab": {
          "base_uri": "https://localhost:8080/"
        },
        "id": "tgLUtUKhUieb",
        "outputId": "aeca6c6b-4cf5-41f6-8462-2aa400f38ada"
      },
      "execution_count": null,
      "outputs": [
        {
          "output_type": "stream",
          "name": "stdout",
          "text": [
            "enter a no.5\n",
            "0\n",
            "1\n",
            "1\n"
          ]
        }
      ]
    },
    {
      "cell_type": "markdown",
      "source": [
        "11. Write a program to check if a given list contains any duplicates using a `for` loop."
      ],
      "metadata": {
        "id": "eCwlgH9qV5HG"
      }
    },
    {
      "cell_type": "code",
      "source": [
        "a=[1,2,3,4,5,6]\n",
        "b=[]\n",
        "count=0\n",
        "for i in a:\n",
        "  if i not in b:\n",
        "    b.append(i)\n",
        "  else:\n",
        "    count+=1\n",
        "if count>0:\n",
        "  print(\"list contains duplicates\")\n",
        "else:\n",
        "  print(\"list does not contain duplicates\")\n"
      ],
      "metadata": {
        "colab": {
          "base_uri": "https://localhost:8080/"
        },
        "id": "f2XDimc2Uxxf",
        "outputId": "84d2b1f0-2ce0-482b-bb7b-8c847442ae4f"
      },
      "execution_count": null,
      "outputs": [
        {
          "output_type": "stream",
          "name": "stdout",
          "text": [
            "list does not contain duplicates\n"
          ]
        }
      ]
    },
    {
      "cell_type": "markdown",
      "source": [
        "# **OR**"
      ],
      "metadata": {
        "id": "Z3sbORFNcox0"
      }
    },
    {
      "cell_type": "code",
      "source": [
        "for i in a:\n",
        "  if a.count(i)>1:\n",
        "    print(\"list contains duplicates\")\n",
        "    break\n",
        "else:\n",
        "  print(\"list does not contain duplicates\")"
      ],
      "metadata": {
        "colab": {
          "base_uri": "https://localhost:8080/"
        },
        "id": "iPSQV9s1cnhe",
        "outputId": "6afd6b66-844c-4338-a06d-c2def5c0f363"
      },
      "execution_count": null,
      "outputs": [
        {
          "output_type": "stream",
          "name": "stdout",
          "text": [
            "list does not contain duplicates\n"
          ]
        }
      ]
    },
    {
      "cell_type": "markdown",
      "source": [
        "12. Create a program that prints the prime numbers in a given range using a `for` loop"
      ],
      "metadata": {
        "id": "xSxGb8VuZLYb"
      }
    },
    {
      "cell_type": "code",
      "source": [
        "for i in range(2,51):\n",
        "  for j in range(2,i):\n",
        "    if i%j==0:\n",
        "      break\n",
        "  else:\n",
        "    print(i)\n"
      ],
      "metadata": {
        "colab": {
          "base_uri": "https://localhost:8080/"
        },
        "id": "_Pppg_QjWfiu",
        "outputId": "b6af3e8c-22e0-46f4-e989-b8fa08c51224"
      },
      "execution_count": null,
      "outputs": [
        {
          "output_type": "stream",
          "name": "stdout",
          "text": [
            "2\n",
            "3\n",
            "5\n",
            "7\n",
            "11\n",
            "13\n",
            "17\n",
            "19\n",
            "23\n",
            "29\n",
            "31\n",
            "37\n",
            "41\n",
            "43\n",
            "47\n"
          ]
        }
      ]
    },
    {
      "cell_type": "markdown",
      "source": [
        "13. Develop a program that counts the number of vowels in a string using a `for` loop."
      ],
      "metadata": {
        "id": "AG3kIkmbbsbO"
      }
    },
    {
      "cell_type": "code",
      "source": [
        "a=input(\"enter a string\")\n",
        "b=\"aeiou\"\n",
        "count=0\n",
        "for i in a:\n",
        "  if i in b:\n",
        "    count+=1\n",
        "print(f\"the no. of vowels in string is {count}\")\n",
        "\n"
      ],
      "metadata": {
        "colab": {
          "base_uri": "https://localhost:8080/"
        },
        "id": "F9Thy8KladuF",
        "outputId": "d2a958ef-184a-4a08-e2ca-cf5f50c8a7f6"
      },
      "execution_count": null,
      "outputs": [
        {
          "output_type": "stream",
          "name": "stdout",
          "text": [
            "enter a stringgaurav singh rawat\n",
            "the no. of vowels in string is 6\n"
          ]
        }
      ]
    },
    {
      "cell_type": "markdown",
      "source": [
        "14. Write a program to find the maximum element in a 2D list using a nested `for` loop."
      ],
      "metadata": {
        "id": "82RkZhz9dXVn"
      }
    },
    {
      "cell_type": "code",
      "source": [
        "a=[[1,23],[3,4],[5,6]]\n",
        "x=0\n",
        "for i in a:\n",
        "  for j in range(0,len(i)):\n",
        "    if i[j]>x:\n",
        "      x=i[j]\n",
        "print(x)\n",
        "\n"
      ],
      "metadata": {
        "colab": {
          "base_uri": "https://localhost:8080/"
        },
        "id": "-H4vDzaHdW3k",
        "outputId": "21338c92-9301-4c03-b819-228159683578"
      },
      "execution_count": null,
      "outputs": [
        {
          "output_type": "stream",
          "name": "stdout",
          "text": [
            "23\n"
          ]
        }
      ]
    },
    {
      "cell_type": "markdown",
      "source": [
        "15. Create a program that removes all occurrences of a specific element from a list using a `for` loop."
      ],
      "metadata": {
        "id": "vTzzzRmLg3Ip"
      }
    },
    {
      "cell_type": "code",
      "source": [
        "a=[1,2,3,4,5,6,7,6,5,4,3,2,2,1]\n",
        "b=[]\n",
        "n=int(input(\"enter a no.\"))\n",
        "for i in a:\n",
        "  if i!=n:\n",
        "    b.append(i)\n",
        "print(b)"
      ],
      "metadata": {
        "colab": {
          "base_uri": "https://localhost:8080/"
        },
        "id": "TwRad1KDcJ8H",
        "outputId": "8a4c5a4f-08f1-4470-a3bf-03e62275a55d"
      },
      "execution_count": null,
      "outputs": [
        {
          "output_type": "stream",
          "name": "stdout",
          "text": [
            "enter a no.5\n",
            "[1, 2, 3, 4, 6, 7, 6, 4, 3, 2, 2, 1]\n"
          ]
        }
      ]
    },
    {
      "cell_type": "markdown",
      "source": [
        "16. Develop a program that generates a multiplication table for numbers from 1 to 5 using a nested `for` loop.\n"
      ],
      "metadata": {
        "id": "XsNBTl7YiHbn"
      }
    },
    {
      "cell_type": "code",
      "source": [
        "for i in range(1,6):\n",
        "  for j in range(1,11):\n",
        "    print(f\"{i} X {j} = {i*j}\")\n"
      ],
      "metadata": {
        "colab": {
          "base_uri": "https://localhost:8080/"
        },
        "id": "LwvkF-mhhmTn",
        "outputId": "2f106a8b-248d-4a1f-9ba8-ef7f846f0a98"
      },
      "execution_count": null,
      "outputs": [
        {
          "output_type": "stream",
          "name": "stdout",
          "text": [
            "1 X 1 = 1\n",
            "1 X 2 = 2\n",
            "1 X 3 = 3\n",
            "1 X 4 = 4\n",
            "1 X 5 = 5\n",
            "1 X 6 = 6\n",
            "1 X 7 = 7\n",
            "1 X 8 = 8\n",
            "1 X 9 = 9\n",
            "1 X 10 = 10\n",
            "2 X 1 = 2\n",
            "2 X 2 = 4\n",
            "2 X 3 = 6\n",
            "2 X 4 = 8\n",
            "2 X 5 = 10\n",
            "2 X 6 = 12\n",
            "2 X 7 = 14\n",
            "2 X 8 = 16\n",
            "2 X 9 = 18\n",
            "2 X 10 = 20\n",
            "3 X 1 = 3\n",
            "3 X 2 = 6\n",
            "3 X 3 = 9\n",
            "3 X 4 = 12\n",
            "3 X 5 = 15\n",
            "3 X 6 = 18\n",
            "3 X 7 = 21\n",
            "3 X 8 = 24\n",
            "3 X 9 = 27\n",
            "3 X 10 = 30\n",
            "4 X 1 = 4\n",
            "4 X 2 = 8\n",
            "4 X 3 = 12\n",
            "4 X 4 = 16\n",
            "4 X 5 = 20\n",
            "4 X 6 = 24\n",
            "4 X 7 = 28\n",
            "4 X 8 = 32\n",
            "4 X 9 = 36\n",
            "4 X 10 = 40\n",
            "5 X 1 = 5\n",
            "5 X 2 = 10\n",
            "5 X 3 = 15\n",
            "5 X 4 = 20\n",
            "5 X 5 = 25\n",
            "5 X 6 = 30\n",
            "5 X 7 = 35\n",
            "5 X 8 = 40\n",
            "5 X 9 = 45\n",
            "5 X 10 = 50\n"
          ]
        }
      ]
    },
    {
      "cell_type": "markdown",
      "source": [
        "17. Write a program that converts a list of Fahrenheit temperatures to Celsius using a `for` loop.\n"
      ],
      "metadata": {
        "id": "fOJRCl2Tls-7"
      }
    },
    {
      "cell_type": "code",
      "source": [
        "f=[40,50,60,32]\n",
        "c=[]\n",
        "for i in f:\n",
        "  x=(i - 32)* (5/9)\n",
        "  c.append(x)\n",
        "print(c)"
      ],
      "metadata": {
        "colab": {
          "base_uri": "https://localhost:8080/"
        },
        "id": "kqhG6s9HlDqL",
        "outputId": "f21d4298-a599-4d89-f632-983949c60e1f"
      },
      "execution_count": null,
      "outputs": [
        {
          "output_type": "stream",
          "name": "stdout",
          "text": [
            "[4.444444444444445, 10.0, 15.555555555555557, 0.0]\n"
          ]
        }
      ]
    },
    {
      "cell_type": "markdown",
      "source": [
        "18. Create a program to print the common elements from two lists using a `for` loop."
      ],
      "metadata": {
        "id": "bVIEA9bdmUCS"
      }
    },
    {
      "cell_type": "code",
      "source": [
        "a=[1,2,3,4,5,6,7]\n",
        "b=[4,5,6,7,8,9]\n",
        "for i in a:\n",
        "  if i in b:\n",
        "    print(i, end=\" \")\n"
      ],
      "metadata": {
        "colab": {
          "base_uri": "https://localhost:8080/"
        },
        "id": "u0q1uEAZmHOv",
        "outputId": "afb0f57e-c7c1-42c7-b152-2e305cbad086"
      },
      "execution_count": null,
      "outputs": [
        {
          "output_type": "stream",
          "name": "stdout",
          "text": [
            "4 5 6 7 "
          ]
        }
      ]
    },
    {
      "cell_type": "markdown",
      "source": [
        "19. Develop a program that prints the pattern of right-angled triangles using a `for` loop. Use ‘*’ to draw the\n",
        "pattern\n"
      ],
      "metadata": {
        "id": "Rfia56p9msRn"
      }
    },
    {
      "cell_type": "code",
      "source": [
        "n= int(input(\"enter a no.\"))\n",
        "for i in range(1,n+1):\n",
        "  print(\"*\"*i)"
      ],
      "metadata": {
        "colab": {
          "base_uri": "https://localhost:8080/"
        },
        "id": "2TcHbyf1mmxE",
        "outputId": "9c1c1151-3efe-4433-c56f-ba7d73aa62b2"
      },
      "execution_count": null,
      "outputs": [
        {
          "output_type": "stream",
          "name": "stdout",
          "text": [
            "enter a no.5\n",
            "*\n",
            "**\n",
            "***\n",
            "****\n",
            "*****\n"
          ]
        }
      ]
    },
    {
      "cell_type": "markdown",
      "source": [
        "20. Write a program to find the greatest common divisor (GCD) of two numbers using a `for` loop."
      ],
      "metadata": {
        "id": "HBnvHkxEncXc"
      }
    },
    {
      "cell_type": "code",
      "source": [
        "n1=int(input(\"enter a no.\"))\n",
        "n2=int(input(\"enter another no.\"))\n",
        "x=0\n",
        "if(n1>n2):\n",
        "  a=n1\n",
        "else:\n",
        "  a=n2\n",
        "for i in range(1,a):\n",
        "  if n1%i==0 and n2%i==0 :\n",
        "    x=i\n",
        "print(f\"the highest gcd of {n1} and {n2} is {x}\")"
      ],
      "metadata": {
        "colab": {
          "base_uri": "https://localhost:8080/"
        },
        "id": "6u3CFFsxnJVD",
        "outputId": "65fd31cc-8ad1-417b-a120-573450c1b4b0"
      },
      "execution_count": null,
      "outputs": [
        {
          "output_type": "stream",
          "name": "stdout",
          "text": [
            "enter a no.50\n",
            "enter another no.25\n",
            "the highest gcd of 50 and 25 is 25\n"
          ]
        }
      ]
    },
    {
      "cell_type": "markdown",
      "source": [
        "21. Create a program that calculates the sum of the digits of numbers in a list using a list comprehension."
      ],
      "metadata": {
        "id": "r95OUM3Ko3VV"
      }
    },
    {
      "cell_type": "code",
      "source": [
        "a = [1, 2, 3, 4, 5, 6, 7]\n",
        "sum([i for i in a])"
      ],
      "metadata": {
        "id": "8taK96zWoWHd"
      },
      "execution_count": null,
      "outputs": []
    },
    {
      "cell_type": "markdown",
      "source": [
        "# **OR**"
      ],
      "metadata": {
        "id": "cE4sHGny_gBP"
      }
    },
    {
      "cell_type": "code",
      "source": [
        "l1=[1,2,3,4,5]\n",
        "sum=0\n",
        "l2=[sum:=sum+i for i in l1]\n",
        "print(sum)"
      ],
      "metadata": {
        "colab": {
          "base_uri": "https://localhost:8080/"
        },
        "id": "egCfhYLQ_mGy",
        "outputId": "4868b185-6acb-4415-c858-70547ec619df"
      },
      "execution_count": null,
      "outputs": [
        {
          "output_type": "stream",
          "name": "stdout",
          "text": [
            "15\n"
          ]
        }
      ]
    },
    {
      "cell_type": "markdown",
      "source": [
        "22. Write a program to find the prime factors of a given number using a `for` loop and list comprehension.\n"
      ],
      "metadata": {
        "id": "dgTURzQwufFD"
      }
    },
    {
      "cell_type": "code",
      "source": [
        "n=int(input('enter a number: '))\n",
        "[i for i in range(2,n+1) if n%i==0 and all(i%j !=0 for j in range(2,i)) ]\n"
      ],
      "metadata": {
        "colab": {
          "base_uri": "https://localhost:8080/"
        },
        "id": "TFd5bAYWpPQ8",
        "outputId": "faf9140a-aae1-4571-8d1d-b3e17dbde54e"
      },
      "execution_count": null,
      "outputs": [
        {
          "name": "stdout",
          "output_type": "stream",
          "text": [
            "enter a number: 10\n"
          ]
        },
        {
          "output_type": "execute_result",
          "data": {
            "text/plain": [
              "[2, 5]"
            ]
          },
          "metadata": {},
          "execution_count": 151
        }
      ]
    },
    {
      "cell_type": "markdown",
      "source": [
        "23. Develop a program that extracts unique elements from a list and stores them in a new list using a list\n",
        "comprehension.\n",
        "\n"
      ],
      "metadata": {
        "id": "_XM19AUYw44h"
      }
    },
    {
      "cell_type": "code",
      "source": [
        "a=[1,2,3,4,5,6,7,8,7,6,5,4]\n",
        "[i for i in a if a.count(i)==1 ]"
      ],
      "metadata": {
        "colab": {
          "base_uri": "https://localhost:8080/"
        },
        "id": "7tjiIQC-yFi6",
        "outputId": "2654ddbf-90d3-4617-cb34-fbc9b3a93bbd"
      },
      "execution_count": null,
      "outputs": [
        {
          "output_type": "execute_result",
          "data": {
            "text/plain": [
              "[1, 2, 3, 8]"
            ]
          },
          "metadata": {},
          "execution_count": 152
        }
      ]
    },
    {
      "cell_type": "markdown",
      "source": [
        "24. Create a program that generates a list of all palindromic numbers up to a specified limit using a list\n",
        "comprehension.\n",
        "\n",
        "\n"
      ],
      "metadata": {
        "id": "bsKULtB_4ZUN"
      }
    },
    {
      "cell_type": "code",
      "source": [
        "[i for i in range(10,100) if str(i)== str(i)[::-1]]"
      ],
      "metadata": {
        "colab": {
          "base_uri": "https://localhost:8080/"
        },
        "id": "S7Ev4iSiyaeI",
        "outputId": "f12ecfb4-9c94-4947-f126-51948ca40501"
      },
      "execution_count": null,
      "outputs": [
        {
          "output_type": "execute_result",
          "data": {
            "text/plain": [
              "[11, 22, 33, 44, 55, 66, 77, 88, 99]"
            ]
          },
          "metadata": {},
          "execution_count": 155
        }
      ]
    },
    {
      "cell_type": "markdown",
      "source": [
        "25. Write a program to flatten a nested list using list comprehension."
      ],
      "metadata": {
        "id": "4FV_g93XFcuT"
      }
    },
    {
      "cell_type": "code",
      "source": [
        "a=[[1,2],[3,4],[4,5]]\n",
        "[j for i in a for j in i ]"
      ],
      "metadata": {
        "colab": {
          "base_uri": "https://localhost:8080/"
        },
        "id": "ZQavj8PEFNVA",
        "outputId": "6cb61064-ce58-4dd3-d934-284977975446"
      },
      "execution_count": null,
      "outputs": [
        {
          "output_type": "execute_result",
          "data": {
            "text/plain": [
              "[1, 2, 3, 4, 4, 5]"
            ]
          },
          "metadata": {},
          "execution_count": 156
        }
      ]
    },
    {
      "cell_type": "markdown",
      "source": [
        "26. Develop a program that computes the sum of even and odd numbers in a list separately using list\n",
        "comprehension.\n"
      ],
      "metadata": {
        "id": "0kNMtr1PGHW9"
      }
    },
    {
      "cell_type": "code",
      "source": [
        "a=[1,2,3,4,5,6,7,8]\n",
        "even=0\n",
        "odd=0\n",
        "x=[even:=even+i for i in a if i%2==0]\n",
        "y=[odd:=odd+i for i in a if i%2!=0]\n",
        "print(even)\n",
        "print(odd)\n"
      ],
      "metadata": {
        "colab": {
          "base_uri": "https://localhost:8080/"
        },
        "id": "cQpb_Ym9F9mf",
        "outputId": "65655120-b2f2-4661-ee3d-cf0f67f683d1"
      },
      "execution_count": null,
      "outputs": [
        {
          "output_type": "stream",
          "name": "stdout",
          "text": [
            "20\n",
            "16\n"
          ]
        }
      ]
    },
    {
      "cell_type": "markdown",
      "source": [
        "27. Create a program that generates a list of squares of odd numbers between 1 and 10 using list\n",
        "comprehension.\n"
      ],
      "metadata": {
        "id": "HKL3QY1bIZ8U"
      }
    },
    {
      "cell_type": "code",
      "source": [
        "[i**2 for i in range(1,11) if i%2!=0]"
      ],
      "metadata": {
        "colab": {
          "base_uri": "https://localhost:8080/"
        },
        "id": "pUavOKmOIBlj",
        "outputId": "81ac85a1-00f8-44f6-b2e3-068df3c87cec"
      },
      "execution_count": null,
      "outputs": [
        {
          "output_type": "execute_result",
          "data": {
            "text/plain": [
              "[1, 9, 25, 49, 81]"
            ]
          },
          "metadata": {},
          "execution_count": 166
        }
      ]
    },
    {
      "cell_type": "markdown",
      "source": [
        "28. Write a program that combines two lists into a dictionary using list comprehension.\n"
      ],
      "metadata": {
        "id": "abiVUjolI1Wy"
      }
    },
    {
      "cell_type": "code",
      "source": [
        "a=['a','b','c','d','e']\n",
        "b=[1,2,3,4,5]\n",
        "dict={}\n",
        "c=[dict.update({a[i]:b[i]}) for i in range(0,len(a)) ]\n",
        "print(dict)\n",
        "\n"
      ],
      "metadata": {
        "colab": {
          "base_uri": "https://localhost:8080/"
        },
        "id": "JQgkyHbOIkOY",
        "outputId": "d188188b-7257-4bd7-ec13-1f8e32e969c5"
      },
      "execution_count": null,
      "outputs": [
        {
          "output_type": "stream",
          "name": "stdout",
          "text": [
            "{'a': 1, 'b': 2, 'c': 3, 'd': 4, 'e': 5}\n"
          ]
        }
      ]
    },
    {
      "cell_type": "markdown",
      "source": [
        "29. Develop a program that extracts the vowels from a string and stores them in a list using list comprehension."
      ],
      "metadata": {
        "id": "JqjjwlTvKgZ2"
      }
    },
    {
      "cell_type": "code",
      "source": [
        "a=input(\"enter a string\")\n",
        "b=\"aeiou\"\n",
        "[i for i in a if i in b]"
      ],
      "metadata": {
        "colab": {
          "base_uri": "https://localhost:8080/"
        },
        "id": "oFs1okUfI5VI",
        "outputId": "82488313-52e3-48e8-db64-fed9dac0fe75"
      },
      "execution_count": null,
      "outputs": [
        {
          "name": "stdout",
          "output_type": "stream",
          "text": [
            "enter a stringgaurav singh rawat\n"
          ]
        },
        {
          "output_type": "execute_result",
          "data": {
            "text/plain": [
              "['a', 'u', 'a', 'i', 'a', 'a']"
            ]
          },
          "metadata": {},
          "execution_count": 176
        }
      ]
    },
    {
      "cell_type": "markdown",
      "source": [
        "30. Create a program that removes all non-numeric characters from a list of strings using list comprehension."
      ],
      "metadata": {
        "id": "S2fO1hzqLsFD"
      }
    },
    {
      "cell_type": "code",
      "source": [
        "a=[1,2,3,4,5,'a','b','c','d',20.0]\n",
        "[i for i in a if type(i)== int]"
      ],
      "metadata": {
        "colab": {
          "base_uri": "https://localhost:8080/"
        },
        "id": "Q6_a_3zcJ4GP",
        "outputId": "ed3fb7d9-bf19-45d4-bff9-cb90b2048c6f"
      },
      "execution_count": 191,
      "outputs": [
        {
          "output_type": "execute_result",
          "data": {
            "text/plain": [
              "[1, 2, 3, 4, 5]"
            ]
          },
          "metadata": {},
          "execution_count": 191
        }
      ]
    },
    {
      "cell_type": "markdown",
      "source": [
        "\n",
        "# **Basic If-Else Statements:**"
      ],
      "metadata": {
        "id": "Wr3jOrVJO6tU"
      }
    },
    {
      "cell_type": "markdown",
      "source": [
        "1. Write a Python program to check if a given number is positive or negative."
      ],
      "metadata": {
        "id": "4-25sEvxPV1E"
      }
    },
    {
      "cell_type": "code",
      "source": [
        "n=int(input(\"enter a no.\"))\n",
        "if n<0:\n",
        "  print(\"Number is negative\")\n",
        "else:\n",
        "  print(\"number is positive\")"
      ],
      "metadata": {
        "id": "hY_IiHkwL_yG",
        "colab": {
          "base_uri": "https://localhost:8080/"
        },
        "outputId": "c1a6f3e2-0f86-4db5-d7f5-eed8d07f2fa0"
      },
      "execution_count": 192,
      "outputs": [
        {
          "output_type": "stream",
          "name": "stdout",
          "text": [
            "enter a no.-3\n",
            "Number is negative\n"
          ]
        }
      ]
    },
    {
      "cell_type": "markdown",
      "source": [
        "2. Create a program that determines if a person is eligible to vote based on their age."
      ],
      "metadata": {
        "id": "yMYvLebsQ2jB"
      }
    },
    {
      "cell_type": "code",
      "source": [
        "n=int(input(\"enter a no.\"))\n",
        "if n>18:\n",
        "  print(\"Eligible to vote\")\n",
        "else:\n",
        "  print(\"Not Eligible to vote\")"
      ],
      "metadata": {
        "colab": {
          "base_uri": "https://localhost:8080/"
        },
        "id": "ix6fxIxZQyag",
        "outputId": "b99223e0-98c0-4561-a6f2-f782dcd42b48"
      },
      "execution_count": 193,
      "outputs": [
        {
          "output_type": "stream",
          "name": "stdout",
          "text": [
            "enter a no.15\n",
            "Not Eligible to vote\n"
          ]
        }
      ]
    },
    {
      "cell_type": "markdown",
      "source": [
        "3. Develop a program to find the maximum of two numbers using if-else statements."
      ],
      "metadata": {
        "id": "uNwjp5deRPIK"
      }
    },
    {
      "cell_type": "code",
      "source": [
        "n1=int(input(\"enter a no.\"))\n",
        "n2=int(input(\"enter a no.\"))\n",
        "if n1>n2:\n",
        "  print(\"n1 is greater\")\n",
        "else:\n",
        "  print(\"n2 is greater\")"
      ],
      "metadata": {
        "colab": {
          "base_uri": "https://localhost:8080/"
        },
        "id": "4D1CJ6OCRL8q",
        "outputId": "e49c47e1-8fe3-41b2-8aa7-63a98baaa6cf"
      },
      "execution_count": 195,
      "outputs": [
        {
          "output_type": "stream",
          "name": "stdout",
          "text": [
            "enter a no.4\n",
            "enter a no.5\n",
            "n2 is greater\n"
          ]
        }
      ]
    },
    {
      "cell_type": "markdown",
      "source": [
        "4. Write a Python script to classify a given year as a leap year or not."
      ],
      "metadata": {
        "id": "ANjz7kd6kgs6"
      }
    },
    {
      "cell_type": "code",
      "source": [
        "year = int(input('enter the year: '))\n",
        "if year%4==0 and (year%100!=0 or year%400==0):\n",
        "    print('leap year')\n",
        "else:\n",
        "    print('not a leap year')"
      ],
      "metadata": {
        "colab": {
          "base_uri": "https://localhost:8080/"
        },
        "id": "0jizJPvFRkrX",
        "outputId": "7bc0ff94-b682-4b1d-9085-54d9a0e48a21"
      },
      "execution_count": 199,
      "outputs": [
        {
          "output_type": "stream",
          "name": "stdout",
          "text": [
            "enter the year: 2000\n",
            "leap year\n"
          ]
        }
      ]
    },
    {
      "cell_type": "markdown",
      "source": [
        "5. Create a program that checks whether a character is a vowel or a consonant.\n"
      ],
      "metadata": {
        "id": "9gUEP39RmULW"
      }
    },
    {
      "cell_type": "code",
      "source": [
        "a=input(\"enter a character\")\n",
        "vowel='aeiouAEIOU'\n",
        "if a in vowel:\n",
        "  print(\"character is vowel\")\n",
        "else:\n",
        "  print(\"character is consonent\")\n"
      ],
      "metadata": {
        "colab": {
          "base_uri": "https://localhost:8080/"
        },
        "id": "4senN-EOmPXj",
        "outputId": "16904086-3c56-4db2-c283-44c799625db7"
      },
      "execution_count": 200,
      "outputs": [
        {
          "output_type": "stream",
          "name": "stdout",
          "text": [
            "enter a characterB\n",
            "character is consonent\n"
          ]
        }
      ]
    },
    {
      "cell_type": "markdown",
      "source": [
        "6. Implement a program to determine whether a given number is even or odd."
      ],
      "metadata": {
        "id": "DfJ_nz3qmusK"
      }
    },
    {
      "cell_type": "code",
      "source": [
        "n=int(input(\"enter a no.\"))\n",
        "if n %2==0:\n",
        "  print(\"no. is even\")\n",
        "else:\n",
        "  print(\"no. is odd\")"
      ],
      "metadata": {
        "colab": {
          "base_uri": "https://localhost:8080/"
        },
        "id": "W_03qdTpm0HE",
        "outputId": "cb7ef2e0-dbdb-4f27-d4cf-15bd9a51112c"
      },
      "execution_count": 201,
      "outputs": [
        {
          "output_type": "stream",
          "name": "stdout",
          "text": [
            "enter a no.5\n",
            "no. is odd\n"
          ]
        }
      ]
    },
    {
      "cell_type": "markdown",
      "source": [
        "7. Write a Python function to calculate the absolute value of a number without using the `abs()` function."
      ],
      "metadata": {
        "id": "IyI1b-2FnMRv"
      }
    },
    {
      "cell_type": "code",
      "source": [
        "n=int(input(\"enter a no.\"))\n",
        "if n<0:\n",
        "  print(0-n)\n",
        "else:\n",
        "  print(n)"
      ],
      "metadata": {
        "colab": {
          "base_uri": "https://localhost:8080/"
        },
        "id": "Ir-cKyl1nI3C",
        "outputId": "4c079db8-8908-45a5-9bc1-4219e987f9b3"
      },
      "execution_count": 205,
      "outputs": [
        {
          "output_type": "stream",
          "name": "stdout",
          "text": [
            "enter a no.-100\n",
            "100\n"
          ]
        }
      ]
    },
    {
      "cell_type": "markdown",
      "source": [
        "8. Develop a program that determines the largest of three given numbers using if-else statements."
      ],
      "metadata": {
        "id": "yVUgg0f2np-i"
      }
    },
    {
      "cell_type": "code",
      "source": [
        "n1 = int(input('enter 1st no. '))\n",
        "n2 = int(input('enter 2nd no. '))\n",
        "n3= int(input('enter 3rd no. '))\n",
        "if n1>n2 and n1>n3:\n",
        "    print(f'{n1} is greatest number')\n",
        "elif n2>n1 and n2>n1:\n",
        "    print(f'{n2} is greatest number')\n",
        "else:\n",
        "    print(f'{n3} is greatest number')\n",
        "\n"
      ],
      "metadata": {
        "colab": {
          "base_uri": "https://localhost:8080/"
        },
        "id": "v5rwzxBlnmNE",
        "outputId": "357aa008-e345-4751-d5c6-1799edb802c0"
      },
      "execution_count": 214,
      "outputs": [
        {
          "output_type": "stream",
          "name": "stdout",
          "text": [
            "enter the num1: 7\n",
            "enter the num2: 5\n",
            "enter the num3: 9\n",
            "9 is greatest number\n"
          ]
        }
      ]
    },
    {
      "cell_type": "markdown",
      "source": [
        "9. Create a program that checks if a given string is a palindrome."
      ],
      "metadata": {
        "id": "jijlfR5qo1hs"
      }
    },
    {
      "cell_type": "code",
      "source": [
        "a=input(\"enter a string \")\n",
        "if a==a[::-1]:\n",
        "    print('string is palindrome')\n",
        "else:\n",
        "    print('string is not palindrom')"
      ],
      "metadata": {
        "colab": {
          "base_uri": "https://localhost:8080/"
        },
        "id": "w72-WIEpo4oV",
        "outputId": "09012a4c-a112-4f0d-c082-e2b69a079823"
      },
      "execution_count": 211,
      "outputs": [
        {
          "output_type": "stream",
          "name": "stdout",
          "text": [
            "enter a string nitin\n",
            "string is palindrome\n"
          ]
        }
      ]
    },
    {
      "cell_type": "markdown",
      "source": [
        "10. Write a Python program to calculate the grade based on a student's score."
      ],
      "metadata": {
        "id": "C4gW_PdBpbV2"
      }
    },
    {
      "cell_type": "code",
      "source": [
        "marks =int(input ('Enter the Marks '))\n",
        "\n",
        "if marks >=90 and marks <=100:\n",
        "    print ('A')\n",
        "elif marks >=80 and marks <90:\n",
        "    print('B')\n",
        "elif marks >=70 and marks <80:\n",
        "    print('C')\n",
        "elif marks >=60 and marks <70:\n",
        "    print('D')\n",
        "elif marks >=50 and marks <60:\n",
        "    print('Average')\n",
        "else:\n",
        "    print('Poor marks')"
      ],
      "metadata": {
        "colab": {
          "base_uri": "https://localhost:8080/"
        },
        "id": "U-TLokvzpURd",
        "outputId": "3f88ad53-2097-49a0-af4d-94723fb73e00"
      },
      "execution_count": 247,
      "outputs": [
        {
          "output_type": "stream",
          "name": "stdout",
          "text": [
            "Enter the Marks 67\n",
            "D\n"
          ]
        }
      ]
    },
    {
      "cell_type": "markdown",
      "source": [
        "# **Nested If-Else Statements**"
      ],
      "metadata": {
        "id": "OKBEizlqqnUf"
      }
    },
    {
      "cell_type": "markdown",
      "source": [
        "11. Write a program to find the largest among three numbers using nested if-else statements."
      ],
      "metadata": {
        "id": "XXv0uR58q0aq"
      }
    },
    {
      "cell_type": "code",
      "source": [
        "x = int(input('enter 1st no. '))\n",
        "y = int(input('enter 2nd no. '))\n",
        "z = int(input('enter 3rd no. '))\n",
        "if x>y:\n",
        "    if x>z:\n",
        "        print(f'{x} is greatest number')\n",
        "if y>x :\n",
        "    if y>z:\n",
        "        print(f'{y} is greatest number')\n",
        "else:\n",
        "    print(f'{z} is greatest number')\n"
      ],
      "metadata": {
        "colab": {
          "base_uri": "https://localhost:8080/"
        },
        "id": "5Yb-TzzoqA39",
        "outputId": "28457c76-9df1-4025-a240-27411f2ac823"
      },
      "execution_count": 215,
      "outputs": [
        {
          "output_type": "stream",
          "name": "stdout",
          "text": [
            "enter 1st no. 99\n",
            "enter 2nd no. 67\n",
            "enter 3rd no. 100\n",
            "100 is greatest number\n"
          ]
        }
      ]
    },
    {
      "cell_type": "markdown",
      "source": [
        "12. Implement a program to determine if a triangle is equilateral, isosceles, or scalene."
      ],
      "metadata": {
        "id": "kUq4aJ_Qrd3R"
      }
    },
    {
      "cell_type": "code",
      "source": [
        "x = int(input('enter 1st side '))\n",
        "y = int(input('enter 2nd side '))\n",
        "z = int(input('enter 3rd side '))\n",
        "if x == y :\n",
        "    if y == z:\n",
        "        if z==x:\n",
        "            print('equilateral')\n",
        "if x == y or y ==z or z==x:\n",
        "    if y != z or x!=z:\n",
        "        print('isosceles')\n",
        "else:\n",
        "    print('scalene')"
      ],
      "metadata": {
        "colab": {
          "base_uri": "https://localhost:8080/"
        },
        "id": "VewjD7RprZTG",
        "outputId": "cabd47ab-54ca-4743-ad82-a1cb5c56e55b"
      },
      "execution_count": 217,
      "outputs": [
        {
          "output_type": "stream",
          "name": "stdout",
          "text": [
            "enter 1st side 44\n",
            "enter 2nd side 34\n",
            "enter 3rd side 44\n",
            "isosceles\n"
          ]
        }
      ]
    },
    {
      "cell_type": "markdown",
      "source": [
        "13. Develop a program that checks if a year is a leap year and also if it is a century year."
      ],
      "metadata": {
        "id": "H0V17o7hr4xO"
      }
    },
    {
      "cell_type": "code",
      "source": [
        "year = int(input('enter the year: '))\n",
        "if year % 4 == 0:\n",
        "    if year % 100 != 0 or year % 400 == 0:\n",
        "        print('leap year')\n",
        "else:\n",
        "    print('not a leap year')"
      ],
      "metadata": {
        "colab": {
          "base_uri": "https://localhost:8080/"
        },
        "id": "WytqgXtJrxO1",
        "outputId": "fdbe83f6-fcf0-440e-98af-211989b4cb8c"
      },
      "execution_count": 218,
      "outputs": [
        {
          "output_type": "stream",
          "name": "stdout",
          "text": [
            "enter the year: 2024\n",
            "leap year\n"
          ]
        }
      ]
    },
    {
      "cell_type": "markdown",
      "source": [
        "14. Write a Python script to determine if a number is positive, negative, or zero."
      ],
      "metadata": {
        "id": "Mvng0Tpesh5o"
      }
    },
    {
      "cell_type": "code",
      "source": [
        "n = int(input('enter the num: '))\n",
        "if n >= 0:\n",
        "    if n == 0:\n",
        "        print(\"The number is zero.\")\n",
        "    else:\n",
        "        print(\"The number is positive.\")\n",
        "else:\n",
        "    print(\"The number is negative.\")"
      ],
      "metadata": {
        "colab": {
          "base_uri": "https://localhost:8080/"
        },
        "id": "W7S6_mXssc8z",
        "outputId": "0280e9d7-dd10-4b7a-80c4-04a34e476126"
      },
      "execution_count": 223,
      "outputs": [
        {
          "output_type": "stream",
          "name": "stdout",
          "text": [
            "enter the num: -77\n",
            "The number is negative.\n"
          ]
        }
      ]
    },
    {
      "cell_type": "markdown",
      "source": [
        "15. Create a program to check if a person is a teenager (between 13 and 19 years old)."
      ],
      "metadata": {
        "id": "siiNNz7ntUU6"
      }
    },
    {
      "cell_type": "code",
      "source": [
        "age=int(input('enter the age '))\n",
        "if age>=13:\n",
        "  if age<=19:\n",
        "    print('person is teenager')\n",
        "  else:\n",
        "    print('person is above 19')\n",
        "else:\n",
        "  print('person is below 13')"
      ],
      "metadata": {
        "colab": {
          "base_uri": "https://localhost:8080/"
        },
        "id": "iPWbXiR5su5Z",
        "outputId": "36bca9d7-e7d1-4007-b555-5536e701d0ce"
      },
      "execution_count": 226,
      "outputs": [
        {
          "output_type": "stream",
          "name": "stdout",
          "text": [
            "enter the age 19\n",
            "person is teenager\n"
          ]
        }
      ]
    },
    {
      "cell_type": "markdown",
      "source": [
        "16. Develop a program that determines the type of angle based on its measure (acute, obtuse, or right).\n",
        "\n",
        "\n",
        "\n"
      ],
      "metadata": {
        "id": "wplVC_WKv5IY"
      }
    },
    {
      "cell_type": "code",
      "source": [
        "angle=int(input('enter the angle: '))\n",
        "if angle>=90:\n",
        "  if angle>90:\n",
        "    print('angle is obtuse')\n",
        "  else:\n",
        "    print('angle is right angle')\n",
        "else:\n",
        "  print('angle is acute')"
      ],
      "metadata": {
        "colab": {
          "base_uri": "https://localhost:8080/"
        },
        "id": "7VlbJy1NviBD",
        "outputId": "1cf2e1de-7a20-42b2-fbd6-536d0971fb82"
      },
      "execution_count": 227,
      "outputs": [
        {
          "output_type": "stream",
          "name": "stdout",
          "text": [
            "enter the angle: 75\n",
            "angle is acute\n"
          ]
        }
      ]
    },
    {
      "cell_type": "markdown",
      "source": [
        "17. Write a Python program to calculate the roots of a quadratic equation."
      ],
      "metadata": {
        "id": "YLIMZgm20jMv"
      }
    },
    {
      "cell_type": "code",
      "source": [
        "a = float(input(\"Enter a: \"))\n",
        "b = float(input(\"Enter b: \"))\n",
        "c = float(input(\"Enter c: \"))\n",
        "if a != 0:\n",
        "    d = b*b - 4*a*c\n",
        "    if d > 0:         #d > 0, it calculates two real, different roots\n",
        "        root1 = (-b + (d)**0.5) / (2*a)\n",
        "        root2 = (-b - (d)**0.5) / (2*a)\n",
        "        print(\"Root 1 =\", root1)\n",
        "        print(\"Root 2 =\", root2)\n",
        "    else:\n",
        "        if d == 0:     # d == 0, it calculates one real, repeated root\n",
        "            root = -b / (2*a)\n",
        "            print(\"Root 1 = Root 2 =\", root)"
      ],
      "metadata": {
        "id": "kBPlNYfh0TtW"
      },
      "execution_count": null,
      "outputs": []
    },
    {
      "cell_type": "markdown",
      "source": [
        "18. Implement a program to determine the day of the week based on a user-provided number (1 for Monday, 2\n",
        "for Tuesday, etc.).\n",
        "\n"
      ],
      "metadata": {
        "id": "CBBpf1b91p9v"
      }
    },
    {
      "cell_type": "code",
      "source": [
        "d = int(input('INSERT THE WEEK '))\n",
        "if d >1:\n",
        "  if d>2:\n",
        "    if d>3:\n",
        "      if d>4:\n",
        "        if d>5:\n",
        "          if d>6:\n",
        "            if d>7:\n",
        "              if d>=8:\n",
        "                print(\"Invalid input\")\n",
        "            else:\n",
        "              print(\"Sunday\")\n",
        "          else:\n",
        "            print(\"Saturday\")\n",
        "        else:\n",
        "          print(\"Friday\")\n",
        "      else:\n",
        "        print(\"Thursday\")\n",
        "    else:\n",
        "      print(\"Wednesday\")\n",
        "  else:\n",
        "    print(\"Tuesday\")\n",
        "else:\n",
        "  print(\"Monday\")\n"
      ],
      "metadata": {
        "colab": {
          "base_uri": "https://localhost:8080/"
        },
        "id": "m9c17thH1q8F",
        "outputId": "1ee15ee6-ce81-4b7d-b190-67a562eeb301"
      },
      "execution_count": 238,
      "outputs": [
        {
          "output_type": "stream",
          "name": "stdout",
          "text": [
            "INSERT THE WEEK 7\n",
            "Sunday\n"
          ]
        }
      ]
    },
    {
      "cell_type": "markdown",
      "source": [
        "19. Create a program that determines if a year is a leap year and also if it is evenly divisible by 400.\n"
      ],
      "metadata": {
        "id": "p58ig7cb7Dhj"
      }
    },
    {
      "cell_type": "code",
      "source": [
        "year = int(input('enter the year: '))\n",
        "if year % 4 == 0:\n",
        "    if year % 100 != 0 or year % 400 == 0:\n",
        "      if year % 400 == 0:\n",
        "        print('leap year and divisible by 400')\n",
        "      else:\n",
        "        print('leap year but not divisible by 400')\n",
        "    else:\n",
        "        print('not a leap year')\n",
        "else:\n",
        "    print('not a leap year')"
      ],
      "metadata": {
        "colab": {
          "base_uri": "https://localhost:8080/"
        },
        "id": "ZtgbB5xl6tIj",
        "outputId": "4e0e6898-0c75-4587-9f24-2ce2f8ff5f46"
      },
      "execution_count": 241,
      "outputs": [
        {
          "output_type": "stream",
          "name": "stdout",
          "text": [
            "enter the year: 2000\n",
            "leap year and divisible by 400\n"
          ]
        }
      ]
    },
    {
      "cell_type": "markdown",
      "source": [
        "20. Develop a program that checks if a given number is prime or not using nested if-else statements.\n"
      ],
      "metadata": {
        "id": "KJ_NC49k84W6"
      }
    },
    {
      "cell_type": "code",
      "source": [
        "n= int(input(\"Enter a number: \"))\n",
        "if n > 1:\n",
        "    for i in range(2, n):\n",
        "        if n % i == 0:\n",
        "            print(\"not a prime\")\n",
        "            break\n",
        "    else:\n",
        "        print(\"no. is prime\")\n",
        "else:\n",
        "    print(\"not a prime \")"
      ],
      "metadata": {
        "colab": {
          "base_uri": "https://localhost:8080/"
        },
        "id": "HaDKC2bE8hOA",
        "outputId": "460538c8-99da-4f1c-ea21-f7f7c2692692"
      },
      "execution_count": 246,
      "outputs": [
        {
          "output_type": "stream",
          "name": "stdout",
          "text": [
            "Enter a number: 7\n",
            "no. is prime\n"
          ]
        }
      ]
    },
    {
      "cell_type": "markdown",
      "source": [
        "21. Write a Python program to assign grades based on different ranges of scores using elif statements."
      ],
      "metadata": {
        "id": "Ypkv6GqRAIVS"
      }
    },
    {
      "cell_type": "code",
      "source": [
        "marks =int(input ('Enter the Marks '))\n",
        "\n",
        "if marks >=90 and marks <=100:\n",
        "    print ('A')\n",
        "elif marks >=80 and marks <90:\n",
        "    print('B')\n",
        "elif marks >=70 and marks <80:\n",
        "    print('C')\n",
        "elif marks >=60 and marks <70:\n",
        "    print('D')\n",
        "elif marks >=50 and marks <60:\n",
        "    print('Average')\n",
        "else:\n",
        "    print('Poor')"
      ],
      "metadata": {
        "colab": {
          "base_uri": "https://localhost:8080/"
        },
        "id": "7rK8j48P9n9m",
        "outputId": "78f79bde-8b1e-439a-bdb7-102f4978a0c4"
      },
      "execution_count": 248,
      "outputs": [
        {
          "output_type": "stream",
          "name": "stdout",
          "text": [
            "Enter the Marks 77\n",
            "C\n"
          ]
        }
      ]
    },
    {
      "cell_type": "markdown",
      "source": [
        "22. Implement a program to determine the type of a triangle based on its angles.\n"
      ],
      "metadata": {
        "id": "BaLDMcW4Ap5A"
      }
    },
    {
      "cell_type": "code",
      "source": [
        "angle=int(input('enter the angle: '))\n",
        "if angle>0 and angle<90:\n",
        "  print('angle is acute')\n",
        "elif angle==90:\n",
        "  print('angle is right angle')\n",
        "elif angle>90 and angle<180:\n",
        "  print('angle is obtuse')"
      ],
      "metadata": {
        "colab": {
          "base_uri": "https://localhost:8080/"
        },
        "id": "_cw4uIWwAbd6",
        "outputId": "a6e99570-e8b7-4ddb-c5cd-7a4fdf2f2353"
      },
      "execution_count": 249,
      "outputs": [
        {
          "output_type": "stream",
          "name": "stdout",
          "text": [
            "enter the angle: 65\n",
            "angle is acute\n"
          ]
        }
      ]
    },
    {
      "cell_type": "markdown",
      "source": [
        "23. Develop a program to categorize a given person's BMI into underweight, normal, overweight, or obese using"
      ],
      "metadata": {
        "id": "q1JbVKtUBJQ0"
      }
    },
    {
      "cell_type": "code",
      "source": [
        "w = float(input(\"Enter your weight in kg: \"))\n",
        "h = float(input(\"Enter your height in meters: \"))\n",
        "bmi = w / (h ** 2)\n",
        "if bmi < 18.5:\n",
        "    print(\"Underweight\")\n",
        "elif 18.5 <= bmi < 24.9:\n",
        "    print(\"Normal weight\")\n",
        "elif 25 <= bmi < 29.9:\n",
        "    print(\"Overweight\")\n",
        "else:\n",
        "    print(\"Obese\")"
      ],
      "metadata": {
        "colab": {
          "base_uri": "https://localhost:8080/"
        },
        "id": "-Qm6Ccy_A_Pz",
        "outputId": "4c3d8cd3-7c54-418a-a3f3-17499643ba74"
      },
      "execution_count": 252,
      "outputs": [
        {
          "output_type": "stream",
          "name": "stdout",
          "text": [
            "Enter your weight in kg: 70\n",
            "Enter your height in meters: 1.7\n",
            "Normal weight\n"
          ]
        }
      ]
    },
    {
      "cell_type": "markdown",
      "source": [
        "24. Create a program that determines whether a given number is positive, negative, or zero using elif"
      ],
      "metadata": {
        "id": "7v3JRxRaKZhe"
      }
    },
    {
      "cell_type": "code",
      "source": [
        "n=int(input(\"enter a no.\"))\n",
        "if n==0:\n",
        "  print(\"given no. is 0\")\n",
        "elif n>0:\n",
        "    print(\"given no. is positive\")\n",
        "else:\n",
        "    print(\"given no. is negative\")"
      ],
      "metadata": {
        "colab": {
          "base_uri": "https://localhost:8080/"
        },
        "id": "GAu4IA7jBqYb",
        "outputId": "b89c5aac-5fbf-4092-bb88-56682d7e890c"
      },
      "execution_count": 3,
      "outputs": [
        {
          "output_type": "stream",
          "name": "stdout",
          "text": [
            "enter a no.7\n",
            "given no. is positive\n"
          ]
        }
      ]
    },
    {
      "cell_type": "markdown",
      "source": [
        "25. Write a Python script to determine the type of a character (uppercase, lowercase, or special) using elif\n",
        "statements.\n"
      ],
      "metadata": {
        "id": "3CMwBoEGKnOx"
      }
    },
    {
      "cell_type": "code",
      "source": [
        "a = input('enter a character ')\n",
        "if a >='a' and a <='z':\n",
        "    print('Lowercase Character')\n",
        "elif a >='A' and a <='Z':\n",
        "    print('Uppercase Character')\n",
        "else:\n",
        "    print('Special Character')"
      ],
      "metadata": {
        "colab": {
          "base_uri": "https://localhost:8080/"
        },
        "id": "Kor-t_aTMi82",
        "outputId": "5eec269a-01ff-4260-a313-ae6e3df8b8f7"
      },
      "execution_count": 1,
      "outputs": [
        {
          "output_type": "stream",
          "name": "stdout",
          "text": [
            "enter a character 6\n",
            "Special Character\n"
          ]
        }
      ]
    },
    {
      "cell_type": "markdown",
      "source": [
        "26. Implement a program to calculate the discounted price based on different purchase amounts using elif\n",
        "statements.\n"
      ],
      "metadata": {
        "id": "yJn1hMs9L13j"
      }
    },
    {
      "cell_type": "code",
      "source": [
        "amount = float(input(\"Enter the purchase amount: \"))\n",
        "\n",
        "if amount < 100:\n",
        "    dp = 0                                       # dp = discount percentage\n",
        "elif amount < 200:\n",
        "    dp = 5\n",
        "elif amount < 300:\n",
        "    dp = 10\n",
        "else:\n",
        "    dp = 15\n",
        "\n",
        "da = amount * (dp / 100)                         #da= discount amount\n",
        "discount_price = amount - da\n",
        "\n",
        "print(\"The discounted price is:\", discount_price)"
      ],
      "metadata": {
        "colab": {
          "base_uri": "https://localhost:8080/"
        },
        "id": "6wjTTzVCLupr",
        "outputId": "ccfc4d26-2217-47bc-e1d0-e8c48e492e8e"
      },
      "execution_count": 3,
      "outputs": [
        {
          "output_type": "stream",
          "name": "stdout",
          "text": [
            "Enter the purchase amount: 250\n",
            "The discounted price is: 225.0\n"
          ]
        }
      ]
    },
    {
      "cell_type": "code",
      "source": [],
      "metadata": {
        "id": "2ptyHmsfUmUe"
      },
      "execution_count": null,
      "outputs": []
    }
  ]
}