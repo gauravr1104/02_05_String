{
  "nbformat": 4,
  "nbformat_minor": 0,
  "metadata": {
    "colab": {
      "provenance": [],
      "authorship_tag": "ABX9TyMB4Oc/dFW0dzOepPUM7Xyk",
      "include_colab_link": true
    },
    "kernelspec": {
      "name": "python3",
      "display_name": "Python 3"
    },
    "language_info": {
      "name": "python"
    }
  },
  "cells": [
    {
      "cell_type": "markdown",
      "metadata": {
        "id": "view-in-github",
        "colab_type": "text"
      },
      "source": [
        "<a href=\"https://colab.research.google.com/github/gauravr1104/Frisson_Assignment/blob/main/08_05_Function.ipynb\" target=\"_parent\"><img src=\"https://colab.research.google.com/assets/colab-badge.svg\" alt=\"Open In Colab\"/></a>"
      ]
    },
    {
      "cell_type": "markdown",
      "source": [
        "17.Accept a string as input. Your task is to determine if the input string is a valid password or not. For a string to be a valid password, it must satisfy all the conditions given below:\n",
        "\n",
        "(1) It should have at least 8 and at most 32 characters\n",
        "\n",
        "(2) It should start with an uppercase or lowercase letter\n",
        "\n",
        "(3) It should not have any of these characters: / \\ = ' \"\n",
        "\n",
        "(4) It should not have spaces\n",
        "\n",
        "It could have any character that is not mentioned in the list of characters to be avoided"
      ],
      "metadata": {
        "id": "dS8QQPkW1RL2"
      }
    },
    {
      "cell_type": "code",
      "execution_count": 2,
      "metadata": {
        "colab": {
          "base_uri": "https://localhost:8080/",
          "height": 52
        },
        "id": "eMHex9ZX0lkH",
        "outputId": "29bd6f03-a627-4787-aaab-6c71c4fa2450"
      },
      "outputs": [
        {
          "name": "stdout",
          "output_type": "stream",
          "text": [
            "enter a password Gaurav2004=\n"
          ]
        },
        {
          "output_type": "execute_result",
          "data": {
            "text/plain": [
              "' invalid password , remove special character\\'/\\\\=\\'\" and the suggested passwerd is m19I9ndI'"
            ],
            "application/vnd.google.colaboratory.intrinsic+json": {
              "type": "string"
            }
          },
          "metadata": {},
          "execution_count": 2
        }
      ],
      "source": [
        "import string\n",
        "import random\n",
        "def suggest_password():\n",
        "    while True:\n",
        "      a=random.choices(string.ascii_letters + string.digits, k=8)\n",
        "      a=''.join(a)\n",
        "      if a[0].isalpha(): #it return that password that start with alphabet\n",
        "        return(a)\n",
        "def password(pass_word):\n",
        "  if 8<=len(pass_word)<=32:\n",
        "    if 'a'<=pass_word[0]<='z' or 'A'<=pass_word[0]<='Z':\n",
        "      if '/' not in pass_word and '\\\\' not in pass_word and '=' not in pass_word and \"'\" not in pass_word and '\"' not in pass_word and ' ' not in pass_word:\n",
        "        return \"valid password \"\n",
        "      else:\n",
        "        return \" invalid password , remove special character'/\\='\\\" and the suggested passwerd is \"+suggest_password()\n",
        "    else:\n",
        "      return \"invalid password, use alphabet as first character and the suggested passwerd is \"+suggest_password()\n",
        "  else:\n",
        "    return \"invalid passwrod , password should have minimum 8 character or maximum 32 character and the suggested password is \"+suggest_password()\n",
        "\n",
        "\n",
        "pass_word=input(\"enter a password \")\n",
        "password(pass_word)"
      ]
    },
    {
      "cell_type": "code",
      "source": [],
      "metadata": {
        "id": "5pVDXQe80vgG"
      },
      "execution_count": null,
      "outputs": []
    }
  ]
}