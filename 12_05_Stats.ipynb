{
  "nbformat": 4,
  "nbformat_minor": 0,
  "metadata": {
    "colab": {
      "provenance": [],
      "authorship_tag": "ABX9TyPGxvmjijXV7hdIz84iwscx",
      "include_colab_link": true
    },
    "kernelspec": {
      "name": "python3",
      "display_name": "Python 3"
    },
    "language_info": {
      "name": "python"
    }
  },
  "cells": [
    {
      "cell_type": "markdown",
      "metadata": {
        "id": "view-in-github",
        "colab_type": "text"
      },
      "source": [
        "<a href=\"https://colab.research.google.com/github/gauravr1104/Frisson_Assignment/blob/main/12_05_Stats.ipynb\" target=\"_parent\"><img src=\"https://colab.research.google.com/assets/colab-badge.svg\" alt=\"Open In Colab\"/></a>"
      ]
    },
    {
      "cell_type": "markdown",
      "source": [
        "Q= Generate a list of 100 integers containing values between 90 to 130 and store it in the variable `int_list`. After generating the list, find the following:    \n",
        "\n",
        " (i) Write a Python function to calculate the mean of a given list of numbers. Create a function to find the median of a list of numbers.      \n",
        "(ii) Develop a program to compute the mode of a list of integers.    \n",
        "(iii) Implement a function to calculate the weighted mean of a list of values and their corresponding weights.\n",
        "(iv) Write a Python function to find the geometric mean of a list of positive numbers.      \n",
        "(v) Create a program to calculate the harmonic mean of a list of values.      \n",
        "(vi) Build a function to determine the midrange of a list of numbers (average of the minimum and maximum).     \n",
        " (vii) Implement a Python program to find the trimmed mean of a list, excluding a certain percentage of outliers.\n",
        "\n",
        " 2. Generate a list of 500 integers containing values between 200 to 300 and store it in the variable `int_list2`. After generating the list, find the following:   \n",
        "(i) Compare the given list of visualization for the given data:          1. Frequency & Gaussian distribution     2. Frequency smoothened KDE plot     3. Gaussian distribution & smoothened KDE plot   \n",
        "(ii) Write a Python function to calculate the range of a given list of numbers.   \n",
        "(iii) Create a program to find the variance and standard deviation of a list of numbers.   \n",
        "(iv) Implement a function to compute the interquartile range (IQR) of a list of values.   \n",
        "(v) Build a program to calculate the coefficient of variation for a dataset.      \n",
        "(vi) Write a Python function to find the mean absolute deviation (MAD) of a list of numbers.  \n",
        " (vii) Create a program to calculate the quartile deviation of a list of values.      \n",
        "(viii) Implement a function to find the range-based coefficient of dispersion for a dataset.\n",
        "\n",
        "3. Write a Python class representing a discrete random variable with methods to calculate its expected  value and variance.\n",
        "\n",
        "4. Implement a program to simulate the rolling of a fair six-sided die and calculate the expected value and variance of the outcomes.\n",
        "\n",
        "5. Create a Python function to generate random samples from a given probability distribution (e.g., binomial, Poisson) and calculate their mean and variance.\n",
        "\n",
        "6. Write a Python script to generate random numbers from a Gaussian (normal) distribution and compute the mean, variance, and standard deviation of the samples.\n",
        "\n",
        "7.  Use seaborn library to load tips dataset. Find the following from the dataset for the columns total_bill and tip`:\n",
        "\n",
        " (i) Write a Python function that calculates their skewness.   \n",
        "\n",
        "(ii) Create a program that determines whether the columns exhibit positive skewness, negative skewness, or is approximately symmetric.   \n",
        "\n",
        "(iii) Write a function that calculates the covariance between two columns.  \n",
        "\n",
        "(iv) Implement a Python program that calculates the Pearson correlation coefficient between two columns.\n",
        "  \n",
        "(v) Write a script to visualize the correlation between two specific columns in a Pandas DataFrame using scatter plots.\n",
        "\n",
        "\n",
        "8 . Write a Python function to calculate the probability density function (PDF) of a continuous random variable for a given normal distribution.\n",
        "\n",
        "9. Create a program to calculate the cumulative distribution function (CDF) of exponential distribution.\n",
        "\n",
        "10.Write a Python function to calculate the probability mass function (PMF) of Poisson distribution.\n"
      ],
      "metadata": {
        "id": "bjK9c3lbamdK"
      }
    },
    {
      "cell_type": "markdown",
      "source": [
        "Q= Generate a list of 100 integers containing values between 90 to 130 and store it in the variable `int_list`. After generating the list, find the following:    \n",
        "\n",
        "(i) Write a Python function to calculate the mean of a given list of numbers. Create a function to find the median of a list of numbers.      \n",
        "(ii) Develop a program to compute the mode of a list of integers.    \n",
        "(iii) Implement a function to calculate the weighted mean of a list of values and their corresponding weights.\n",
        "(iv) Write a Python function to find the geometric mean of a list of positive numbers.      \n",
        "(v) Create a program to calculate the harmonic mean of a list of values.      \n",
        "(vi) Build a function to determine the midrange of a list of numbers (average of the minimum and maximum).     \n",
        "(vii) Implement a Python program to find the trimmed mean of a list, excluding a certain percentage of outliers.\n"
      ],
      "metadata": {
        "id": "aAdNOA-Yauap"
      }
    },
    {
      "cell_type": "code",
      "execution_count": 9,
      "metadata": {
        "colab": {
          "base_uri": "https://localhost:8080/"
        },
        "id": "FG-FthC4agbL",
        "outputId": "843fb2be-5b5a-423e-a796-a80680819382"
      },
      "outputs": [
        {
          "output_type": "stream",
          "name": "stdout",
          "text": [
            "[98, 112, 97, 98, 100, 119, 104, 119, 111, 104, 126, 122, 130, 97, 104, 116, 104, 103, 113, 95, 93, 91, 115, 100, 130, 112, 110, 96, 120, 106, 113, 131, 126, 116, 126, 121, 130, 115, 125, 121, 114, 97, 95, 91, 97, 119, 118, 114, 115, 114, 111, 121, 108, 111, 108, 113, 116, 99, 124, 96, 93, 129, 104, 113, 121, 115, 128, 124, 110, 109, 106, 107, 122, 123, 103, 100, 93, 117, 99, 118, 97, 114, 104, 94, 92, 131, 107, 105, 90, 121, 114, 126, 117, 122, 102, 110, 125, 114, 131, 128]"
          ]
        }
      ],
      "source": [
        "import random\n",
        "a=[]\n",
        "for i in range(0,100):\n",
        "  a.append(random.randint(90,131))\n",
        "print(a,end=\"\")"
      ]
    },
    {
      "cell_type": "code",
      "source": [
        "#(i)\n",
        "def mean(list):\n",
        "    return sum(list)/len(list)\n",
        "print(mean(a))\n",
        "\n",
        "def median(list):\n",
        "  if len(list)/2 != 0:\n",
        "    return list[len(list)//2]\n",
        "  else:\n",
        "    avg= list[len(list)//2] + list[(len(list)//2)+1]\n",
        "    return avg/2\n",
        "print(median(a))"
      ],
      "metadata": {
        "colab": {
          "base_uri": "https://localhost:8080/"
        },
        "id": "tgFEwn63bRHy",
        "outputId": "a0e35cd2-0fb8-40db-96e3-cbfed2cad665"
      },
      "execution_count": 19,
      "outputs": [
        {
          "output_type": "stream",
          "name": "stdout",
          "text": [
            "111.28\n",
            "111\n"
          ]
        }
      ]
    },
    {
      "cell_type": "code",
      "source": [
        "# (ii)\n",
        "def mode(list):\n",
        "  count = 0\n",
        "  for i in list:\n",
        "    if count==0:\n",
        "      count = list.count(i)\n",
        "    if list.count(i)>count:\n",
        "      count = list.count(i)\n",
        "      b = i\n",
        "  return f'the Mode is {b}'\n",
        "\n",
        "mode(a)\n"
      ],
      "metadata": {
        "colab": {
          "base_uri": "https://localhost:8080/",
          "height": 35
        },
        "id": "IideQ7FVcrNZ",
        "outputId": "86a9b1e4-bb08-4b19-cbbc-4afe270f4cd4"
      },
      "execution_count": 27,
      "outputs": [
        {
          "output_type": "execute_result",
          "data": {
            "text/plain": [
              "'the Mode is 104'"
            ],
            "application/vnd.google.colaboratory.intrinsic+json": {
              "type": "string"
            }
          },
          "metadata": {},
          "execution_count": 27
        }
      ]
    },
    {
      "cell_type": "code",
      "source": [
        "#(iii)\n",
        "dict = {}\n",
        "for i in a:\n",
        "  if i not in dict:\n",
        "    dict[i] = a.count(i)\n",
        "ksum = 0\n",
        "vsum = 0\n",
        "for key,value in dict.items():\n",
        "  ksum += key*value\n",
        "  vsum += value\n",
        "wm = ksum/vsum\n",
        "print(f'the weghted mean is : {wm}')"
      ],
      "metadata": {
        "colab": {
          "base_uri": "https://localhost:8080/"
        },
        "id": "uNKDa38TjLD8",
        "outputId": "117914ad-1026-456f-c34c-040583261441"
      },
      "execution_count": 30,
      "outputs": [
        {
          "output_type": "stream",
          "name": "stdout",
          "text": [
            "the weghted mean is : 111.28\n"
          ]
        }
      ]
    },
    {
      "cell_type": "code",
      "source": [
        "#(iv)\n",
        "def geometric_mean(list):\n",
        "  product = 1\n",
        "  for num in list:\n",
        "       product *= num\n",
        "\n",
        "  return product ** (1 / len(a))\n",
        "geometric_mean(a)"
      ],
      "metadata": {
        "colab": {
          "base_uri": "https://localhost:8080/"
        },
        "id": "K7wt0pMFwKuT",
        "outputId": "dd09a4ac-552b-4289-b0db-3aece08307b3"
      },
      "execution_count": 32,
      "outputs": [
        {
          "output_type": "execute_result",
          "data": {
            "text/plain": [
              "110.69229122466601"
            ]
          },
          "metadata": {},
          "execution_count": 32
        }
      ]
    },
    {
      "cell_type": "code",
      "source": [
        "#(v)\n",
        "def harmonic_mean(list):\n",
        "  s = 0\n",
        "  for i in list:\n",
        "    s += 1/i\n",
        "  return len(list)/s\n",
        "harmonic_mean(a)"
      ],
      "metadata": {
        "colab": {
          "base_uri": "https://localhost:8080/"
        },
        "id": "niwIIraRwcOT",
        "outputId": "d046ae78-fabe-4c5c-cd0b-7f4614dfd85f"
      },
      "execution_count": 35,
      "outputs": [
        {
          "output_type": "execute_result",
          "data": {
            "text/plain": [
              "110.09848910642263"
            ]
          },
          "metadata": {},
          "execution_count": 35
        }
      ]
    },
    {
      "cell_type": "code",
      "source": [
        "#(vi)\n",
        "def midrange(list):\n",
        "    minimum = min(list)\n",
        "    maximum = max(list)\n",
        "    return (minimum + maximum) / 2\n",
        "midrange(a)"
      ],
      "metadata": {
        "colab": {
          "base_uri": "https://localhost:8080/"
        },
        "id": "B32t7FPD4Ljy",
        "outputId": "dde6facc-3b8a-4224-8228-2a109fec0694"
      },
      "execution_count": 39,
      "outputs": [
        {
          "output_type": "execute_result",
          "data": {
            "text/plain": [
              "110.5"
            ]
          },
          "metadata": {},
          "execution_count": 39
        }
      ]
    },
    {
      "cell_type": "code",
      "source": [
        "#(vii)\n",
        "def trim_mean(list):\n",
        "  list.sort()\n",
        "  t = int(input('enter the trim percent'))\n",
        "  sum =0\n",
        "  tp = (t//len(list)) *100\n",
        "\n",
        "  for i in range(0,tp+1):\n",
        "    list.remove(list[i])\n",
        "    list.pop()\n",
        "  for i in list:\n",
        "    sum += i\n",
        "  return sum/len(list)\n",
        "trim_mean(a)"
      ],
      "metadata": {
        "colab": {
          "base_uri": "https://localhost:8080/"
        },
        "id": "YpNN4ddnyPpt",
        "outputId": "6aff147e-0dfc-429f-85c9-5029515286d7"
      },
      "execution_count": 40,
      "outputs": [
        {
          "name": "stdout",
          "output_type": "stream",
          "text": [
            "enter the trim percent10\n"
          ]
        },
        {
          "output_type": "execute_result",
          "data": {
            "text/plain": [
              "111.29591836734694"
            ]
          },
          "metadata": {},
          "execution_count": 40
        }
      ]
    },
    {
      "cell_type": "code",
      "source": [],
      "metadata": {
        "id": "rkcyIPk63ZbE"
      },
      "execution_count": null,
      "outputs": []
    }
  ]
}