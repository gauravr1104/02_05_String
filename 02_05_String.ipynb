{
  "nbformat": 4,
  "nbformat_minor": 0,
  "metadata": {
    "colab": {
      "provenance": [],
      "toc_visible": true,
      "authorship_tag": "ABX9TyN0qMUhbMd7wCFL3mL3PgIv",
      "include_colab_link": true
    },
    "kernelspec": {
      "name": "python3",
      "display_name": "Python 3"
    },
    "language_info": {
      "name": "python"
    }
  },
  "cells": [
    {
      "cell_type": "markdown",
      "metadata": {
        "id": "view-in-github",
        "colab_type": "text"
      },
      "source": [
        "<a href=\"https://colab.research.google.com/github/gauravr1104/02_05_String/blob/main/02_05_String.ipynb\" target=\"_parent\"><img src=\"https://colab.research.google.com/assets/colab-badge.svg\" alt=\"Open In Colab\"/></a>"
      ]
    },
    {
      "cell_type": "markdown",
      "source": [
        "1. Declare two variables, x and y, and assign them integer values. Swap the\n",
        "values of these variables without using any temporary variable.\n"
      ],
      "metadata": {
        "id": "NUU9wlRXUQIV"
      }
    },
    {
      "cell_type": "code",
      "execution_count": 1,
      "metadata": {
        "id": "-zXyYYcOLvfH",
        "colab": {
          "base_uri": "https://localhost:8080/"
        },
        "outputId": "ba8e3a56-f886-417c-e3ff-c33c7092c2b8"
      },
      "outputs": [
        {
          "output_type": "stream",
          "name": "stdout",
          "text": [
            "4\n",
            "5\n"
          ]
        }
      ],
      "source": [
        "#swaping the 2 numbers\n",
        "x=5\n",
        "y=4\n",
        "x,y=y,x\n",
        "print(x)\n",
        "print(y)\n",
        "\n"
      ]
    },
    {
      "cell_type": "markdown",
      "source": [
        "2. Create a program that calculates the area of a rectangle. Take the length and width as inputs from the user and store them in variables. Calculate and display the area."
      ],
      "metadata": {
        "id": "p_k1oO5gUZHs"
      }
    },
    {
      "cell_type": "code",
      "source": [
        "#Area of Rectangle\n",
        "l= int(input(\"Enter the Length \"))\n",
        "w= int(input(\"Enter the Width \"))\n",
        "a=l*w\n",
        "print(f\"Area of Rectangle is {a}\")"
      ],
      "metadata": {
        "id": "ZoUC_yW6Ok7_",
        "colab": {
          "base_uri": "https://localhost:8080/"
        },
        "outputId": "3c11174d-a27b-4281-e357-1333dccdaf58"
      },
      "execution_count": 2,
      "outputs": [
        {
          "output_type": "stream",
          "name": "stdout",
          "text": [
            "Enter the Length 4\n",
            "Enter the Width 5\n",
            "Area of Rectangle is 20\n"
          ]
        }
      ]
    },
    {
      "cell_type": "markdown",
      "source": [
        "3. Write a Python program that converts temperatures from Celsius to\n",
        "Fahrenheit. Take the temperature in Celsius as input, store it in a variable, convert it to Fahrenheit, and display"
      ],
      "metadata": {
        "id": "DGGRHBaJUj17"
      }
    },
    {
      "cell_type": "code",
      "source": [
        "\n",
        "c = float(input(\"Enter the Temperature in Celsius \"))\n",
        "f = (c*9/5)+32\n",
        "print(f\"Temperature in Fahrenheit is {f}\")"
      ],
      "metadata": {
        "colab": {
          "base_uri": "https://localhost:8080/"
        },
        "id": "hAX3lbXGOqQP",
        "outputId": "bdaf7274-bec5-4167-f7e5-75e0b40449a8"
      },
      "execution_count": 3,
      "outputs": [
        {
          "output_type": "stream",
          "name": "stdout",
          "text": [
            "Enter the Temperature in Celsius 0\n",
            "Temperature in Fahrenheit is 32.0\n"
          ]
        }
      ]
    },
    {
      "cell_type": "markdown",
      "source": [
        "Custom Upper()\n"
      ],
      "metadata": {
        "id": "r-_HsLpmLqRJ"
      }
    },
    {
      "cell_type": "code",
      "source": [
        "def up(string):\n",
        "  x=\"\"\n",
        "  for i in string:\n",
        "    if 'a'<=i<='z':\n",
        "      x+=chr(ord(i)-32)\n",
        "    else:\n",
        "      x+=i\n",
        "  return x\n",
        "\n",
        "a= input(\"enter a string\")\n",
        "print(up(a))"
      ],
      "metadata": {
        "colab": {
          "base_uri": "https://localhost:8080/"
        },
        "id": "kXgymWjkzPxl",
        "outputId": "01b0fa72-75c3-4787-95fb-7ecc10620ebb"
      },
      "execution_count": 14,
      "outputs": [
        {
          "output_type": "stream",
          "name": "stdout",
          "text": [
            "enter a stringgaurav\n",
            "GAURAV\n"
          ]
        }
      ]
    },
    {
      "cell_type": "markdown",
      "source": [
        "Custom Lower()\n"
      ],
      "metadata": {
        "id": "pT6YanRRQM6O"
      }
    },
    {
      "cell_type": "code",
      "source": [
        "def low(string):\n",
        "  x=\"\"\n",
        "  for i in string:\n",
        "    if 'A'<=i<='Z':\n",
        "      x+=chr(ord(i)+32)\n",
        "    else:\n",
        "      x+=i\n",
        "  return x\n",
        "\n",
        "a= input(\"enter a string\")\n",
        "print(low(a))"
      ],
      "metadata": {
        "colab": {
          "base_uri": "https://localhost:8080/"
        },
        "id": "0OASNZsmQPBS",
        "outputId": "9d805d75-c04c-477f-d77f-ad448adaa10e"
      },
      "execution_count": 15,
      "outputs": [
        {
          "output_type": "stream",
          "name": "stdout",
          "text": [
            "enter a stringGAURAV\n",
            "gaurav\n"
          ]
        }
      ]
    },
    {
      "cell_type": "markdown",
      "source": [
        "Custom Split()\n"
      ],
      "metadata": {
        "id": "G1QqQYxOSHe-"
      }
    },
    {
      "cell_type": "code",
      "source": [
        "def spl(st):\n",
        "  l=[]\n",
        "  x=\"\"\n",
        "  for i in st:\n",
        "    if i != \" \":\n",
        "      x+=i\n",
        "    else:\n",
        "      l.append(x)\n",
        "      x=\"\"\n",
        "  l.append(x)\n",
        "  return l\n",
        "a=input(\"enter a string\")\n",
        "print(spl(a))\n"
      ],
      "metadata": {
        "colab": {
          "base_uri": "https://localhost:8080/"
        },
        "id": "DfQ-x_ylSJXy",
        "outputId": "2fe3a43e-ccb6-4bd4-f231-2a252fdf6700"
      },
      "execution_count": 24,
      "outputs": [
        {
          "output_type": "stream",
          "name": "stdout",
          "text": [
            "enter a stringGaurav Singh Rawat\n",
            "['Gaurav', 'Singh', 'Rawat']\n"
          ]
        }
      ]
    },
    {
      "cell_type": "markdown",
      "source": [
        "Custom Strip ()\n"
      ],
      "metadata": {
        "id": "rgxSisitmOgM"
      }
    },
    {
      "cell_type": "code",
      "source": [
        "def strp(strng):\n",
        "    start = 0\n",
        "    end = len(strng) - 1\n",
        "    while strng[start] == \" \":\n",
        "        start += 1\n",
        "    while strng[end] == \" \":\n",
        "        end -= 1\n",
        "    return strng[start:end+1]\n",
        "\n",
        "a = input(\"Enter a string: \")\n",
        "print(strp(a))"
      ],
      "metadata": {
        "colab": {
          "base_uri": "https://localhost:8080/"
        },
        "id": "g018Ifr6hJ6E",
        "outputId": "f16e1918-27ce-421c-99ed-788b8999e57b"
      },
      "execution_count": 27,
      "outputs": [
        {
          "output_type": "stream",
          "name": "stdout",
          "text": [
            "Enter a string:    gaurav   \n",
            "gaurav\n"
          ]
        }
      ]
    },
    {
      "cell_type": "markdown",
      "source": [
        "Custom Replace()"
      ],
      "metadata": {
        "id": "tS5FlYQrqxs9"
      }
    },
    {
      "cell_type": "code",
      "source": [
        "def replace(strng,word,replace):\n",
        "  x=\"\"\n",
        "  for i in strng:\n",
        "    if i==word:\n",
        "      x += replace\n",
        "    else:\n",
        "      x+=i\n",
        "  return x\n",
        "a=input(\"enter a string\")\n",
        "w=input(\"enter a word\")\n",
        "r=input(\"enter a replace\")\n",
        "print(replace(a,w,r))\n"
      ],
      "metadata": {
        "colab": {
          "base_uri": "https://localhost:8080/"
        },
        "id": "QipLmQd0nLUz",
        "outputId": "e4675e9b-4b8e-4c54-fc47-9b8e9fcc727e"
      },
      "execution_count": 30,
      "outputs": [
        {
          "output_type": "stream",
          "name": "stdout",
          "text": [
            "enter a stringGaurav Rawat\n",
            "enter a wordG\n",
            "enter a replaceg\n",
            "gaurav Rawat\n"
          ]
        }
      ]
    }
  ]
}