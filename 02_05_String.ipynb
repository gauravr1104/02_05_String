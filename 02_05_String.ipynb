{
  "nbformat": 4,
  "nbformat_minor": 0,
  "metadata": {
    "colab": {
      "provenance": [],
      "toc_visible": true,
      "authorship_tag": "ABX9TyMo532vF++k+RjJvPsZXUEF",
      "include_colab_link": true
    },
    "kernelspec": {
      "name": "python3",
      "display_name": "Python 3"
    },
    "language_info": {
      "name": "python"
    }
  },
  "cells": [
    {
      "cell_type": "markdown",
      "metadata": {
        "id": "view-in-github",
        "colab_type": "text"
      },
      "source": [
        "<a href=\"https://colab.research.google.com/github/gauravr1104/02_05_String/blob/main/02_05_String.ipynb\" target=\"_parent\"><img src=\"https://colab.research.google.com/assets/colab-badge.svg\" alt=\"Open In Colab\"/></a>"
      ]
    },
    {
      "cell_type": "markdown",
      "source": [
        "1. Declare two variables, x and y, and assign them integer values. Swap the\n",
        "values of these variables without using any temporary variable.\n"
      ],
      "metadata": {
        "id": "NUU9wlRXUQIV"
      }
    },
    {
      "cell_type": "code",
      "execution_count": 1,
      "metadata": {
        "id": "-zXyYYcOLvfH",
        "colab": {
          "base_uri": "https://localhost:8080/"
        },
        "outputId": "ba8e3a56-f886-417c-e3ff-c33c7092c2b8"
      },
      "outputs": [
        {
          "output_type": "stream",
          "name": "stdout",
          "text": [
            "4\n",
            "5\n"
          ]
        }
      ],
      "source": [
        "#swaping the 2 numbers\n",
        "x=5\n",
        "y=4\n",
        "x,y=y,x\n",
        "print(x)\n",
        "print(y)\n",
        "\n"
      ]
    },
    {
      "cell_type": "markdown",
      "source": [
        "2. Create a program that calculates the area of a rectangle. Take the length and width as inputs from the user and store them in variables. Calculate and display the area."
      ],
      "metadata": {
        "id": "p_k1oO5gUZHs"
      }
    },
    {
      "cell_type": "code",
      "source": [
        "#Area of Rectangle\n",
        "l= int(input(\"Enter the Length \"))\n",
        "w= int(input(\"Enter the Width \"))\n",
        "a=l*w\n",
        "print(f\"Area of Rectangle is {a}\")"
      ],
      "metadata": {
        "id": "ZoUC_yW6Ok7_",
        "colab": {
          "base_uri": "https://localhost:8080/"
        },
        "outputId": "3c11174d-a27b-4281-e357-1333dccdaf58"
      },
      "execution_count": 2,
      "outputs": [
        {
          "output_type": "stream",
          "name": "stdout",
          "text": [
            "Enter the Length 4\n",
            "Enter the Width 5\n",
            "Area of Rectangle is 20\n"
          ]
        }
      ]
    },
    {
      "cell_type": "markdown",
      "source": [
        "3. Write a Python program that converts temperatures from Celsius to\n",
        "Fahrenheit. Take the temperature in Celsius as input, store it in a variable, convert it to Fahrenheit, and display"
      ],
      "metadata": {
        "id": "DGGRHBaJUj17"
      }
    },
    {
      "cell_type": "code",
      "source": [
        "\n",
        "c = float(input(\"Enter the Temperature in Celsius \"))\n",
        "f = (c*9/5)+32\n",
        "print(f\"Temperature in Fahrenheit is {f}\")"
      ],
      "metadata": {
        "colab": {
          "base_uri": "https://localhost:8080/"
        },
        "id": "hAX3lbXGOqQP",
        "outputId": "bdaf7274-bec5-4167-f7e5-75e0b40449a8"
      },
      "execution_count": 3,
      "outputs": [
        {
          "output_type": "stream",
          "name": "stdout",
          "text": [
            "Enter the Temperature in Celsius 0\n",
            "Temperature in Fahrenheit is 32.0\n"
          ]
        }
      ]
    },
    {
      "cell_type": "code",
      "source": [],
      "metadata": {
        "id": "kXgymWjkzPxl"
      },
      "execution_count": 5,
      "outputs": []
    }
  ]
}