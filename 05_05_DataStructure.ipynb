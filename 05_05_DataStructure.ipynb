{
  "nbformat": 4,
  "nbformat_minor": 0,
  "metadata": {
    "colab": {
      "provenance": [],
      "authorship_tag": "ABX9TyMfVtjp4nYgwYdfJQFZhnR8",
      "include_colab_link": true
    },
    "kernelspec": {
      "name": "python3",
      "display_name": "Python 3"
    },
    "language_info": {
      "name": "python"
    }
  },
  "cells": [
    {
      "cell_type": "markdown",
      "metadata": {
        "id": "view-in-github",
        "colab_type": "text"
      },
      "source": [
        "<a href=\"https://colab.research.google.com/github/gauravr1104/02_05_String/blob/main/05_05_DataStructure.ipynb\" target=\"_parent\"><img src=\"https://colab.research.google.com/assets/colab-badge.svg\" alt=\"Open In Colab\"/></a>"
      ]
    },
    {
      "cell_type": "markdown",
      "source": [
        "# **String**"
      ],
      "metadata": {
        "id": "EpUbb2kRa7Ry"
      }
    },
    {
      "cell_type": "markdown",
      "source": [
        "1. Write a program to reverse a string.\n",
        "\n"
      ],
      "metadata": {
        "id": "ZJgSeDxnbj1j"
      }
    },
    {
      "cell_type": "code",
      "execution_count": null,
      "metadata": {
        "colab": {
          "base_uri": "https://localhost:8080/"
        },
        "id": "JHkv-H-ja05-",
        "outputId": "fb116c87-5994-4d33-a2d2-15b1ee900725"
      },
      "outputs": [
        {
          "output_type": "stream",
          "name": "stdout",
          "text": [
            "enter the stringgaurav\n",
            "varuag\n"
          ]
        }
      ],
      "source": [
        "a=input(\"enter the string \")   #taking input from the user\n",
        "print(a[::-1])                #reversing the string using indexing and slicing\n"
      ]
    },
    {
      "cell_type": "markdown",
      "source": [
        "2. Check if a string is a palindrome."
      ],
      "metadata": {
        "id": "A_IInqW1b0dJ"
      }
    },
    {
      "cell_type": "code",
      "source": [
        "a=input(\"enter the string \")\n",
        "if a==a[::-1]:\n",
        "  print(\"palindrome\")\n",
        "else:\n",
        "  print(\"not palindrome\")"
      ],
      "metadata": {
        "colab": {
          "base_uri": "https://localhost:8080/"
        },
        "id": "_Z-k5wfobp8z",
        "outputId": "f4f711b4-f5b3-40f0-92a1-fda97491f213"
      },
      "execution_count": null,
      "outputs": [
        {
          "output_type": "stream",
          "name": "stdout",
          "text": [
            "enter the stringABBA\n",
            "palindrome\n"
          ]
        }
      ]
    },
    {
      "cell_type": "markdown",
      "source": [
        "3. Convert a string to uppercase."
      ],
      "metadata": {
        "id": "MdMP8suRcU-Q"
      }
    },
    {
      "cell_type": "code",
      "source": [
        "a=input(\"enter the string\")\n",
        "print(a.upper())"
      ],
      "metadata": {
        "colab": {
          "base_uri": "https://localhost:8080/"
        },
        "id": "S_dXn5QUcaSq",
        "outputId": "afbdc752-4586-473a-d283-427400b411cc"
      },
      "execution_count": null,
      "outputs": [
        {
          "output_type": "stream",
          "name": "stdout",
          "text": [
            "enter the stringgaurav\n",
            "GAURAV\n"
          ]
        }
      ]
    },
    {
      "cell_type": "markdown",
      "source": [
        "4. Convert a string to lowercase."
      ],
      "metadata": {
        "id": "rOm1MIUQci4W"
      }
    },
    {
      "cell_type": "code",
      "source": [
        "a=input(\"enter the string\")\n",
        "print(a.lower())\n"
      ],
      "metadata": {
        "colab": {
          "base_uri": "https://localhost:8080/"
        },
        "id": "wo6hbaNNcNeA",
        "outputId": "46fa6dc9-508f-4c98-ebb9-5af4e756eb17"
      },
      "execution_count": null,
      "outputs": [
        {
          "output_type": "stream",
          "name": "stdout",
          "text": [
            "enter the stringGAURAV\n",
            "gaurav\n"
          ]
        }
      ]
    },
    {
      "cell_type": "markdown",
      "source": [
        "5. Count the number of vowels in a string.\n"
      ],
      "metadata": {
        "id": "nofoWoLKdT6P"
      }
    },
    {
      "cell_type": "code",
      "source": [
        "a=input(\"enter the string \")\n",
        "count=0\n",
        "b=\"aeiou\"\n",
        "for i in a:\n",
        "  if i.lower() in b:\n",
        "    count+=1\n",
        "print(f\"the number of vowels are {count}\")\n"
      ],
      "metadata": {
        "colab": {
          "base_uri": "https://localhost:8080/"
        },
        "id": "j2yNTSLQclmL",
        "outputId": "13b4ad95-9c16-4c4c-c1ef-0132ab07fea3"
      },
      "execution_count": null,
      "outputs": [
        {
          "output_type": "stream",
          "name": "stdout",
          "text": [
            "enter the string aeioubha\n",
            "the number of vowels are 6\n"
          ]
        }
      ]
    },
    {
      "cell_type": "markdown",
      "source": [
        "6. Count the number of consonants in a string."
      ],
      "metadata": {
        "id": "Ob-za6NSeN9S"
      }
    },
    {
      "cell_type": "code",
      "source": [
        "a=input(\"enter the string \")\n",
        "count=0\n",
        "b='aeiou'\n",
        "for i in a:\n",
        "  if i.lower() not in b:\n",
        "    count+=1\n",
        "print(f\"the number of Consonent are {count}\")\n"
      ],
      "metadata": {
        "colab": {
          "base_uri": "https://localhost:8080/"
        },
        "id": "YELDUUGud4hR",
        "outputId": "d632f2e7-3d06-408e-d5bc-2be125707184"
      },
      "execution_count": null,
      "outputs": [
        {
          "output_type": "stream",
          "name": "stdout",
          "text": [
            "enter the string GAURAV\n",
            "the number of Consonent are 3\n"
          ]
        }
      ]
    },
    {
      "cell_type": "markdown",
      "source": [
        "7. Remove all whitespaces from a string.\n"
      ],
      "metadata": {
        "id": "cNaoK9uOev6d"
      }
    },
    {
      "cell_type": "code",
      "source": [
        "a=input(\"enter the string \")\n",
        "print(a.replace(\" \",\"\"))"
      ],
      "metadata": {
        "colab": {
          "base_uri": "https://localhost:8080/"
        },
        "id": "WGOeOzf5fKmx",
        "outputId": "c7392035-61fb-4014-92e6-d1b42bc0925b"
      },
      "execution_count": null,
      "outputs": [
        {
          "output_type": "stream",
          "name": "stdout",
          "text": [
            "enter the string                gaurav      singh      rawat\n",
            "gauravsinghrawat\n"
          ]
        }
      ]
    },
    {
      "cell_type": "markdown",
      "source": [
        "8. Find the length of a string without using the `len()` function."
      ],
      "metadata": {
        "id": "usVoZgYvgNAO"
      }
    },
    {
      "cell_type": "code",
      "source": [
        "a=input(\"enter the string \")\n",
        "count=0\n",
        "for i in a:\n",
        "  count+=1\n",
        "print(f\"total length is {count}\")\n"
      ],
      "metadata": {
        "colab": {
          "base_uri": "https://localhost:8080/"
        },
        "id": "IFFuIHSigEy3",
        "outputId": "f759702b-90be-4eb7-da84-e01b8f9b9ba2"
      },
      "execution_count": null,
      "outputs": [
        {
          "output_type": "stream",
          "name": "stdout",
          "text": [
            "enter the string gaurav\n",
            "total length is 6\n"
          ]
        }
      ]
    },
    {
      "cell_type": "markdown",
      "source": [
        "9. Check if a string contains a specific word.\n",
        "\n",
        "\n"
      ],
      "metadata": {
        "id": "CI0fEEABgeep"
      }
    },
    {
      "cell_type": "code",
      "source": [
        "a=input(\"enter the string \")\n",
        "word=input(\"enter a word to find \")\n",
        "x=a.find(word)\n",
        "if x==-1:\n",
        "  print(f\"string does not contain {word}\")\n",
        "else:\n",
        "  print(f\"given string contain {word}\")"
      ],
      "metadata": {
        "colab": {
          "base_uri": "https://localhost:8080/"
        },
        "id": "P_InmbmzgcEX",
        "outputId": "661feffa-9a26-4199-da9f-a60f0ad24b7e"
      },
      "execution_count": null,
      "outputs": [
        {
          "output_type": "stream",
          "name": "stdout",
          "text": [
            "enter the string Gaurav\n",
            "enter a word to find r\n",
            "given string contain r\n"
          ]
        }
      ]
    },
    {
      "cell_type": "markdown",
      "source": [
        "10. Replace a word in a string with another word."
      ],
      "metadata": {
        "id": "9JDqksGJjE4j"
      }
    },
    {
      "cell_type": "code",
      "source": [
        "a=input(\"enter the string \")\n",
        "w=input(\"enter a word that to be replaced\")\n",
        "r=input(\"enter the word\")\n",
        "print(a.replace(w,r))"
      ],
      "metadata": {
        "colab": {
          "base_uri": "https://localhost:8080/"
        },
        "id": "ZbzBjtp1it6Y",
        "outputId": "eda299e0-060f-4511-9e92-5d1ebf23be2d"
      },
      "execution_count": null,
      "outputs": [
        {
          "output_type": "stream",
          "name": "stdout",
          "text": [
            "enter the string Gaurav\n",
            "enter a word that to be replacedr\n",
            "enter the wordt\n",
            "Gautav\n"
          ]
        }
      ]
    },
    {
      "cell_type": "markdown",
      "source": [
        "11. Count the occurrences of a word in a string."
      ],
      "metadata": {
        "id": "5GISOo8YjgE0"
      }
    },
    {
      "cell_type": "code",
      "source": [
        "a=input(\"enter the string \")\n",
        "w=input('enter the word whose occurance to be find ')\n",
        "count=0\n",
        "x={}\n",
        "for i in a:\n",
        "  if i==w:\n",
        "    count+=1\n",
        "print(f'the word {w} is occuring {count} times in a string')\n",
        "\n"
      ],
      "metadata": {
        "colab": {
          "base_uri": "https://localhost:8080/"
        },
        "id": "eDOmXDa0jYlB",
        "outputId": "fde3a78f-1602-4a76-f5bb-2d111a9ccf89"
      },
      "execution_count": null,
      "outputs": [
        {
          "output_type": "stream",
          "name": "stdout",
          "text": [
            "enter the string Gaurav\n",
            "enter the word whose occurance to be find a\n",
            "the word a is occuring 2 times in a string\n"
          ]
        }
      ]
    },
    {
      "cell_type": "markdown",
      "source": [
        "12. Find the first occurrence of a word in a string."
      ],
      "metadata": {
        "id": "QSkhvHCZkZZs"
      }
    },
    {
      "cell_type": "code",
      "source": [
        "a=input(\"enter the string \")\n",
        "w=input('enter the word whose first occurance to be find ')\n",
        "for i in a:\n",
        "  if i == w:\n",
        "    x=a.find(i)+1\n",
        "print(f\"the firsts occurance of word{w} is in {x} position\")\n",
        "\n",
        "\n"
      ],
      "metadata": {
        "colab": {
          "base_uri": "https://localhost:8080/"
        },
        "id": "399gsF25kOrO",
        "outputId": "078d6d40-e997-44fe-9f86-439d4b6a2618"
      },
      "execution_count": null,
      "outputs": [
        {
          "output_type": "stream",
          "name": "stdout",
          "text": [
            "enter the string gaurav\n",
            "enter the word whose first occurance to be find a\n",
            "the firsts occurance of worda is in 2 position\n"
          ]
        }
      ]
    },
    {
      "cell_type": "markdown",
      "source": [
        "13. Find the last occurrence of a word in a string."
      ],
      "metadata": {
        "id": "rUk_SQLJmtOK"
      }
    },
    {
      "cell_type": "code",
      "source": [
        "a=input(\"enter the string \")\n",
        "w=input('enter the word whose last occurance to be find ')\n",
        "for i in a:\n",
        "  if i == w:\n",
        "    x=a.rfind(i)+1                   #rfind() functiion is used to find the highest index of substring\n",
        "print(f\"the last occurance of word{w} is in {x} position\")"
      ],
      "metadata": {
        "colab": {
          "base_uri": "https://localhost:8080/"
        },
        "id": "wseO4gY5mtyj",
        "outputId": "4377bb72-dc9a-47f5-afa8-4bb9c7812d97"
      },
      "execution_count": null,
      "outputs": [
        {
          "output_type": "stream",
          "name": "stdout",
          "text": [
            "enter the string Gaurav\n",
            "enter the word whose last occurance to be find a\n",
            "the last occurance of worda is in 5 position\n"
          ]
        }
      ]
    },
    {
      "cell_type": "markdown",
      "source": [
        "14. Split a string into a list of words."
      ],
      "metadata": {
        "id": "Tkm3D5-e2jtL"
      }
    },
    {
      "cell_type": "code",
      "source": [
        "a=input(\"Enter the string\")\n",
        "print(a.split())"
      ],
      "metadata": {
        "colab": {
          "base_uri": "https://localhost:8080/"
        },
        "id": "h9GVXab4rP5F",
        "outputId": "e7fe6281-41bf-486f-9bc4-628ba9047a90"
      },
      "execution_count": null,
      "outputs": [
        {
          "output_type": "stream",
          "name": "stdout",
          "text": [
            "Enter the stringGaurav Singh Rawat\n",
            "['Gaurav', 'Singh', 'Rawat']\n"
          ]
        }
      ]
    },
    {
      "cell_type": "markdown",
      "source": [
        "15. Join a list of words into a string.\n"
      ],
      "metadata": {
        "id": "SlV0qOrv3tmK"
      }
    },
    {
      "cell_type": "code",
      "source": [
        "a=['Gaurav','Singh','Rawat']\n",
        "print(\" \".join(a))                            # join() function is used to join the words of the list"
      ],
      "metadata": {
        "colab": {
          "base_uri": "https://localhost:8080/"
        },
        "id": "8lxlkqV43s4l",
        "outputId": "d40097e9-03c7-4576-caee-6562587a0482"
      },
      "execution_count": null,
      "outputs": [
        {
          "output_type": "stream",
          "name": "stdout",
          "text": [
            "Gaurav Singh Rawat\n"
          ]
        }
      ]
    },
    {
      "cell_type": "markdown",
      "source": [
        "16. Convert a string where words are separated by spaces to one where words\n",
        "are separated by underscores.\n",
        "\n"
      ],
      "metadata": {
        "id": "nVll9LDc4rsE"
      }
    },
    {
      "cell_type": "code",
      "source": [
        "a=input(\"Enter the string \")\n",
        "print(a.replace(\" \",\"_\"))"
      ],
      "metadata": {
        "colab": {
          "base_uri": "https://localhost:8080/"
        },
        "id": "_oj01LIj5YzL",
        "outputId": "39eadd81-3bbc-476a-f79a-d5b154c9f159"
      },
      "execution_count": null,
      "outputs": [
        {
          "output_type": "stream",
          "name": "stdout",
          "text": [
            "Enter the stringGaurav Singh Rawat\n",
            "Gaurav_Singh_Rawat\n"
          ]
        }
      ]
    },
    {
      "cell_type": "markdown",
      "source": [
        "17. Check if a string starts with a specific word or phrase."
      ],
      "metadata": {
        "id": "9Y9WG-qt7u8Q"
      }
    },
    {
      "cell_type": "code",
      "source": [
        "a=input(\"Enter the string \")\n",
        "w=input(\"Enter a word to check it is start with\")\n",
        "print(a.startswith(w))"
      ],
      "metadata": {
        "colab": {
          "base_uri": "https://localhost:8080/"
        },
        "id": "GclRXR4o7Oj9",
        "outputId": "a99572c1-1d46-4114-9802-cd2c7ce7b51e"
      },
      "execution_count": null,
      "outputs": [
        {
          "output_type": "stream",
          "name": "stdout",
          "text": [
            "Enter the string how are you\n",
            "Enter a word to check it is start withhow\n",
            "True\n"
          ]
        }
      ]
    },
    {
      "cell_type": "markdown",
      "source": [
        "18. Check if a string ends with a specific word or phrase.\n"
      ],
      "metadata": {
        "id": "rYZW06jY8q8A"
      }
    },
    {
      "cell_type": "code",
      "source": [
        "a=input(\"Enter the string \")\n",
        "w=input(\"Enter a word to check it is end with\")\n",
        "print(a.endswith(w))\n"
      ],
      "metadata": {
        "colab": {
          "base_uri": "https://localhost:8080/"
        },
        "id": "2zD6gPbq8qT4",
        "outputId": "6cb6e1fa-090a-4145-d75a-43272fecb619"
      },
      "execution_count": null,
      "outputs": [
        {
          "output_type": "stream",
          "name": "stdout",
          "text": [
            "Enter the string gaurav\n",
            "Enter a word to check it is end withav\n",
            "True\n"
          ]
        }
      ]
    },
    {
      "cell_type": "markdown",
      "source": [
        "19. Convert a string to title case (e.g., \"hello world\" to \"Hello World\").\n"
      ],
      "metadata": {
        "id": "K_Uhsoki9f9v"
      }
    },
    {
      "cell_type": "code",
      "source": [
        "a=input(\"Enter the string \")\n",
        "print(a.title())"
      ],
      "metadata": {
        "colab": {
          "base_uri": "https://localhost:8080/"
        },
        "id": "f4YULM3f9Cr5",
        "outputId": "a1c534b9-37a0-46a1-8dc2-d82be355532f"
      },
      "execution_count": null,
      "outputs": [
        {
          "output_type": "stream",
          "name": "stdout",
          "text": [
            "Enter the string hello world\n",
            "Hello World\n"
          ]
        }
      ]
    },
    {
      "cell_type": "markdown",
      "source": [
        "20. Find the longest word in a string.\n"
      ],
      "metadata": {
        "id": "W0R2GqaZ-R_1"
      }
    },
    {
      "cell_type": "code",
      "source": [
        "a=input(\"Enter the string \")\n",
        "l=a.split()\n",
        "x=\"\"\n",
        "for i in l:\n",
        "  if len(i)>len(x):\n",
        "    x=i\n",
        "print(f\"the largest word is {x}\")"
      ],
      "metadata": {
        "colab": {
          "base_uri": "https://localhost:8080/"
        },
        "id": "A_1Udj_l99MF",
        "outputId": "2b75b833-cdb2-4e26-971c-13996240d143"
      },
      "execution_count": null,
      "outputs": [
        {
          "output_type": "stream",
          "name": "stdout",
          "text": [
            "Enter the string gaurav the great\n",
            "the largest word is gaurav\n"
          ]
        }
      ]
    },
    {
      "cell_type": "markdown",
      "source": [
        "21. Find the shortest word in a string."
      ],
      "metadata": {
        "id": "S1-oJtbMCzqp"
      }
    },
    {
      "cell_type": "code",
      "source": [
        "a=input(\"Enter the string \")\n",
        "l=a.split()\n",
        "x=\"\"\n",
        "for i in l:\n",
        "  if x==\"\":\n",
        "    x=i\n",
        "  if len(i)<len(x):\n",
        "    x=i\n",
        "print(f\"the shortest word is {x}\")\n"
      ],
      "metadata": {
        "colab": {
          "base_uri": "https://localhost:8080/"
        },
        "id": "JGO0ZVHNCy1T",
        "outputId": "e669e1ce-c3cb-4e98-bb53-5110b46706aa"
      },
      "execution_count": null,
      "outputs": [
        {
          "output_type": "stream",
          "name": "stdout",
          "text": [
            "Enter the string Gaurav the great\n",
            "the shortest word is the\n"
          ]
        }
      ]
    },
    {
      "cell_type": "markdown",
      "source": [
        "22. Reverse the order of words in a string.\n"
      ],
      "metadata": {
        "id": "AsbdOr3jE7uA"
      }
    },
    {
      "cell_type": "code",
      "source": [
        "a=input(\"Enter the string \")\n",
        "print(a[::-1])"
      ],
      "metadata": {
        "colab": {
          "base_uri": "https://localhost:8080/"
        },
        "id": "zUYUwlfaAOeN",
        "outputId": "bb73a844-cca8-458a-8488-c85c26f36c67"
      },
      "execution_count": null,
      "outputs": [
        {
          "output_type": "stream",
          "name": "stdout",
          "text": [
            "Enter the string gaurav\n",
            "varuag\n"
          ]
        }
      ]
    },
    {
      "cell_type": "markdown",
      "source": [
        "23. Check if a string is alphanumeric.\n"
      ],
      "metadata": {
        "id": "us9rtGw9FQpq"
      }
    },
    {
      "cell_type": "code",
      "source": [
        "a=input(\"Enter the string \")\n",
        "print(a.isalnum())"
      ],
      "metadata": {
        "colab": {
          "base_uri": "https://localhost:8080/"
        },
        "id": "3fUXjHkvFLYp",
        "outputId": "744169b7-c9a4-42b3-c22c-99eb89148d3f"
      },
      "execution_count": null,
      "outputs": [
        {
          "output_type": "stream",
          "name": "stdout",
          "text": [
            "Enter the string gaurav123\n",
            "True\n"
          ]
        }
      ]
    },
    {
      "cell_type": "markdown",
      "source": [
        "24. Extract all digits from a string."
      ],
      "metadata": {
        "id": "bmlWDLykF8Rd"
      }
    },
    {
      "cell_type": "code",
      "source": [
        "a=input(\"Enter the string \")\n",
        "for i in range(0,10):\n",
        "  if str(i) in a:\n",
        "    print(i,end=\" \")"
      ],
      "metadata": {
        "colab": {
          "base_uri": "https://localhost:8080/"
        },
        "id": "AGPyTO0HF5LK",
        "outputId": "4b287b1c-d888-4639-df1e-b0ac23bc42c0"
      },
      "execution_count": null,
      "outputs": [
        {
          "output_type": "stream",
          "name": "stdout",
          "text": [
            "Enter the string gauravj098092\n",
            "0 2 8 9 "
          ]
        }
      ]
    },
    {
      "cell_type": "markdown",
      "source": [
        "# **OR**\n"
      ],
      "metadata": {
        "id": "lJSvzVyzJX9j"
      }
    },
    {
      "cell_type": "code",
      "source": [
        "a=input(\"Enter the string \")\n",
        "for i in a:\n",
        "  if i.isdigit():    #isdigit() function check wheter itr contain digit or not and return boolean true or false\n",
        "    print(i,end=' ')"
      ],
      "metadata": {
        "colab": {
          "base_uri": "https://localhost:8080/"
        },
        "id": "EoZto5fKJBUo",
        "outputId": "3982610d-5e10-4ac8-c6ff-e77aff0298a4"
      },
      "execution_count": null,
      "outputs": [
        {
          "output_type": "stream",
          "name": "stdout",
          "text": [
            "Enter the string gaut787huh8\n",
            "7 8 7 8 "
          ]
        }
      ]
    },
    {
      "cell_type": "markdown",
      "source": [
        "25. Extract all alphabets from a string.\n"
      ],
      "metadata": {
        "id": "o67zNjV2IgPn"
      }
    },
    {
      "cell_type": "code",
      "source": [
        "a=input(\"Enter the string \")\n",
        "for i in a:\n",
        "  if \"a\"<=i<=\"z\":\n",
        "    print(i,end=\" \")"
      ],
      "metadata": {
        "colab": {
          "base_uri": "https://localhost:8080/"
        },
        "id": "VGyf_lVXFoUS",
        "outputId": "0f2f26a8-a18a-4fb6-81de-378a9f28ee33"
      },
      "execution_count": null,
      "outputs": [
        {
          "output_type": "stream",
          "name": "stdout",
          "text": [
            "Enter the string gau7189rt\n",
            "g a u r t "
          ]
        }
      ]
    },
    {
      "cell_type": "markdown",
      "source": [
        "26. Count the number of uppercase letters in a string."
      ],
      "metadata": {
        "id": "iFDt7eJ_Jesg"
      }
    },
    {
      "cell_type": "code",
      "source": [
        "a=input(\"Enter the string \")\n",
        "count=0\n",
        "for i in a:\n",
        "  if \"A\"<=i<=\"Z\":\n",
        "    count+=1\n",
        "print(f\"the number of uppercase letter are {count}\")"
      ],
      "metadata": {
        "colab": {
          "base_uri": "https://localhost:8080/"
        },
        "id": "T2Mmj7nOJhhV",
        "outputId": "866ba639-00f4-4411-c4fb-872ab5d76166"
      },
      "execution_count": null,
      "outputs": [
        {
          "output_type": "stream",
          "name": "stdout",
          "text": [
            "Enter the string GaUrAv\n",
            "the number of uppercase letter are 3\n"
          ]
        }
      ]
    },
    {
      "cell_type": "markdown",
      "source": [
        "27. Count the number of lowercase letters in a string."
      ],
      "metadata": {
        "id": "KiZIeneOK2UD"
      }
    },
    {
      "cell_type": "code",
      "source": [
        "a=input(\"Enter the string \")\n",
        "count=0\n",
        "for i in a:\n",
        "  if \"a\"<=i<=\"z\":\n",
        "    count+=1\n",
        "print(f\"the number of lowercase letter are {count}\")"
      ],
      "metadata": {
        "colab": {
          "base_uri": "https://localhost:8080/"
        },
        "id": "8AMbbAyEKwAt",
        "outputId": "1782b0f9-cecd-4893-a00d-9dbbce052b4a"
      },
      "execution_count": null,
      "outputs": [
        {
          "output_type": "stream",
          "name": "stdout",
          "text": [
            "Enter the string GaUrAv rAwAt\n",
            "the number of lowercase letter are 6\n"
          ]
        }
      ]
    },
    {
      "cell_type": "markdown",
      "source": [
        "28. Swap the case of each character in a string."
      ],
      "metadata": {
        "id": "o5hUiyGgLHp3"
      }
    },
    {
      "cell_type": "code",
      "source": [
        "a=input(\"Enter the string \")\n",
        "print(a.swapcase())"
      ],
      "metadata": {
        "colab": {
          "base_uri": "https://localhost:8080/"
        },
        "id": "jhyx9AIMLK2m",
        "outputId": "3d63e596-a925-4c6c-d1ab-bbc065bccd95"
      },
      "execution_count": null,
      "outputs": [
        {
          "output_type": "stream",
          "name": "stdout",
          "text": [
            "Enter the string GaUrAv\n",
            "gAuRaV\n"
          ]
        }
      ]
    },
    {
      "cell_type": "markdown",
      "source": [
        "29. Remove a specific word from a string."
      ],
      "metadata": {
        "id": "jPvEL-WULdcU"
      }
    },
    {
      "cell_type": "code",
      "source": [
        "a=input(\"Enter the string \")\n",
        "w=input(\"enter the word to be removed\")\n",
        "print(a.replace(w,\"\"))"
      ],
      "metadata": {
        "colab": {
          "base_uri": "https://localhost:8080/"
        },
        "id": "qr-PoktlLYvI",
        "outputId": "08bfa9df-a8c9-4a2c-e399-37531f3b5fa3"
      },
      "execution_count": null,
      "outputs": [
        {
          "output_type": "stream",
          "name": "stdout",
          "text": [
            "Enter the string gaurav\n",
            "enter the word to be removedr\n",
            "gauav\n"
          ]
        }
      ]
    },
    {
      "cell_type": "markdown",
      "source": [
        "30. Check if a string is a valid email address."
      ],
      "metadata": {
        "id": "V6VelbJcMwM_"
      }
    },
    {
      "cell_type": "code",
      "source": [
        "a=input(\"enter an email address \")\n",
        "x=\"@gmail.com\"\n",
        "if a.endswith(x) and a.count(x)==1 and a.startswith(x)== False:\n",
        "  print(\"email is valid\")\n",
        "else:\n",
        "  print(\"email is invalid\")"
      ],
      "metadata": {
        "colab": {
          "base_uri": "https://localhost:8080/"
        },
        "id": "FN8An173MWYL",
        "outputId": "8cb98918-ae05-45f5-e6db-db28e1cf4865"
      },
      "execution_count": null,
      "outputs": [
        {
          "output_type": "stream",
          "name": "stdout",
          "text": [
            "enter an email address gauravrawat13@gmail.com\n",
            "email is valid\n"
          ]
        }
      ]
    },
    {
      "cell_type": "markdown",
      "source": [
        "31. Extract the username from an email address string."
      ],
      "metadata": {
        "id": "u16BAWPfTi38"
      }
    },
    {
      "cell_type": "code",
      "source": [
        "a=input(\"enter an email address \")\n",
        "username=\"\"\n",
        "for i in a:\n",
        "  if (i!='@'):\n",
        "    username+=i\n",
        "  else:\n",
        "    break\n",
        "print(username)"
      ],
      "metadata": {
        "colab": {
          "base_uri": "https://localhost:8080/"
        },
        "id": "yFnjqUn9N192",
        "outputId": "cff31324-64c5-4054-a8d5-f5828af6ffa2"
      },
      "execution_count": null,
      "outputs": [
        {
          "output_type": "stream",
          "name": "stdout",
          "text": [
            "enter an email address buahsb@gmail.com\n",
            "buahsb\n"
          ]
        }
      ]
    },
    {
      "cell_type": "markdown",
      "source": [
        "# **Or**"
      ],
      "metadata": {
        "id": "86-bDJYSV1fy"
      }
    },
    {
      "cell_type": "code",
      "source": [
        "a = input('enter the email address ')\n",
        "a[:a.find('@')]"
      ],
      "metadata": {
        "colab": {
          "base_uri": "https://localhost:8080/",
          "height": 52
        },
        "id": "BvVaQobsVJg_",
        "outputId": "4616fa59-35e2-4dec-a6d6-b4f1bd470b25"
      },
      "execution_count": null,
      "outputs": [
        {
          "name": "stdout",
          "output_type": "stream",
          "text": [
            "enter the email address gaurav12@gmail.com\n"
          ]
        },
        {
          "output_type": "execute_result",
          "data": {
            "text/plain": [
              "'gaurav12'"
            ],
            "application/vnd.google.colaboratory.intrinsic+json": {
              "type": "string"
            }
          },
          "metadata": {},
          "execution_count": 129
        }
      ]
    },
    {
      "cell_type": "markdown",
      "source": [
        "32. Extract the domain name from an email address string."
      ],
      "metadata": {
        "id": "eyVef7bEYVIK"
      }
    },
    {
      "cell_type": "code",
      "source": [
        "a = input('enter the email address ')\n",
        "a[a.find('@'):]"
      ],
      "metadata": {
        "colab": {
          "base_uri": "https://localhost:8080/",
          "height": 52
        },
        "id": "SXRNMMcfWKG3",
        "outputId": "2993471c-ba75-42eb-e0e2-1e7d91538c15"
      },
      "execution_count": null,
      "outputs": [
        {
          "name": "stdout",
          "output_type": "stream",
          "text": [
            "enter the email address nuksnz@gmail.com\n"
          ]
        },
        {
          "output_type": "execute_result",
          "data": {
            "text/plain": [
              "'@gmail.com'"
            ],
            "application/vnd.google.colaboratory.intrinsic+json": {
              "type": "string"
            }
          },
          "metadata": {},
          "execution_count": 130
        }
      ]
    },
    {
      "cell_type": "markdown",
      "source": [
        "33. Replace multiple spaces in a string with a single space."
      ],
      "metadata": {
        "id": "jIREBjkbYhaP"
      }
    },
    {
      "cell_type": "code",
      "source": [
        "a=input(\"enter the string\")\n",
        "print(' '.join(a.split()))"
      ],
      "metadata": {
        "colab": {
          "base_uri": "https://localhost:8080/"
        },
        "id": "8SFOk_W-ZGM3",
        "outputId": "270ff3cb-9c25-40d2-9b37-d7ad60d34c58"
      },
      "execution_count": null,
      "outputs": [
        {
          "output_type": "stream",
          "name": "stdout",
          "text": [
            "enter the string       gaurav       rawat kknks     k\n",
            "gaurav rawat kknks k\n"
          ]
        }
      ]
    },
    {
      "cell_type": "markdown",
      "source": [
        "34. Check if a string is a valid URL."
      ],
      "metadata": {
        "id": "WG7PgtC8hmLI"
      }
    },
    {
      "cell_type": "code",
      "source": [
        "a=input(\"enter the url: \")\n",
        "n=a.endswith(' ')\n",
        "if( a.startswith('https://')== True  and a.count('https://')==1):\n",
        "  print('url is valid')\n",
        "elif( a.startswith('https://') == True  and a.count('http://')==1):\n",
        "  print('url is valid')\n",
        "else:\n",
        "  print('url is not valid')"
      ],
      "metadata": {
        "colab": {
          "base_uri": "https://localhost:8080/"
        },
        "id": "jIZukLdthIaX",
        "outputId": "30b996c4-c46e-4711-ca4c-0c476b49228a"
      },
      "execution_count": null,
      "outputs": [
        {
          "output_type": "stream",
          "name": "stdout",
          "text": [
            "enter the url: https://www.google.com/\n",
            "url is valid\n"
          ]
        }
      ]
    },
    {
      "cell_type": "markdown",
      "source": [
        "35. Extract the protocol (http or https) from a URL string.\n"
      ],
      "metadata": {
        "id": "46KP-oJLgmpp"
      }
    },
    {
      "cell_type": "code",
      "source": [
        "a=input(\"enter the url: \")\n",
        "a[:a.find(':')]"
      ],
      "metadata": {
        "colab": {
          "base_uri": "https://localhost:8080/",
          "height": 52
        },
        "id": "QTYnBQhjdkGl",
        "outputId": "402fd682-1ed5-45ef-ee61-fc9396a6391d"
      },
      "execution_count": null,
      "outputs": [
        {
          "name": "stdout",
          "output_type": "stream",
          "text": [
            "enter the url: https://www.google.com/\n"
          ]
        },
        {
          "output_type": "execute_result",
          "data": {
            "text/plain": [
              "'https'"
            ],
            "application/vnd.google.colaboratory.intrinsic+json": {
              "type": "string"
            }
          },
          "metadata": {},
          "execution_count": 140
        }
      ]
    },
    {
      "cell_type": "markdown",
      "source": [
        "36. Find the frequency of each character in a string."
      ],
      "metadata": {
        "id": "9nNaGhhmj94I"
      }
    },
    {
      "cell_type": "code",
      "source": [
        "a=input(\"Enter the string \")\n",
        "x={}\n",
        "for i in a:\n",
        "  if i in x:\n",
        "    x[i]+=1\n",
        "  else:\n",
        "    x[i]=1\n",
        "print(x)\n"
      ],
      "metadata": {
        "colab": {
          "base_uri": "https://localhost:8080/"
        },
        "id": "Aln4-vcUdkDQ",
        "outputId": "e2c5c915-9316-4e75-e48e-0235621a749d"
      },
      "execution_count": null,
      "outputs": [
        {
          "output_type": "stream",
          "name": "stdout",
          "text": [
            "Enter the string gaurav\n",
            "{'g': 1, 'a': 2, 'u': 1, 'r': 1, 'v': 1}\n"
          ]
        }
      ]
    },
    {
      "cell_type": "markdown",
      "source": [
        "37. Remove all punctuation from a string.\n"
      ],
      "metadata": {
        "id": "z8SCsvHOlLaq"
      }
    },
    {
      "cell_type": "code",
      "source": [
        "a=input(\"Enter the string \")\n",
        "x=\"!@#$%^&*()\"\n",
        "y=\"\"\n",
        "for i in a:\n",
        "  if i not in x:\n",
        "    y+=i\n",
        "print(y)\n"
      ],
      "metadata": {
        "colab": {
          "base_uri": "https://localhost:8080/"
        },
        "id": "IwXqh6SSlMUk",
        "outputId": "a51e7418-3e5d-451a-c24d-ed5b655dffa5"
      },
      "execution_count": null,
      "outputs": [
        {
          "output_type": "stream",
          "name": "stdout",
          "text": [
            "Enter the string g!a@u#rav\n",
            "gaurav\n"
          ]
        }
      ]
    },
    {
      "cell_type": "markdown",
      "source": [
        "38. Check if a string contains only digits."
      ],
      "metadata": {
        "id": "2OWCS79gmVRu"
      }
    },
    {
      "cell_type": "code",
      "source": [
        "a=input(\"Enter the string \")\n",
        "print(a.isdigit())            #will return true if string only contains digit"
      ],
      "metadata": {
        "colab": {
          "base_uri": "https://localhost:8080/"
        },
        "id": "7LFbSmH-mUze",
        "outputId": "6adb0230-3a01-49b6-ce51-4d8afc303798"
      },
      "execution_count": null,
      "outputs": [
        {
          "output_type": "stream",
          "name": "stdout",
          "text": [
            "Enter the string 15752\n",
            "True\n"
          ]
        }
      ]
    },
    {
      "cell_type": "markdown",
      "source": [
        "39. Check if a string contains only alphabets."
      ],
      "metadata": {
        "id": "YZT4khEanh8w"
      }
    },
    {
      "cell_type": "code",
      "source": [
        "a=input(\"Enter the string \")\n",
        "print(a.isalpha())             #will return true if string only contain alphabets"
      ],
      "metadata": {
        "colab": {
          "base_uri": "https://localhost:8080/"
        },
        "id": "bOGfavAhnhng",
        "outputId": "9917acf5-aba4-491e-e3a4-214c919c509f"
      },
      "execution_count": null,
      "outputs": [
        {
          "output_type": "stream",
          "name": "stdout",
          "text": [
            "Enter the string gaurav\n",
            "True\n"
          ]
        }
      ]
    },
    {
      "cell_type": "markdown",
      "source": [
        "40. Convert a string to a list of characters."
      ],
      "metadata": {
        "id": "ZQ9Bn9aXn1iz"
      }
    },
    {
      "cell_type": "code",
      "source": [
        "a=input(\"Enter the string \")\n",
        "x=[]\n",
        "for i in a:\n",
        "  x.append(i)\n",
        "print(x)"
      ],
      "metadata": {
        "colab": {
          "base_uri": "https://localhost:8080/"
        },
        "id": "wiwcOGKxlK9a",
        "outputId": "a6be76dc-3066-4cbd-f1be-6def24b9b706"
      },
      "execution_count": null,
      "outputs": [
        {
          "output_type": "stream",
          "name": "stdout",
          "text": [
            "Enter the string Gaurav\n",
            "['G', 'a', 'u', 'r', 'a', 'v']\n"
          ]
        }
      ]
    },
    {
      "cell_type": "markdown",
      "source": [
        "41. Check if two strings are anagrams."
      ],
      "metadata": {
        "id": "I_qaP7q7pF5n"
      }
    },
    {
      "cell_type": "code",
      "source": [
        "a=input(\"enter a word\")\n",
        "b=input(\"enter another word\")\n",
        "x=[]\n",
        "y=[]\n",
        "for i in a:\n",
        "  x.append(i)\n",
        "for j in b:\n",
        "  y.append(j)\n",
        "if set(x)==set(y) and len(x)==len(y):\n",
        "  print(\"a and b are anagrams\")\n",
        "else:\n",
        "  print(\"a and b are not anagrams\")"
      ],
      "metadata": {
        "colab": {
          "base_uri": "https://localhost:8080/"
        },
        "id": "4mNEIO8GkyeC",
        "outputId": "af42880d-2a02-4a9a-cc9e-a675ae3fafd1"
      },
      "execution_count": null,
      "outputs": [
        {
          "output_type": "stream",
          "name": "stdout",
          "text": [
            "enter a wordajay\n",
            "enter another wordjaya\n",
            "a and b are anagrams\n"
          ]
        }
      ]
    },
    {
      "cell_type": "markdown",
      "source": [
        "42. Encode a string using a Caesar cipher."
      ],
      "metadata": {
        "id": "EI6IXFsIrqcJ"
      }
    },
    {
      "cell_type": "code",
      "source": [
        "a=input(\"enter a word \")\n",
        "x=\"\"\n",
        "for i in a:\n",
        "  y=ord(i)+3             #shifting to the next 3rd value\n",
        "  x+=chr(y)\n",
        "print(x)"
      ],
      "metadata": {
        "colab": {
          "base_uri": "https://localhost:8080/"
        },
        "id": "TV4wloi_rqC6",
        "outputId": "caae7ef8-c3fc-4594-cc48-871d91a6140d"
      },
      "execution_count": null,
      "outputs": [
        {
          "output_type": "stream",
          "name": "stdout",
          "text": [
            "enter a wordhello\n",
            "khoor\n"
          ]
        }
      ]
    },
    {
      "cell_type": "markdown",
      "source": [
        "43. Decode a Caesar cipher encoded string."
      ],
      "metadata": {
        "id": "Urxdfjq1vHo3"
      }
    },
    {
      "cell_type": "code",
      "source": [
        "a=input(\"enter a word \")\n",
        "x=\"\"\n",
        "for i in a:\n",
        "  y=ord(i)-3\n",
        "  x+=chr(y)\n",
        "print(x)"
      ],
      "metadata": {
        "colab": {
          "base_uri": "https://localhost:8080/"
        },
        "id": "3mIyJjMJplas",
        "outputId": "f2a524c6-6a80-4832-cd9c-ff44a5b8a053"
      },
      "execution_count": null,
      "outputs": [
        {
          "output_type": "stream",
          "name": "stdout",
          "text": [
            "enter a word khoor\n",
            "hello\n"
          ]
        }
      ]
    },
    {
      "cell_type": "markdown",
      "source": [
        "44. Find the most frequent word in a string."
      ],
      "metadata": {
        "id": "hgq4yqvlv5yr"
      }
    },
    {
      "cell_type": "code",
      "source": [
        "a=input(\"Enter the string \")\n",
        "b=a.split()                        # will split the whole string in list\n",
        "x={}\n",
        "count=0\n",
        "for i in b:                         # will access each element in list\n",
        "  if i in x:\n",
        "    x[i]+=1\n",
        "  else:\n",
        "    x[i]=1\n",
        "\n",
        "for j in x:\n",
        "  if x[j]>count:\n",
        "    count=x[j]\n",
        "    y=j\n",
        "print(f\"the most frequent word is {y}\")\n",
        "\n",
        "\n"
      ],
      "metadata": {
        "colab": {
          "base_uri": "https://localhost:8080/"
        },
        "id": "UvOxbgwrvhO5",
        "outputId": "f98ce0e5-7e09-44da-a23c-03609703651d"
      },
      "execution_count": null,
      "outputs": [
        {
          "output_type": "stream",
          "name": "stdout",
          "text": [
            "Enter the string this is the best lapyop in the world is is is\n",
            "the most frequent character is is\n"
          ]
        }
      ]
    },
    {
      "cell_type": "markdown",
      "source": [
        "45. Find all unique words in a string."
      ],
      "metadata": {
        "id": "W6NjN263yQkS"
      }
    },
    {
      "cell_type": "code",
      "source": [
        "a=input(\"Enter the string \")\n",
        "x=\"\"\n",
        "for i in a:\n",
        "  if i not in x:\n",
        "    x+=i\n",
        "print(f\"the unique words are {x}\")\n"
      ],
      "metadata": {
        "colab": {
          "base_uri": "https://localhost:8080/"
        },
        "id": "AMEw7YkeyMwN",
        "outputId": "311f2866-03d2-471d-a922-1ef916ed1f33"
      },
      "execution_count": null,
      "outputs": [
        {
          "output_type": "stream",
          "name": "stdout",
          "text": [
            "Enter the string gauravgauravgaurav\n",
            "the unique words are gaurv\n"
          ]
        }
      ]
    },
    {
      "cell_type": "markdown",
      "source": [
        "46. Count the number of syllables in a string."
      ],
      "metadata": {
        "id": "sC1oxSST18dU"
      }
    },
    {
      "cell_type": "code",
      "source": [],
      "metadata": {
        "id": "HFqapi7a1oz1"
      },
      "execution_count": null,
      "outputs": []
    },
    {
      "cell_type": "markdown",
      "source": [
        "47. Check if a string contains any special characters."
      ],
      "metadata": {
        "id": "zCiiZWV352aF"
      }
    },
    {
      "cell_type": "code",
      "source": [
        "a=input(\"Enter the string \")\n",
        "x='!@#$%^&*()'\n",
        "count=0\n",
        "for i in a:\n",
        "  if i in x:\n",
        "    count+=1\n",
        "print(f'there are {count} special characters')"
      ],
      "metadata": {
        "colab": {
          "base_uri": "https://localhost:8080/"
        },
        "id": "SKSXUpLv57VC",
        "outputId": "146c18f3-a0f5-4df5-9502-ea1fea65cf67"
      },
      "execution_count": null,
      "outputs": [
        {
          "output_type": "stream",
          "name": "stdout",
          "text": [
            "Enter the string G!A@U#R$\n",
            "there are 4 special characters\n"
          ]
        }
      ]
    },
    {
      "cell_type": "markdown",
      "source": [
        "48. Remove the nth word from a string."
      ],
      "metadata": {
        "id": "NR_uIdNJ8jSp"
      }
    },
    {
      "cell_type": "code",
      "source": [
        "a=input(\"enter a string \")\n",
        "n=int(input(\"enter the number of the element to be remove\"))\n",
        "b=a.split()\n",
        "b.pop(n-1)\n",
        "print(\" \".join(b))"
      ],
      "metadata": {
        "colab": {
          "base_uri": "https://localhost:8080/"
        },
        "id": "8B-tVE3k665C",
        "outputId": "a187fd17-fbe9-4ab3-e343-ba07066167e1"
      },
      "execution_count": null,
      "outputs": [
        {
          "output_type": "stream",
          "name": "stdout",
          "text": [
            "enter a stringgaurav is the great\n",
            "enter the number of the element to be remove3\n",
            "gaurav is great\n"
          ]
        }
      ]
    },
    {
      "cell_type": "markdown",
      "source": [
        "49. Insert a word at the nth position in a string."
      ],
      "metadata": {
        "id": "HDEBJnS69QCS"
      }
    },
    {
      "cell_type": "code",
      "source": [
        "a=input(\"enter a string\")\n",
        "n=int(input(\"enter the nth position to be insert\"))\n",
        "b=a.split()\n",
        "b.insert(n-1,input(\"enter the word to be insert\"))\n",
        "print(\" \".join(b))"
      ],
      "metadata": {
        "colab": {
          "base_uri": "https://localhost:8080/"
        },
        "id": "X8eN26qc6b4M",
        "outputId": "142f8f71-48f9-4d66-e26b-f5ee9b5180c1"
      },
      "execution_count": null,
      "outputs": [
        {
          "output_type": "stream",
          "name": "stdout",
          "text": [
            "enter a stringgaurav is great\n",
            "enter the nth position to be insert3\n",
            "enter the word to be insertthe\n",
            "gaurav is the great\n"
          ]
        }
      ]
    },
    {
      "cell_type": "markdown",
      "source": [
        "50. Convert a CSV string to a list of lists."
      ],
      "metadata": {
        "id": "OvuqyTq5_Dua"
      }
    },
    {
      "cell_type": "code",
      "source": [
        "import pandas as pd\n",
        "\n",
        "text = ['''Name,Age,Country\n",
        "Alice,30,USA\n",
        "Bob,25,Canada\n",
        "Charlie,35,UK''']\n",
        "\n",
        "df = pd.DataFrame({\"text\":text})\n",
        "df.to_csv(\"text.csv\")\n",
        "\n",
        "x=[]\n",
        "a=open(\"text.csv\")\n",
        "f= a.read()\n",
        "b=str(f).split()\n",
        "for i in b:\n",
        "  x.append([i])\n",
        "print(x[1:])\n",
        "a.close()"
      ],
      "metadata": {
        "colab": {
          "base_uri": "https://localhost:8080/"
        },
        "id": "mGNZxwoj_DTg",
        "outputId": "d836c2e1-704a-4f5d-f6b5-a256f2496d1a"
      },
      "execution_count": null,
      "outputs": [
        {
          "output_type": "stream",
          "name": "stdout",
          "text": [
            "[['0,\"Name,Age,Country'], ['Alice,30,USA'], ['Bob,25,Canada'], ['Charlie,35,UK\"']]\n"
          ]
        }
      ]
    },
    {
      "cell_type": "markdown",
      "source": [
        "# **List*"
      ],
      "metadata": {
        "id": "Sy6XemqYXwOO"
      }
    },
    {
      "cell_type": "markdown",
      "source": [
        "1. Create a list with integers from 1 to 10."
      ],
      "metadata": {
        "id": "6OQpRppFXwKb"
      }
    },
    {
      "cell_type": "code",
      "source": [
        "a=[]\n",
        "for i in range (1,11):\n",
        "  a.append(i)\n",
        "print(a)"
      ],
      "metadata": {
        "colab": {
          "base_uri": "https://localhost:8080/"
        },
        "id": "1kdwio_jX712",
        "outputId": "40088b50-6796-41ab-d284-fd776a3035b5"
      },
      "execution_count": null,
      "outputs": [
        {
          "output_type": "stream",
          "name": "stdout",
          "text": [
            "[1, 2, 3, 4, 5, 6, 7, 8, 9, 10]\n"
          ]
        }
      ]
    },
    {
      "cell_type": "markdown",
      "source": [
        "2. Find the length of a list without using the `len()` function.\n"
      ],
      "metadata": {
        "id": "JbIQZfMTYdsT"
      }
    },
    {
      "cell_type": "code",
      "source": [
        "a=[1,2,3,4,5,6,34,32]\n",
        "count=0\n",
        "for i in a:\n",
        "  count+=1\n",
        "print(f\"the length of list is {count}\")"
      ],
      "metadata": {
        "colab": {
          "base_uri": "https://localhost:8080/"
        },
        "id": "iJnemOR6YfBo",
        "outputId": "c61250ac-8002-4800-f37e-71ddbd5191fe"
      },
      "execution_count": null,
      "outputs": [
        {
          "output_type": "stream",
          "name": "stdout",
          "text": [
            "the length of list is 8\n"
          ]
        }
      ]
    },
    {
      "cell_type": "code",
      "source": [
        "a=[1,2,3,4,5,6]\n",
        "n=int(input(\"enter the no. to be append\"))\n",
        "a.append(n)\n",
        "print(a)\n"
      ],
      "metadata": {
        "colab": {
          "base_uri": "https://localhost:8080/"
        },
        "id": "Ga2zhjeQYEsG",
        "outputId": "af02b7f4-dd67-4faa-9d81-a2ab7131ff45"
      },
      "execution_count": null,
      "outputs": [
        {
          "output_type": "stream",
          "name": "stdout",
          "text": [
            "enter the no. to be append45\n",
            "[1, 2, 3, 4, 5, 6, 45]\n"
          ]
        }
      ]
    },
    {
      "cell_type": "markdown",
      "source": [
        "4. Insert an element at a specific index in a list."
      ],
      "metadata": {
        "id": "9Qh8snG4ZTxU"
      }
    },
    {
      "cell_type": "code",
      "source": [
        "a=[1,2,3,4,5,6,7]\n",
        "i=int(input(\"enter the index\"))\n",
        "n=int(input(\"enter the no. to be insert\"))\n",
        "a.insert(i,n)\n",
        "print(a)"
      ],
      "metadata": {
        "colab": {
          "base_uri": "https://localhost:8080/"
        },
        "id": "L8pVlNB4ZPBd",
        "outputId": "0f9313ba-03a3-4734-89b1-6f8f30567e93"
      },
      "execution_count": null,
      "outputs": [
        {
          "output_type": "stream",
          "name": "stdout",
          "text": [
            "enter the index5\n",
            "enter the no. to be insert56\n",
            "[1, 2, 3, 4, 5, 56, 6, 7]\n"
          ]
        }
      ]
    },
    {
      "cell_type": "markdown",
      "source": [
        "5. Remove an element from a list by its value."
      ],
      "metadata": {
        "id": "4F6XqmZbZpdQ"
      }
    },
    {
      "cell_type": "code",
      "source": [
        "a=[1,2,3,4,5,6,7,8]\n",
        "n=int(input(\"enter the no. to be removed\"))\n",
        "a.remove(n)\n",
        "print(a)\n"
      ],
      "metadata": {
        "colab": {
          "base_uri": "https://localhost:8080/"
        },
        "id": "iBH8l4KRZj7_",
        "outputId": "d1813faa-60a2-4e7b-97f3-710deb21b2b4"
      },
      "execution_count": null,
      "outputs": [
        {
          "output_type": "stream",
          "name": "stdout",
          "text": [
            "enter the no. to be removed5\n",
            "[1, 2, 3, 4, 6, 7, 8]\n"
          ]
        }
      ]
    },
    {
      "cell_type": "markdown",
      "source": [
        "6. Remove an element from a list by its index."
      ],
      "metadata": {
        "id": "vJT9EeG0aBVm"
      }
    },
    {
      "cell_type": "code",
      "source": [
        "a=[1,2,3,4,5,6,7,8]\n",
        "n=int(input(\"enter the index of no. to be removed\"))\n",
        "a.pop(n)\n",
        "print(a)"
      ],
      "metadata": {
        "colab": {
          "base_uri": "https://localhost:8080/"
        },
        "id": "ZIQ1WTG7Z9Z7",
        "outputId": "574e6fdb-da6b-45a1-b133-11818719d518"
      },
      "execution_count": null,
      "outputs": [
        {
          "output_type": "stream",
          "name": "stdout",
          "text": [
            "enter the index of no. to be removed2\n",
            "[1, 2, 4, 5, 6, 7, 8]\n"
          ]
        }
      ]
    },
    {
      "cell_type": "markdown",
      "source": [
        "7. Check if an element exists in a list."
      ],
      "metadata": {
        "id": "F_GDRAeQaOdd"
      }
    },
    {
      "cell_type": "code",
      "source": [
        "a=[1,2,3,4,5,6,7,8]\n",
        "n=int(input(\"enter the no. to be check\"))\n",
        "if n in a:\n",
        "  print(\"no. is present in the list\")\n",
        "else:\n",
        "  print(\"no. is not present in the list\")"
      ],
      "metadata": {
        "colab": {
          "base_uri": "https://localhost:8080/"
        },
        "id": "1CLJG6h3aJnF",
        "outputId": "1399882d-9798-4b85-c875-21d313353b42"
      },
      "execution_count": null,
      "outputs": [
        {
          "output_type": "stream",
          "name": "stdout",
          "text": [
            "enter the no. to be check4\n",
            "no. is present in the list\n"
          ]
        }
      ]
    },
    {
      "cell_type": "markdown",
      "source": [
        "8. Find the index of the first occurrence of an element in a list."
      ],
      "metadata": {
        "id": "g3l6pKlAat2N"
      }
    },
    {
      "cell_type": "code",
      "source": [
        "a=[1,2,3,4,3,4,5,6,7,8]\n",
        "n=int(input(\"enter the no. of which 1st index to be checked \"))\n",
        "for i in a:\n",
        "  if i==n:\n",
        "    x=a.index(i)\n",
        "    break\n",
        "print(f\"the index of {n} is {x}\")"
      ],
      "metadata": {
        "colab": {
          "base_uri": "https://localhost:8080/"
        },
        "id": "M54IP0Arak1x",
        "outputId": "22c803df-ad39-43a2-d4fb-497cbb53c59c"
      },
      "execution_count": null,
      "outputs": [
        {
          "output_type": "stream",
          "name": "stdout",
          "text": [
            "enter the no. of which 1st index to be checked 4\n",
            "the index of 4 is 3\n"
          ]
        }
      ]
    },
    {
      "cell_type": "markdown",
      "source": [
        "9. Count the occurrences of an element in a list."
      ],
      "metadata": {
        "id": "CWK_hh5-bYIt"
      }
    },
    {
      "cell_type": "code",
      "source": [
        "a=[1,2,3,1,2,3,1,2,3,3,4,5]\n",
        "n=int(input(\"enter the no. of which occurance is to be found \"))\n",
        "count=0\n",
        "for i in a:\n",
        "  if i==n:\n",
        "    count+=1\n",
        "print(f\"the occurance of {n} is {count} times\")"
      ],
      "metadata": {
        "colab": {
          "base_uri": "https://localhost:8080/"
        },
        "id": "dw1TodzKbGAt",
        "outputId": "92b5b832-fa95-45ad-bf72-46b3c28f0aa0"
      },
      "execution_count": null,
      "outputs": [
        {
          "output_type": "stream",
          "name": "stdout",
          "text": [
            "enter the no. of which occurance is to be found 3\n",
            "the occurance of 3 is 4 times\n"
          ]
        }
      ]
    },
    {
      "cell_type": "markdown",
      "source": [
        "10. Reverse the order of elements in a list."
      ],
      "metadata": {
        "id": "gKLO4BAMcIEN"
      }
    },
    {
      "cell_type": "code",
      "source": [
        "a=[1,2,3,4,5,6,7]\n",
        "print(a[::-1])"
      ],
      "metadata": {
        "colab": {
          "base_uri": "https://localhost:8080/"
        },
        "id": "Bj4JUiIYcDet",
        "outputId": "06a3c4c4-86e8-489f-f792-3cea519892a9"
      },
      "execution_count": null,
      "outputs": [
        {
          "output_type": "stream",
          "name": "stdout",
          "text": [
            "[7, 6, 5, 4, 3, 2, 1]\n"
          ]
        }
      ]
    },
    {
      "cell_type": "markdown",
      "source": [
        "11. Sort a list in ascending order.\n"
      ],
      "metadata": {
        "id": "eRa_FLLuccJl"
      }
    },
    {
      "cell_type": "code",
      "source": [
        "a=[1,2,3,4,45,6,3,42]\n",
        "a.sort()\n",
        "print(a)"
      ],
      "metadata": {
        "colab": {
          "base_uri": "https://localhost:8080/"
        },
        "id": "zrOE8PbecUye",
        "outputId": "f7ed8a67-4cb7-45c5-9569-650894652e3b"
      },
      "execution_count": null,
      "outputs": [
        {
          "output_type": "stream",
          "name": "stdout",
          "text": [
            "[1, 2, 3, 3, 4, 6, 42, 45]\n"
          ]
        }
      ]
    },
    {
      "cell_type": "markdown",
      "source": [
        "12. Sort a list in descending order."
      ],
      "metadata": {
        "id": "Qjoa9RvTcpoT"
      }
    },
    {
      "cell_type": "code",
      "source": [
        "a=[1,2,3,4,3,2,3,5,6]\n",
        "a.reverse()\n",
        "print(a)"
      ],
      "metadata": {
        "colab": {
          "base_uri": "https://localhost:8080/"
        },
        "id": "TrcCDcpAclYi",
        "outputId": "80ed1d29-645d-4b98-b0c5-c55dddb4fa6d"
      },
      "execution_count": null,
      "outputs": [
        {
          "output_type": "stream",
          "name": "stdout",
          "text": [
            "[6, 5, 3, 2, 3, 4, 3, 2, 1]\n"
          ]
        }
      ]
    },
    {
      "cell_type": "markdown",
      "source": [
        "13. Create a list of even numbers from 1 to 20."
      ],
      "metadata": {
        "id": "MCsDRjawczkf"
      }
    },
    {
      "cell_type": "code",
      "source": [
        "[i for i in range (1,21) if i%2==0]\n"
      ],
      "metadata": {
        "colab": {
          "base_uri": "https://localhost:8080/"
        },
        "id": "tap4W6pDcwK1",
        "outputId": "db3d8ff4-1e07-41ee-dc98-610c64474bf0"
      },
      "execution_count": null,
      "outputs": [
        {
          "output_type": "execute_result",
          "data": {
            "text/plain": [
              "[2, 4, 6, 8, 10, 12, 14, 16, 18, 20]"
            ]
          },
          "metadata": {},
          "execution_count": 16
        }
      ]
    },
    {
      "cell_type": "markdown",
      "source": [
        "14. Create a list of odd numbers from 1 to 20."
      ],
      "metadata": {
        "id": "8Pnzz5Kbc_fZ"
      }
    },
    {
      "cell_type": "code",
      "source": [
        "[i for i in range (1,21) if i%2!=0]"
      ],
      "metadata": {
        "colab": {
          "base_uri": "https://localhost:8080/"
        },
        "id": "LK-1qjzrc7_k",
        "outputId": "4f379cbb-fafc-4b07-f0ff-d1c68eed9b7b"
      },
      "execution_count": null,
      "outputs": [
        {
          "output_type": "execute_result",
          "data": {
            "text/plain": [
              "[1, 3, 5, 7, 9, 11, 13, 15, 17, 19]"
            ]
          },
          "metadata": {},
          "execution_count": 17
        }
      ]
    },
    {
      "cell_type": "markdown",
      "source": [
        "15. Find the sum of all elements in a list."
      ],
      "metadata": {
        "id": "X655xWBFdHcN"
      }
    },
    {
      "cell_type": "code",
      "source": [
        "a=[1,2,3,4,5,4,3,2,1]\n",
        "sum=0\n",
        "for i in a:\n",
        "  sum+=i\n",
        "print(sum)"
      ],
      "metadata": {
        "colab": {
          "base_uri": "https://localhost:8080/"
        },
        "id": "Jn8ppHR4dDZW",
        "outputId": "08cf6b9c-1808-473e-d981-8ca8e079e5af"
      },
      "execution_count": null,
      "outputs": [
        {
          "output_type": "stream",
          "name": "stdout",
          "text": [
            "25\n"
          ]
        }
      ]
    },
    {
      "cell_type": "markdown",
      "source": [
        "16. Find the maximum value in a list."
      ],
      "metadata": {
        "id": "OjzHoNRydiJf"
      }
    },
    {
      "cell_type": "code",
      "source": [
        "a=[1,2,3,4,3,2,5,6,45]\n",
        "print(max(a))"
      ],
      "metadata": {
        "colab": {
          "base_uri": "https://localhost:8080/"
        },
        "id": "cX7AtK85dcot",
        "outputId": "e6ea96f6-f4ac-4f53-a2ca-fcc60fc03264"
      },
      "execution_count": null,
      "outputs": [
        {
          "output_type": "stream",
          "name": "stdout",
          "text": [
            "45\n"
          ]
        }
      ]
    },
    {
      "cell_type": "markdown",
      "source": [
        "17. Find the minimum value in a list."
      ],
      "metadata": {
        "id": "3K7GxtbwdtLT"
      }
    },
    {
      "cell_type": "code",
      "source": [
        "a=[1,2,3,4,3,2,5,6,45]\n",
        "print(min(a))"
      ],
      "metadata": {
        "colab": {
          "base_uri": "https://localhost:8080/"
        },
        "id": "v-v7gI_kdt1C",
        "outputId": "93feda19-31ce-4c5a-df48-a57f86d03e41"
      },
      "execution_count": null,
      "outputs": [
        {
          "output_type": "stream",
          "name": "stdout",
          "text": [
            "1\n"
          ]
        }
      ]
    },
    {
      "cell_type": "markdown",
      "source": [
        "18. Create a list of squares of numbers from 1 to 10."
      ],
      "metadata": {
        "id": "O7SzQBFxd3j4"
      }
    },
    {
      "cell_type": "code",
      "source": [
        "[i*i for i in range(1,11)]"
      ],
      "metadata": {
        "colab": {
          "base_uri": "https://localhost:8080/"
        },
        "id": "Jmxtp9Jgd0-c",
        "outputId": "8f14f811-784c-4a50-8e03-326802d54249"
      },
      "execution_count": null,
      "outputs": [
        {
          "output_type": "execute_result",
          "data": {
            "text/plain": [
              "[1, 4, 9, 16, 25, 36, 49, 64, 81, 100]"
            ]
          },
          "metadata": {},
          "execution_count": 21
        }
      ]
    },
    {
      "cell_type": "markdown",
      "source": [
        "19. Create a list of random numbers."
      ],
      "metadata": {
        "id": "KuSsdoYEeOi0"
      }
    },
    {
      "cell_type": "code",
      "source": [
        "import random\n",
        "a=[]\n",
        "for i in range (1,10):\n",
        "  a.append(random.randint(1,100))\n",
        "print(a)"
      ],
      "metadata": {
        "colab": {
          "base_uri": "https://localhost:8080/"
        },
        "id": "Ms3xrSvKeJOm",
        "outputId": "60405684-26f1-4feb-b014-5e0ded543a49"
      },
      "execution_count": null,
      "outputs": [
        {
          "output_type": "stream",
          "name": "stdout",
          "text": [
            "[51, 79, 16, 55, 40, 16, 16, 72, 94]\n"
          ]
        }
      ]
    },
    {
      "cell_type": "markdown",
      "source": [
        "20. Remove duplicates from a list."
      ],
      "metadata": {
        "id": "KOqlxGuzekSz"
      }
    },
    {
      "cell_type": "code",
      "source": [
        "a=[1,2,3,2,1,2,4,5,6,5,6,7,4,3,8]\n",
        "b=[]\n",
        "for i in a :\n",
        "  if i not in b:\n",
        "    b.append(i)\n",
        "print(b)"
      ],
      "metadata": {
        "colab": {
          "base_uri": "https://localhost:8080/"
        },
        "id": "cB5zYJzzeWIl",
        "outputId": "716082c4-7b02-4302-bd94-a78de513d4d8"
      },
      "execution_count": null,
      "outputs": [
        {
          "output_type": "stream",
          "name": "stdout",
          "text": [
            "[1, 2, 3, 4, 5, 6, 7, 8]\n"
          ]
        }
      ]
    },
    {
      "cell_type": "markdown",
      "source": [
        "# **Or**"
      ],
      "metadata": {
        "id": "qUX18KfufdIa"
      }
    },
    {
      "cell_type": "code",
      "source": [
        "list(set(a))"
      ],
      "metadata": {
        "colab": {
          "base_uri": "https://localhost:8080/"
        },
        "id": "gUd1TgrNfNHH",
        "outputId": "238d730a-ae40-4174-98ba-e7b35aca5d10"
      },
      "execution_count": null,
      "outputs": [
        {
          "output_type": "execute_result",
          "data": {
            "text/plain": [
              "[1, 2, 3, 4, 5, 6, 7, 8]"
            ]
          },
          "metadata": {},
          "execution_count": 33
        }
      ]
    },
    {
      "cell_type": "markdown",
      "source": [
        "21. Find the common elements between two lists.\n"
      ],
      "metadata": {
        "id": "Mu6Vch5LfkUK"
      }
    },
    {
      "cell_type": "code",
      "source": [
        "a=[1,2,3,2,3,4,5,4,3,4,5]\n",
        "b=[2,3,4,3,2,5,4,3,6,5,4]\n",
        "c=list(set(a).intersection(set(b)))\n",
        "print(c)"
      ],
      "metadata": {
        "colab": {
          "base_uri": "https://localhost:8080/"
        },
        "id": "e87LV1KZfnab",
        "outputId": "abf8ee8d-a98c-4ec4-fb8b-9a31f6b6a5d9"
      },
      "execution_count": null,
      "outputs": [
        {
          "output_type": "stream",
          "name": "stdout",
          "text": [
            "[2, 3, 4, 5]\n"
          ]
        }
      ]
    },
    {
      "cell_type": "markdown",
      "source": [
        "# **Or**"
      ],
      "metadata": {
        "id": "JBwP-C4KgAO4"
      }
    },
    {
      "cell_type": "code",
      "source": [
        "c=[]\n",
        "for i in a:\n",
        "  if i in b:\n",
        "    c.append(i)\n",
        "\n",
        "print(list(set(c)))"
      ],
      "metadata": {
        "colab": {
          "base_uri": "https://localhost:8080/"
        },
        "id": "I4qLnXIBf3Dk",
        "outputId": "43ca17ac-2cf5-4861-9482-e1a360afcb4d"
      },
      "execution_count": null,
      "outputs": [
        {
          "output_type": "stream",
          "name": "stdout",
          "text": [
            "[2, 3, 4, 5]\n"
          ]
        }
      ]
    },
    {
      "cell_type": "markdown",
      "source": [
        "22. Find the difference between two lists.\n"
      ],
      "metadata": {
        "id": "oRkW9COCgfFp"
      }
    },
    {
      "cell_type": "code",
      "source": [
        "a=[1,3,7,2,4,6,8,10]\n",
        "b=[1,3,5,7,9]\n",
        "c=list(set(a).difference(set(b)))\n",
        "print(c)"
      ],
      "metadata": {
        "colab": {
          "base_uri": "https://localhost:8080/"
        },
        "id": "9CwmEa0dgSzt",
        "outputId": "ecab1771-2d81-42e2-b7ce-0507a86f90a4"
      },
      "execution_count": null,
      "outputs": [
        {
          "output_type": "stream",
          "name": "stdout",
          "text": [
            "[2, 4, 6, 8, 10]\n"
          ]
        }
      ]
    },
    {
      "cell_type": "markdown",
      "source": [
        "23. Merge two lists."
      ],
      "metadata": {
        "id": "LuLLjkxgh4CC"
      }
    },
    {
      "cell_type": "code",
      "source": [
        "a=[1,2,3,4,5]\n",
        "b=[6,7,8,9,10]\n",
        "c=a+b\n",
        "print(c)"
      ],
      "metadata": {
        "colab": {
          "base_uri": "https://localhost:8080/"
        },
        "id": "acGolQdLh3Yo",
        "outputId": "62fb5a01-bd78-4fe7-875c-1b5e9a33e20c"
      },
      "execution_count": null,
      "outputs": [
        {
          "output_type": "stream",
          "name": "stdout",
          "text": [
            "[1, 2, 3, 4, 5, 6, 7, 8, 9, 10]\n"
          ]
        }
      ]
    },
    {
      "cell_type": "markdown",
      "source": [
        "# OR"
      ],
      "metadata": {
        "id": "EAepIt95h-mT"
      }
    },
    {
      "cell_type": "code",
      "source": [
        "a.extend(b)\n",
        "print(a)"
      ],
      "metadata": {
        "colab": {
          "base_uri": "https://localhost:8080/"
        },
        "id": "xXb3e-aSgyrN",
        "outputId": "b46ba622-1384-48ff-fc4e-c30b311201d2"
      },
      "execution_count": null,
      "outputs": [
        {
          "output_type": "stream",
          "name": "stdout",
          "text": [
            "[1, 2, 3, 4, 5, 6, 7, 8, 9, 10]\n"
          ]
        }
      ]
    },
    {
      "cell_type": "markdown",
      "source": [
        "24. Multiply all elements in a list by 2."
      ],
      "metadata": {
        "id": "1W9RudPnibOZ"
      }
    },
    {
      "cell_type": "code",
      "source": [
        "[i*2 for i in range(1,11)]"
      ],
      "metadata": {
        "colab": {
          "base_uri": "https://localhost:8080/"
        },
        "id": "efRVYlpuiEA5",
        "outputId": "08dda7c6-d130-40be-f743-93dbf9299a09"
      },
      "execution_count": null,
      "outputs": [
        {
          "output_type": "execute_result",
          "data": {
            "text/plain": [
              "[2, 4, 6, 8, 10, 12, 14, 16, 18, 20]"
            ]
          },
          "metadata": {},
          "execution_count": 51
        }
      ]
    },
    {
      "cell_type": "markdown",
      "source": [
        "25. Filter out all even numbers from a list."
      ],
      "metadata": {
        "id": "gWviGBX5iqLm"
      }
    },
    {
      "cell_type": "code",
      "source": [
        "a=[1,2,3,4,5,6,7,45,34,22]\n",
        "for i in a:\n",
        "  if i %2==0:\n",
        "    print(i,end=\" \")"
      ],
      "metadata": {
        "colab": {
          "base_uri": "https://localhost:8080/"
        },
        "id": "GH9bEcB6ihfy",
        "outputId": "ee519645-ea01-4695-c79a-9bbf41862bf6"
      },
      "execution_count": null,
      "outputs": [
        {
          "output_type": "stream",
          "name": "stdout",
          "text": [
            "2 4 6 34 22 "
          ]
        }
      ]
    },
    {
      "cell_type": "markdown",
      "source": [
        "26. Convert a list of strings to a list of integers."
      ],
      "metadata": {
        "id": "5cAIzI1prafX"
      }
    },
    {
      "cell_type": "code",
      "source": [
        "a=['1','2','3','4','5']\n",
        "x=list(map(int,a))\n",
        "print(x)"
      ],
      "metadata": {
        "colab": {
          "base_uri": "https://localhost:8080/"
        },
        "id": "jTNBzTK1raLh",
        "outputId": "6e90a1b2-9050-42e8-de54-0b5002add2aa"
      },
      "execution_count": null,
      "outputs": [
        {
          "output_type": "stream",
          "name": "stdout",
          "text": [
            "[1, 2, 3, 4, 5]\n"
          ]
        }
      ]
    },
    {
      "cell_type": "markdown",
      "source": [
        "27. Convert a list of integers to a list of strings."
      ],
      "metadata": {
        "id": "_A_biokhseB3"
      }
    },
    {
      "cell_type": "code",
      "source": [
        "a=[1,2,3,4,5,6]\n",
        "x=list(map(str,a))\n",
        "print(x)"
      ],
      "metadata": {
        "colab": {
          "base_uri": "https://localhost:8080/"
        },
        "id": "TEcNdTFci5CL",
        "outputId": "746d686b-6476-4d06-f5a9-e3bc1b9a2be2"
      },
      "execution_count": null,
      "outputs": [
        {
          "output_type": "stream",
          "name": "stdout",
          "text": [
            "['1', '2', '3', '4', '5', '6']\n"
          ]
        }
      ]
    },
    {
      "cell_type": "markdown",
      "source": [
        "28. Flatten a nested list."
      ],
      "metadata": {
        "id": "Viss06_QtCqq"
      }
    },
    {
      "cell_type": "code",
      "source": [
        "a=[1,2,3,4,5,6,[8,7,6,5,4,3,2]]\n",
        "b=[]\n",
        "for i in a:\n",
        "  if type(i)==list:\n",
        "    b.extend(i)\n",
        "  else:\n",
        "    b.append(i)\n",
        "print(b)"
      ],
      "metadata": {
        "colab": {
          "base_uri": "https://localhost:8080/"
        },
        "id": "C8VtmNIds9Lk",
        "outputId": "15e98ab6-2524-438c-c4bb-d3f437e1ef19"
      },
      "execution_count": null,
      "outputs": [
        {
          "output_type": "stream",
          "name": "stdout",
          "text": [
            "[1, 2, 3, 4, 5, 6, 8, 7, 6, 5, 4, 3, 2]\n"
          ]
        }
      ]
    },
    {
      "cell_type": "markdown",
      "source": [
        "29. Create a list of the first 10 Fibonacci numbers."
      ],
      "metadata": {
        "id": "WEUNaa1Wttxl"
      }
    },
    {
      "cell_type": "code",
      "source": [
        "a=[]\n",
        "x=0\n",
        "y=1\n",
        "a.append(x)\n",
        "a.append(y)\n",
        "for i in range(1,9):\n",
        "  c=x+y\n",
        "  x=y\n",
        "  y=c\n",
        "  a.append(c)\n",
        "print(a)\n"
      ],
      "metadata": {
        "colab": {
          "base_uri": "https://localhost:8080/"
        },
        "id": "7H2yqD5ytsv7",
        "outputId": "d8f0f876-6762-4c64-fda8-f1d3e79964f6"
      },
      "execution_count": null,
      "outputs": [
        {
          "output_type": "stream",
          "name": "stdout",
          "text": [
            "[0, 1, 1, 2, 3, 5, 8, 13, 21, 34]\n"
          ]
        }
      ]
    },
    {
      "cell_type": "markdown",
      "source": [
        "30. Check if a list is sorted."
      ],
      "metadata": {
        "id": "BmfKg5g_vcVS"
      }
    },
    {
      "cell_type": "code",
      "source": [
        "a=[1,2,3,4,9,5,6]\n",
        "# we dont use a.sort() because it will return none by default\n",
        "if a==sorted(a):               #sorted() function return the new list\n",
        "  print(\"list is sorted\")\n",
        "else:\n",
        "  print(\"list is not sorted\")"
      ],
      "metadata": {
        "colab": {
          "base_uri": "https://localhost:8080/"
        },
        "id": "9zA3HngQtPoL",
        "outputId": "c61783ab-2e7b-474a-e47d-68d5e79b61f3"
      },
      "execution_count": null,
      "outputs": [
        {
          "output_type": "stream",
          "name": "stdout",
          "text": [
            "list is not sorted\n"
          ]
        }
      ]
    },
    {
      "cell_type": "markdown",
      "source": [
        "31. Rotate a list to the left by `n` positions."
      ],
      "metadata": {
        "id": "3Ah4R6whyMNP"
      }
    },
    {
      "cell_type": "code",
      "source": [
        "a=[1,2,3,4,5,6,7]\n",
        "n=int(input(\"enter the number of rotation\"))\n",
        "for i in range(0,n):\n",
        "  a.append(a[0])\n",
        "  a.pop(0)\n",
        "print(a)\n"
      ],
      "metadata": {
        "colab": {
          "base_uri": "https://localhost:8080/"
        },
        "id": "9uI55WhLtVak",
        "outputId": "79116890-ac4b-4612-f172-5e0236e558d8"
      },
      "execution_count": null,
      "outputs": [
        {
          "output_type": "stream",
          "name": "stdout",
          "text": [
            "enter the number of rotation2\n",
            "[3, 4, 5, 6, 7, 1, 2]\n"
          ]
        }
      ]
    },
    {
      "cell_type": "markdown",
      "source": [
        "32. Rotate a list to the right by `n` positions."
      ],
      "metadata": {
        "id": "yZsowJ-ByUiC"
      }
    },
    {
      "cell_type": "code",
      "source": [
        "a=[1,2,3,4,5,6,7]\n",
        "n=int(input(\"enter the number of rotation\"))\n",
        "for i in range(0,n):\n",
        "  a.insert(0,a[-1])\n",
        "  a.pop(-1)\n",
        "print(a)"
      ],
      "metadata": {
        "colab": {
          "base_uri": "https://localhost:8080/"
        },
        "id": "H41p5JU2wL6j",
        "outputId": "207be915-c671-4e47-ab30-92ab86d4fda4"
      },
      "execution_count": null,
      "outputs": [
        {
          "output_type": "stream",
          "name": "stdout",
          "text": [
            "enter the number of rotation2\n",
            "[6, 7, 1, 2, 3, 4, 5]\n"
          ]
        }
      ]
    },
    {
      "cell_type": "markdown",
      "source": [
        "33. Create a list of prime numbers up to 50."
      ],
      "metadata": {
        "id": "PKxQ-xBczZC1"
      }
    },
    {
      "cell_type": "code",
      "source": [
        "[i for i in range(2,51) if all(i%j!=0 for j in range(2,i))]"
      ],
      "metadata": {
        "colab": {
          "base_uri": "https://localhost:8080/"
        },
        "id": "RFlDAoi3zZrO",
        "outputId": "a043043e-dad6-4bd2-9b2f-222f547dd9d0"
      },
      "execution_count": null,
      "outputs": [
        {
          "output_type": "execute_result",
          "data": {
            "text/plain": [
              "[2, 3, 5, 7, 11, 13, 17, 19, 23, 29, 31, 37, 41, 43, 47]"
            ]
          },
          "metadata": {},
          "execution_count": 30
        }
      ]
    },
    {
      "cell_type": "markdown",
      "source": [
        "# OR"
      ],
      "metadata": {
        "id": "np8BkRPk2axk"
      }
    },
    {
      "cell_type": "code",
      "source": [
        "a=[]\n",
        "for i in range(2,51):\n",
        "  for j in range(2,i):\n",
        "    if i%j==0:\n",
        "      break\n",
        "  else:\n",
        "    a.append(i)\n",
        "print(a)"
      ],
      "metadata": {
        "colab": {
          "base_uri": "https://localhost:8080/"
        },
        "id": "x0-TQfC_zhzr",
        "outputId": "3bfcc677-fd2e-4cb3-b904-4768992eed67"
      },
      "execution_count": null,
      "outputs": [
        {
          "output_type": "stream",
          "name": "stdout",
          "text": [
            "[2, 3, 5, 7, 11, 13, 17, 19, 23, 29, 31, 37, 41, 43, 47]\n"
          ]
        }
      ]
    },
    {
      "cell_type": "markdown",
      "source": [
        "34. Split a list into chunks of size `n`."
      ],
      "metadata": {
        "id": "yRoHpNAh2ere"
      }
    },
    {
      "cell_type": "code",
      "source": [
        "a=[1,2,3,4,5,6,7,8,9]\n",
        "x=[]\n",
        "b=[]\n",
        "n=int(input(\"enter the size of chunk\"))\n",
        "for i in a:\n",
        "  b.append(i)\n",
        "  if len(b)==n:\n",
        "    x.append(b)\n",
        "    b=[]\n",
        "if b:\n",
        "  x.append(b)\n",
        "print(x)\n",
        "\n",
        "\n",
        "\n"
      ],
      "metadata": {
        "colab": {
          "base_uri": "https://localhost:8080/"
        },
        "id": "EC-FkbcT3n6i",
        "outputId": "9d79aaab-56d6-486e-8b86-0e74014611e0"
      },
      "execution_count": null,
      "outputs": [
        {
          "output_type": "stream",
          "name": "stdout",
          "text": [
            "enter the size of chunk2\n",
            "[[1, 2], [3, 4], [5, 6], [7, 8], [9]]\n"
          ]
        }
      ]
    },
    {
      "cell_type": "markdown",
      "source": [
        "35. Find the second largest number in a list."
      ],
      "metadata": {
        "id": "kAXNqXx383I2"
      }
    },
    {
      "cell_type": "code",
      "source": [
        "a=[4,5,3,7,6,33,5,23,76,43]\n",
        "a.sort()\n",
        "print(a[-2])"
      ],
      "metadata": {
        "colab": {
          "base_uri": "https://localhost:8080/"
        },
        "id": "HfvTIxUa5_Hx",
        "outputId": "b8d0f1a3-a6ce-4f75-fab9-e6159b5622ed"
      },
      "execution_count": null,
      "outputs": [
        {
          "output_type": "stream",
          "name": "stdout",
          "text": [
            "43\n"
          ]
        }
      ]
    },
    {
      "cell_type": "markdown",
      "source": [
        "36. Replace every element in a list with its square."
      ],
      "metadata": {
        "id": "g1StOhP1BoJ4"
      }
    },
    {
      "cell_type": "code",
      "source": [
        "def square(x):\n",
        "  return x*x\n",
        "a=[3,2,4,5,1,6]\n",
        "print(list(map(square,a)))"
      ],
      "metadata": {
        "colab": {
          "base_uri": "https://localhost:8080/"
        },
        "id": "izqE72FpAxJG",
        "outputId": "3c4dd775-8b86-46a0-ca73-d7d71ce04892"
      },
      "execution_count": null,
      "outputs": [
        {
          "output_type": "stream",
          "name": "stdout",
          "text": [
            "[9, 4, 16, 25, 1, 36]\n"
          ]
        }
      ]
    },
    {
      "cell_type": "markdown",
      "source": [
        "37. Convert a list to a dictionary where list elements become keys and their indices become values."
      ],
      "metadata": {
        "id": "VD-aJUgXFFG8"
      }
    },
    {
      "cell_type": "code",
      "source": [
        "a=[3,4,2,5,7,1,8]        # for the unique element in list only\n",
        "x={}\n",
        "for i in a:\n",
        "  x[i]=a.index(i)\n",
        "print(x)"
      ],
      "metadata": {
        "colab": {
          "base_uri": "https://localhost:8080/"
        },
        "id": "c3Z1W6swC7-f",
        "outputId": "e0b1110f-a99b-4380-d513-9276af5fa9c0"
      },
      "execution_count": null,
      "outputs": [
        {
          "output_type": "stream",
          "name": "stdout",
          "text": [
            "{3: 0, 4: 1, 2: 2, 5: 3, 7: 4, 1: 5, 8: 6}\n"
          ]
        }
      ]
    },
    {
      "cell_type": "markdown",
      "source": [
        "38. Shuffle the elements of a list randomly."
      ],
      "metadata": {
        "id": "clTH83xNGH6V"
      }
    },
    {
      "cell_type": "code",
      "source": [
        "import random\n",
        "a=[1,2,3,4,5,6,7,8]\n",
        "random.shuffle(a)\n",
        "print(a)"
      ],
      "metadata": {
        "colab": {
          "base_uri": "https://localhost:8080/"
        },
        "id": "-3DeQw9qFVOD",
        "outputId": "5f542c42-0b1a-4825-9eed-7eedfee5eecb"
      },
      "execution_count": null,
      "outputs": [
        {
          "output_type": "stream",
          "name": "stdout",
          "text": [
            "[8, 3, 6, 4, 5, 1, 7, 2]\n"
          ]
        }
      ]
    },
    {
      "cell_type": "markdown",
      "source": [
        "39. Create a list of the first 10 factorial numbers."
      ],
      "metadata": {
        "id": "_tUDDp6ZH9Xf"
      }
    },
    {
      "cell_type": "code",
      "source": [
        "def fact(n):\n",
        "  if(n==0 or n==1):\n",
        "    return n\n",
        "  else:\n",
        "    return n*fact(n-1)\n",
        "a=[]\n",
        "for i in range(1,11):\n",
        "  x=fact(i)\n",
        "  a.append(x)\n",
        "print(a)\n"
      ],
      "metadata": {
        "colab": {
          "base_uri": "https://localhost:8080/"
        },
        "id": "1q8EuQmWHjlT",
        "outputId": "277b553b-ce18-4b66-b392-8fc61def871a"
      },
      "execution_count": null,
      "outputs": [
        {
          "output_type": "stream",
          "name": "stdout",
          "text": [
            "[1, 2, 6, 24, 120, 720, 5040, 40320, 362880, 3628800]\n"
          ]
        }
      ]
    },
    {
      "cell_type": "markdown",
      "source": [
        "40. Check if two lists have at least one element in common."
      ],
      "metadata": {
        "id": "cSok5kG_J0fC"
      }
    },
    {
      "cell_type": "code",
      "source": [
        "a=[1,2,3,4,5]\n",
        "b=[6,7,8]\n",
        "if len(set(a).intersection(set(b)))>=1:\n",
        "  print(\"common element is present\")\n",
        "else:\n",
        "  print(\"common element is not present\")"
      ],
      "metadata": {
        "colab": {
          "base_uri": "https://localhost:8080/"
        },
        "id": "4ttHqk37IKeA",
        "outputId": "32a85b7d-dd88-4ad4-8405-a052352ebc5f"
      },
      "execution_count": null,
      "outputs": [
        {
          "output_type": "stream",
          "name": "stdout",
          "text": [
            "common element is not present\n"
          ]
        }
      ]
    },
    {
      "cell_type": "markdown",
      "source": [
        "41. Remove all elements from a list."
      ],
      "metadata": {
        "id": "KEAGvJSFKkx4"
      }
    },
    {
      "cell_type": "code",
      "source": [
        "a=[3,2,4,5,3,4,6,7,8,1]\n",
        "a.clear()\n",
        "print(a)"
      ],
      "metadata": {
        "colab": {
          "base_uri": "https://localhost:8080/"
        },
        "id": "FkunF93QJ8xa",
        "outputId": "7f250ef0-38cc-4732-c8fd-ead1dd2d0a5b"
      },
      "execution_count": null,
      "outputs": [
        {
          "output_type": "stream",
          "name": "stdout",
          "text": [
            "[]\n"
          ]
        }
      ]
    },
    {
      "cell_type": "markdown",
      "source": [
        "42. Replace negative numbers in a list with 0."
      ],
      "metadata": {
        "id": "8RA9DfY_KxGr"
      }
    },
    {
      "cell_type": "code",
      "source": [
        "a=[2,3,-1,-3,-4,0,4,6]\n",
        "for i in a:\n",
        "  if i<0:\n",
        "    x=a.index(i)\n",
        "    a.insert(x,0)\n",
        "    a.remove(i)\n",
        "print(a)\n"
      ],
      "metadata": {
        "colab": {
          "base_uri": "https://localhost:8080/"
        },
        "id": "5ycSKWnTKrb1",
        "outputId": "5efd53fb-d850-410f-d2ce-79baa9da47d5"
      },
      "execution_count": null,
      "outputs": [
        {
          "output_type": "stream",
          "name": "stdout",
          "text": [
            "[2, 3, 0, 0, 0, 0, 4, 6]\n"
          ]
        }
      ]
    },
    {
      "cell_type": "markdown",
      "source": [
        "43. Convert a string into a list of words."
      ],
      "metadata": {
        "id": "ZsOfXRPkMDnZ"
      }
    },
    {
      "cell_type": "code",
      "source": [
        "a=input(\"enter a string\")\n",
        "print(a.split())\n"
      ],
      "metadata": {
        "colab": {
          "base_uri": "https://localhost:8080/"
        },
        "id": "at_r-G12LwdS",
        "outputId": "6ffe4a8b-ff35-40a9-8977-d0b508e5f290"
      },
      "execution_count": null,
      "outputs": [
        {
          "output_type": "stream",
          "name": "stdout",
          "text": [
            "enter a stringGaurav Singh Rawat\n",
            "['Gaurav', 'Singh', 'Rawat']\n"
          ]
        }
      ]
    },
    {
      "cell_type": "markdown",
      "source": [
        "44. Convert a list of words into a string."
      ],
      "metadata": {
        "id": "nFoUt-aoMdhj"
      }
    },
    {
      "cell_type": "code",
      "source": [
        "a=['a','b','c','d']\n",
        "print(''.join(a))"
      ],
      "metadata": {
        "colab": {
          "base_uri": "https://localhost:8080/"
        },
        "id": "VzCr1kOyMYYX",
        "outputId": "6c7729d7-08cf-4fa8-e47d-7266dfe884e9"
      },
      "execution_count": null,
      "outputs": [
        {
          "output_type": "stream",
          "name": "stdout",
          "text": [
            "abcd\n"
          ]
        }
      ]
    },
    {
      "cell_type": "markdown",
      "source": [
        "45. Create a list of the first `n` powers of 2."
      ],
      "metadata": {
        "id": "YLcLShZLM74W"
      }
    },
    {
      "cell_type": "code",
      "source": [
        "n=int(input(\"enter the no. of power, you want to create a list of \"))\n",
        "a=[]\n",
        "for i in range(1,n+1):\n",
        "  a.append(2**i)\n",
        "print(a)"
      ],
      "metadata": {
        "colab": {
          "base_uri": "https://localhost:8080/"
        },
        "id": "m5xYVJ0rNHPx",
        "outputId": "3709b29a-fee8-437a-943a-9235d0b66a43"
      },
      "execution_count": null,
      "outputs": [
        {
          "output_type": "stream",
          "name": "stdout",
          "text": [
            "enter the no. of power, you want to create a list of 10\n",
            "[2, 4, 8, 16, 32, 64, 128, 256, 512, 1024]\n"
          ]
        }
      ]
    },
    {
      "cell_type": "markdown",
      "source": [
        "46. Find the longest string in a list of strings."
      ],
      "metadata": {
        "id": "O92Xky3MOw9T"
      }
    },
    {
      "cell_type": "code",
      "source": [
        "l=['apple','banana','ab','giydhiwu']                # for the unique no. of length\n",
        "x=\"\"\n",
        "for i in l:\n",
        "  if len(i)>len(x):\n",
        "    x=i\n",
        "print(f\"the longest string is {x}\")"
      ],
      "metadata": {
        "colab": {
          "base_uri": "https://localhost:8080/"
        },
        "id": "V6tRXz_mOKLB",
        "outputId": "83cb22fa-b159-4aa7-fb7a-3a487a1aecda"
      },
      "execution_count": null,
      "outputs": [
        {
          "output_type": "stream",
          "name": "stdout",
          "text": [
            "the longest string is giydhiwu\n"
          ]
        }
      ]
    },
    {
      "cell_type": "markdown",
      "source": [
        "47. Find the shortest string in a list of strings."
      ],
      "metadata": {
        "id": "9t2phSofPZ0q"
      }
    },
    {
      "cell_type": "code",
      "source": [
        "l=['apple','banana','ab']               # for the unique no. of length\n",
        "x=l[0]\n",
        "for i in l:\n",
        "  if len(i)<len(x):\n",
        "    x=i\n",
        "print(f\"the shortest word is {x}\")"
      ],
      "metadata": {
        "colab": {
          "base_uri": "https://localhost:8080/"
        },
        "id": "Ezfz_lDnPHh3",
        "outputId": "0e533ba7-ab4c-43ad-914f-18e999bbf0f7"
      },
      "execution_count": null,
      "outputs": [
        {
          "output_type": "stream",
          "name": "stdout",
          "text": [
            "the shortest word is ab\n"
          ]
        }
      ]
    },
    {
      "cell_type": "markdown",
      "source": [
        "48. Create a list of the first `n` triangular numbers.\n"
      ],
      "metadata": {
        "id": "__WAEpFCPxOd"
      }
    },
    {
      "cell_type": "code",
      "source": [
        "n=int(input(\"enter a number\"))\n",
        "a=[]\n",
        "sum=0\n",
        "for i in range(1,n+1):\n",
        "  sum+=i\n",
        "  a.append(sum)\n",
        "print(a)\n"
      ],
      "metadata": {
        "colab": {
          "base_uri": "https://localhost:8080/"
        },
        "id": "QwkLmaQqPsct",
        "outputId": "e6c16c67-3ba3-44cf-c950-a9cac37ef081"
      },
      "execution_count": null,
      "outputs": [
        {
          "output_type": "stream",
          "name": "stdout",
          "text": [
            "enter a number10\n",
            "[1, 3, 6, 10, 15, 21, 28, 36, 45, 55]\n"
          ]
        }
      ]
    },
    {
      "cell_type": "markdown",
      "source": [
        "49. Check if a list contains another list as a subsequence."
      ],
      "metadata": {
        "id": "Mf1o5SSsnlY9"
      }
    },
    {
      "cell_type": "code",
      "source": [
        "a=[1,2,3,4,5,6]\n",
        "b=[2,4]\n",
        "for i in b:\n",
        "  if i in a:\n",
        "    print(\"b is subsequence of a\")\n",
        "    break\n",
        "else:\n",
        "  print(\"b is not subsequence of a\")"
      ],
      "metadata": {
        "colab": {
          "base_uri": "https://localhost:8080/"
        },
        "id": "9sq5OcoHSZa5",
        "outputId": "c6490add-e850-405e-8585-957acbcb3484"
      },
      "execution_count": null,
      "outputs": [
        {
          "output_type": "stream",
          "name": "stdout",
          "text": [
            "b is subsequence of a\n"
          ]
        }
      ]
    },
    {
      "cell_type": "markdown",
      "source": [
        "50. Swap two elements in a list by their indices."
      ],
      "metadata": {
        "id": "Vwpix_r2HCVZ"
      }
    },
    {
      "cell_type": "code",
      "source": [
        "a=[1,2,3,4,5,6,7,8]\n",
        "b=0\n",
        "for i in range(0,len(a),2):\n",
        "  b=a[i]\n",
        "  a[i]=a[i+1]\n",
        "  a[i+1]=b\n",
        "print(a)\n",
        "\n"
      ],
      "metadata": {
        "colab": {
          "base_uri": "https://localhost:8080/"
        },
        "id": "RQfDtBP8o465",
        "outputId": "6086a4fa-c8f5-4d7f-a1b8-d9e1833455d7"
      },
      "execution_count": null,
      "outputs": [
        {
          "output_type": "stream",
          "name": "stdout",
          "text": [
            "[2, 1, 4, 3, 6, 5, 8, 7]\n"
          ]
        }
      ]
    },
    {
      "cell_type": "markdown",
      "source": [
        "# **Tuple**"
      ],
      "metadata": {
        "id": "xMvxCY9iJGRq"
      }
    },
    {
      "cell_type": "markdown",
      "source": [
        "1. Create a tuple with integers from 1 to 5."
      ],
      "metadata": {
        "id": "bV1nAqg-KBpz"
      }
    },
    {
      "cell_type": "code",
      "source": [
        "a=()\n",
        "for i in range(1,6):\n",
        "  a+=(i,)                     # we have to take a comma with an integer oherwise it will take an integer in a bracket\n",
        "print(a)"
      ],
      "metadata": {
        "colab": {
          "base_uri": "https://localhost:8080/"
        },
        "id": "hcuqubHYHBo6",
        "outputId": "4a23227e-c0a7-4070-821f-725afece85b0"
      },
      "execution_count": null,
      "outputs": [
        {
          "output_type": "stream",
          "name": "stdout",
          "text": [
            "(1, 2, 3, 4, 5)\n"
          ]
        }
      ]
    },
    {
      "cell_type": "markdown",
      "source": [
        "2. Access the third element of a tuple."
      ],
      "metadata": {
        "id": "bwNnwbE_KKXJ"
      }
    },
    {
      "cell_type": "code",
      "source": [
        "a=(1,2,3,4,5)\n",
        "print(a[2])"
      ],
      "metadata": {
        "colab": {
          "base_uri": "https://localhost:8080/"
        },
        "id": "d83j7lFoKKFH",
        "outputId": "218254ee-76f4-4ee9-e693-c55ec9da8ab0"
      },
      "execution_count": null,
      "outputs": [
        {
          "output_type": "stream",
          "name": "stdout",
          "text": [
            "3\n"
          ]
        }
      ]
    },
    {
      "cell_type": "markdown",
      "source": [
        "3. Find the length of a tuple without using the `len()` function.\n",
        "\n"
      ],
      "metadata": {
        "id": "jjp6XkUyK4A9"
      }
    },
    {
      "cell_type": "code",
      "source": [
        "a=(1,2,3,4,5,6)\n",
        "count= 0\n",
        "for i in a:\n",
        "  count+=1\n",
        "print(count)\n"
      ],
      "metadata": {
        "colab": {
          "base_uri": "https://localhost:8080/"
        },
        "id": "Zbsa5aMTKJaQ",
        "outputId": "6d7bc59c-1030-46d8-f968-2dff55e959b8"
      },
      "execution_count": null,
      "outputs": [
        {
          "output_type": "stream",
          "name": "stdout",
          "text": [
            "6\n"
          ]
        }
      ]
    },
    {
      "cell_type": "markdown",
      "source": [
        "4. Count the occurrences of an element in a tuple."
      ],
      "metadata": {
        "id": "iRaxO6VKOT98"
      }
    },
    {
      "cell_type": "code",
      "source": [
        "a=(1,2,3,4,5,3,4,3,4,5,6,3,6)\n",
        "n=int(input(\"enter the no. of which occurance is to be found \"))\n",
        "count= 0\n",
        "for i in a:\n",
        "  if i == n:\n",
        "    count+=1\n",
        "print(f\"the occurance of {n} is {count}\")"
      ],
      "metadata": {
        "colab": {
          "base_uri": "https://localhost:8080/"
        },
        "id": "yoQX1hwIOQjt",
        "outputId": "b4a0464e-273d-4ba5-bb12-6a116ef8aacd"
      },
      "execution_count": null,
      "outputs": [
        {
          "output_type": "stream",
          "name": "stdout",
          "text": [
            "enter the no. of which occurance is to be found 3\n",
            "the occurance of 3 is 4\n"
          ]
        }
      ]
    },
    {
      "cell_type": "markdown",
      "source": [
        "5. Find the index of the first occurrence of an element in a tuple."
      ],
      "metadata": {
        "id": "tHfq2H4aO_HQ"
      }
    },
    {
      "cell_type": "code",
      "source": [
        "a=(1,2,3,4,3,4,5,6,7,8)\n",
        "n=int(input(\"enter the no. of which 1st index to be checked \"))\n",
        "for i in a:\n",
        "  if i==n:\n",
        "    x=a.index(i)\n",
        "    break\n",
        "print(f\"the index of {n} is {x}\")"
      ],
      "metadata": {
        "colab": {
          "base_uri": "https://localhost:8080/"
        },
        "id": "WN09mpUDO3sv",
        "outputId": "c25351af-a283-4047-901b-00f09648058a"
      },
      "execution_count": null,
      "outputs": [
        {
          "output_type": "stream",
          "name": "stdout",
          "text": [
            "enter the no. of which 1st index to be checked 3\n",
            "the index of 3 is 2\n"
          ]
        }
      ]
    },
    {
      "cell_type": "markdown",
      "source": [
        "6. Check if an element exists in a tuple\n"
      ],
      "metadata": {
        "id": "IYKi25SwPOyJ"
      }
    },
    {
      "cell_type": "code",
      "source": [
        "a=(1,2,3,4,5,6,7)\n",
        "n=int(input(\"enter an element\"))\n",
        "for i in a:\n",
        "  if i==n:\n",
        "    print(f\"{n} is present in tuple\")\n",
        "    break\n",
        "else:\n",
        "  print(f\"{n} is not present in tuple\")"
      ],
      "metadata": {
        "colab": {
          "base_uri": "https://localhost:8080/"
        },
        "id": "iySKEaEvPNkd",
        "outputId": "b6e5d2b0-f7e1-4b55-de20-2f97fe1b030f"
      },
      "execution_count": null,
      "outputs": [
        {
          "output_type": "stream",
          "name": "stdout",
          "text": [
            "enter an element5\n",
            "5 is present in tuple\n"
          ]
        }
      ]
    },
    {
      "cell_type": "markdown",
      "source": [
        "7. Convert a tuple to a list.\n"
      ],
      "metadata": {
        "id": "zOsh7p4BRyEp"
      }
    },
    {
      "cell_type": "code",
      "source": [
        "a=(1,2,3,4,5,6)\n",
        "print(list(a))"
      ],
      "metadata": {
        "colab": {
          "base_uri": "https://localhost:8080/"
        },
        "id": "ilt0eNuNRJ2B",
        "outputId": "ad7021fe-1243-475e-f282-268595106bdc"
      },
      "execution_count": null,
      "outputs": [
        {
          "output_type": "stream",
          "name": "stdout",
          "text": [
            "[1, 2, 3, 4, 5, 6]\n"
          ]
        }
      ]
    },
    {
      "cell_type": "markdown",
      "source": [
        "8. Convert a list to a tuple."
      ],
      "metadata": {
        "id": "vvO0BsaBSAex"
      }
    },
    {
      "cell_type": "code",
      "source": [
        "a=[1,2,3,4,5]\n",
        "print(tuple(a))"
      ],
      "metadata": {
        "colab": {
          "base_uri": "https://localhost:8080/"
        },
        "id": "VO1jQ4fGR93P",
        "outputId": "9d699440-a9fb-46c1-8f1e-11a8935128c7"
      },
      "execution_count": null,
      "outputs": [
        {
          "output_type": "stream",
          "name": "stdout",
          "text": [
            "(1, 2, 3, 4, 5)\n"
          ]
        }
      ]
    },
    {
      "cell_type": "markdown",
      "source": [
        "9. Unpack the elements of a tuple into variables."
      ],
      "metadata": {
        "id": "dQ09hrWfSWej"
      }
    },
    {
      "cell_type": "code",
      "source": [
        "a=(1,2,3,4,5,6)\n",
        "for i in a:\n",
        "  print(i,end=\" \")"
      ],
      "metadata": {
        "colab": {
          "base_uri": "https://localhost:8080/"
        },
        "id": "U80xYLENSXno",
        "outputId": "f7f19d8e-34d9-46e9-bfaa-12c484f5b4b6"
      },
      "execution_count": null,
      "outputs": [
        {
          "output_type": "stream",
          "name": "stdout",
          "text": [
            "1 2 3 4 5 6 "
          ]
        }
      ]
    },
    {
      "cell_type": "markdown",
      "source": [
        "10. Create a tuple of even numbers from 1 to 10."
      ],
      "metadata": {
        "id": "VQQqUwJLSzVz"
      }
    },
    {
      "cell_type": "code",
      "source": [
        "a=()\n",
        "for i in range(1,11):\n",
        "  if i%2 ==0:\n",
        "    a+=(i,)\n",
        "print(a)"
      ],
      "metadata": {
        "colab": {
          "base_uri": "https://localhost:8080/"
        },
        "id": "zFNdwRjASQIo",
        "outputId": "1ed0256c-bfd5-4fbb-e05e-169921405048"
      },
      "execution_count": null,
      "outputs": [
        {
          "output_type": "stream",
          "name": "stdout",
          "text": [
            "(2, 4, 6, 8, 10)\n"
          ]
        }
      ]
    },
    {
      "cell_type": "markdown",
      "source": [
        "11. Create a tuple of odd numbers from 1 to 10."
      ],
      "metadata": {
        "id": "iyPslR4KTWOe"
      }
    },
    {
      "cell_type": "code",
      "source": [
        "a=()\n",
        "for i in range(1,11):\n",
        "  if i%2 !=0:\n",
        "    a+=(i,)\n",
        "print(a)"
      ],
      "metadata": {
        "colab": {
          "base_uri": "https://localhost:8080/"
        },
        "id": "CvQNfxx-TWvU",
        "outputId": "126576e6-9d75-4d57-89fe-21f554013644"
      },
      "execution_count": null,
      "outputs": [
        {
          "output_type": "stream",
          "name": "stdout",
          "text": [
            "(1, 3, 5, 7, 9)\n"
          ]
        }
      ]
    },
    {
      "cell_type": "markdown",
      "source": [
        "12. Concatenate two tuples."
      ],
      "metadata": {
        "id": "JbEUj7kYTcIV"
      }
    },
    {
      "cell_type": "code",
      "source": [
        "a=(1,2,3,4,5)\n",
        "b=(6,7,8,9,10)\n",
        "c=a+b\n",
        "print(c)"
      ],
      "metadata": {
        "colab": {
          "base_uri": "https://localhost:8080/"
        },
        "id": "QCWC1tm7Tc19",
        "outputId": "b010a8fd-e9d7-4be9-cb88-096afc830951"
      },
      "execution_count": null,
      "outputs": [
        {
          "output_type": "stream",
          "name": "stdout",
          "text": [
            "(1, 2, 3, 4, 5, 6, 7, 8, 9, 10)\n"
          ]
        }
      ]
    },
    {
      "cell_type": "markdown",
      "source": [
        "13. Repeat a tuple three times."
      ],
      "metadata": {
        "id": "ZK4dGTcDTsxL"
      }
    },
    {
      "cell_type": "code",
      "source": [
        "a=(1,2,3,4,5)\n",
        "print(a*3)"
      ],
      "metadata": {
        "colab": {
          "base_uri": "https://localhost:8080/"
        },
        "id": "4CF1eYVLTZT1",
        "outputId": "60ffeb76-afe0-47a6-f6de-92966cf401c3"
      },
      "execution_count": null,
      "outputs": [
        {
          "output_type": "stream",
          "name": "stdout",
          "text": [
            "(1, 2, 3, 4, 5, 1, 2, 3, 4, 5, 1, 2, 3, 4, 5)\n"
          ]
        }
      ]
    },
    {
      "cell_type": "markdown",
      "source": [
        "14. Check if a tuple is empty."
      ],
      "metadata": {
        "id": "UgZILqnrT2gU"
      }
    },
    {
      "cell_type": "code",
      "source": [
        "t=(1,)\n",
        "if t == ():\n",
        "  print(\"tuple is empty\")\n",
        "else:\n",
        "  print(\"tuple is not empty\")"
      ],
      "metadata": {
        "colab": {
          "base_uri": "https://localhost:8080/"
        },
        "id": "xTDgiAUlTv2h",
        "outputId": "ed73fe5c-e9f3-4d9a-d54c-971207bf5408"
      },
      "execution_count": null,
      "outputs": [
        {
          "output_type": "stream",
          "name": "stdout",
          "text": [
            "tuple is not empty\n"
          ]
        }
      ]
    },
    {
      "cell_type": "markdown",
      "source": [
        "15. Create a nested tuple."
      ],
      "metadata": {
        "id": "QBhQXf7lUi3K"
      }
    },
    {
      "cell_type": "code",
      "source": [
        "t=()\n",
        "for i in range(1,5):\n",
        "  t+=((i,i+1),)\n",
        "print(t)"
      ],
      "metadata": {
        "colab": {
          "base_uri": "https://localhost:8080/"
        },
        "id": "JNcRaCxuT--s",
        "outputId": "c601fb10-13d0-42f4-8170-5d5745773189"
      },
      "execution_count": null,
      "outputs": [
        {
          "output_type": "stream",
          "name": "stdout",
          "text": [
            "((1, 2), (2, 3), (3, 4), (4, 5))\n"
          ]
        }
      ]
    },
    {
      "cell_type": "markdown",
      "source": [
        "16. Access the first element of a nested tuple."
      ],
      "metadata": {
        "id": "4NuZTc60VKLQ"
      }
    },
    {
      "cell_type": "code",
      "source": [
        "t=((1,2),(3,4),(4,5))\n",
        "for i in t:\n",
        "  print(i[0])\n"
      ],
      "metadata": {
        "colab": {
          "base_uri": "https://localhost:8080/"
        },
        "id": "XUxJvXavU3Gs",
        "outputId": "3c089027-f2b8-4b31-a47e-41ccdcaa8365"
      },
      "execution_count": null,
      "outputs": [
        {
          "output_type": "stream",
          "name": "stdout",
          "text": [
            "1\n",
            "3\n",
            "4\n"
          ]
        }
      ]
    },
    {
      "cell_type": "markdown",
      "source": [
        "17. Create a tuple with a single element."
      ],
      "metadata": {
        "id": "GkXwLrV2Xoy_"
      }
    },
    {
      "cell_type": "code",
      "source": [
        "t=(4,)"
      ],
      "metadata": {
        "id": "WBBq4jJaWTOf"
      },
      "execution_count": null,
      "outputs": []
    },
    {
      "cell_type": "markdown",
      "source": [
        "# OR"
      ],
      "metadata": {
        "id": "HM458gzDYdTd"
      }
    },
    {
      "cell_type": "code",
      "source": [
        "n=(int(input(\"enter a no.\")))\n",
        "t=(n,)\n",
        "print(t)"
      ],
      "metadata": {
        "colab": {
          "base_uri": "https://localhost:8080/"
        },
        "id": "5dzezfQrXsB2",
        "outputId": "37455c52-9001-46d7-e097-12f03d9409c1"
      },
      "execution_count": null,
      "outputs": [
        {
          "output_type": "stream",
          "name": "stdout",
          "text": [
            "enter a no.4\n",
            "(4,)\n"
          ]
        }
      ]
    },
    {
      "cell_type": "markdown",
      "source": [
        "18. Compare two tuples."
      ],
      "metadata": {
        "id": "UiFChKjFZ91S"
      }
    },
    {
      "cell_type": "code",
      "source": [
        "a=(1,2,3,4,5)\n",
        "b=(3,2,4,5,1)\n",
        "if a==b:\n",
        "  print(\"both tuple are same\")\n",
        "else:\n",
        "  print(\"they are not same\")"
      ],
      "metadata": {
        "colab": {
          "base_uri": "https://localhost:8080/"
        },
        "id": "gS7Ng9y1YooB",
        "outputId": "d149a87e-1043-41fb-ca42-e001f31cdde3"
      },
      "execution_count": null,
      "outputs": [
        {
          "output_type": "stream",
          "name": "stdout",
          "text": [
            "they are not same\n"
          ]
        }
      ]
    },
    {
      "cell_type": "markdown",
      "source": [
        "19. Delete a tuple."
      ],
      "metadata": {
        "id": "klyMJpHPaVXV"
      }
    },
    {
      "cell_type": "code",
      "source": [
        "a=(1,2,3,4,5)\n",
        "del(a)\n",
        "print(\"tuple is deleted\")\n",
        "\n",
        "\n"
      ],
      "metadata": {
        "colab": {
          "base_uri": "https://localhost:8080/"
        },
        "id": "bHyjfLbGZXSp",
        "outputId": "fc729c1e-c255-408a-8202-6fbfbb5196a1"
      },
      "execution_count": null,
      "outputs": [
        {
          "output_type": "stream",
          "name": "stdout",
          "text": [
            "tuple is deleted\n"
          ]
        }
      ]
    },
    {
      "cell_type": "markdown",
      "source": [
        "20. Slice a tuple."
      ],
      "metadata": {
        "id": "_uvw93WLbi8h"
      }
    },
    {
      "cell_type": "code",
      "source": [
        "a=(1,2,3,4,5)\n",
        "b=a[1:4]\n",
        "print(b)"
      ],
      "metadata": {
        "colab": {
          "base_uri": "https://localhost:8080/"
        },
        "id": "t8ig6cYua2xX",
        "outputId": "46c456ce-2e46-498d-a18e-1d460ad9c847"
      },
      "execution_count": null,
      "outputs": [
        {
          "output_type": "stream",
          "name": "stdout",
          "text": [
            "(2, 3, 4)\n"
          ]
        }
      ]
    },
    {
      "cell_type": "markdown",
      "source": [
        "21. Find the maximum value in a tuple."
      ],
      "metadata": {
        "id": "pWPhmINNbyZz"
      }
    },
    {
      "cell_type": "code",
      "source": [
        "a=(1,2,3,4,5)\n",
        "print(max(a))"
      ],
      "metadata": {
        "colab": {
          "base_uri": "https://localhost:8080/"
        },
        "id": "fWwByqZhbnjZ",
        "outputId": "1f2f0bde-ee8a-4ae7-8c8c-7876f5fb5196"
      },
      "execution_count": null,
      "outputs": [
        {
          "output_type": "stream",
          "name": "stdout",
          "text": [
            "5\n"
          ]
        }
      ]
    },
    {
      "cell_type": "markdown",
      "source": [
        "22. Find the minimum value in a tuple."
      ],
      "metadata": {
        "id": "HzPAB3VRb5fq"
      }
    },
    {
      "cell_type": "code",
      "source": [
        "a=(1,2,3,4,5)\n",
        "print(min(a))"
      ],
      "metadata": {
        "colab": {
          "base_uri": "https://localhost:8080/"
        },
        "id": "ygMaHvRxb2VH",
        "outputId": "fc71462c-93e6-48ea-d4ed-861e79d0f461"
      },
      "execution_count": null,
      "outputs": [
        {
          "output_type": "stream",
          "name": "stdout",
          "text": [
            "1\n"
          ]
        }
      ]
    },
    {
      "cell_type": "markdown",
      "source": [
        "23. Convert a string to a tuple of characters."
      ],
      "metadata": {
        "id": "NyltibiicDVJ"
      }
    },
    {
      "cell_type": "code",
      "source": [
        "a=input(\"enter a string\")\n",
        "t=()\n",
        "for i in a :\n",
        "  t+=(i,)\n",
        "print(t)"
      ],
      "metadata": {
        "colab": {
          "base_uri": "https://localhost:8080/"
        },
        "id": "CUCDK1QEb9Fz",
        "outputId": "1815809b-3d45-42ac-db2a-fcfd274165b9"
      },
      "execution_count": null,
      "outputs": [
        {
          "output_type": "stream",
          "name": "stdout",
          "text": [
            "enter a stringgaurav\n",
            "('g', 'a', 'u', 'r', 'a', 'v')\n"
          ]
        }
      ]
    },
    {
      "cell_type": "markdown",
      "source": [
        "24. Convert a tuple of characters to a string."
      ],
      "metadata": {
        "id": "RZR9kTL1dfZz"
      }
    },
    {
      "cell_type": "code",
      "source": [
        "t=('a','b','c')\n",
        "b=''\n",
        "for i in t:\n",
        "  b+=i\n",
        "print(b)\n",
        "type(b)"
      ],
      "metadata": {
        "colab": {
          "base_uri": "https://localhost:8080/"
        },
        "id": "4cPvYcsncV17",
        "outputId": "03883100-166e-453d-d59e-7a18965635b7"
      },
      "execution_count": null,
      "outputs": [
        {
          "output_type": "stream",
          "name": "stdout",
          "text": [
            "abc\n"
          ]
        },
        {
          "output_type": "execute_result",
          "data": {
            "text/plain": [
              "str"
            ]
          },
          "metadata": {},
          "execution_count": 120
        }
      ]
    },
    {
      "cell_type": "markdown",
      "source": [
        "25. Create a tuple from multiple data types."
      ],
      "metadata": {
        "id": "qo5GJYEld1jN"
      }
    },
    {
      "cell_type": "code",
      "source": [
        "a=int(input(\"enter a no.\"))\n",
        "b=float(input(\"enter a float\"))\n",
        "c=input(\"enter a string\")\n",
        "t=(a,b,c)\n",
        "print(t)"
      ],
      "metadata": {
        "colab": {
          "base_uri": "https://localhost:8080/"
        },
        "id": "lI15U4YfduWX",
        "outputId": "c7479beb-5ca5-43c8-b656-b038a2953673"
      },
      "execution_count": null,
      "outputs": [
        {
          "output_type": "stream",
          "name": "stdout",
          "text": [
            "enter a no.1\n",
            "enter a float2.0\n",
            "enter a stringgaurav\n",
            "(1, 2.0, 'gaurav')\n"
          ]
        }
      ]
    },
    {
      "cell_type": "markdown",
      "source": [
        "26. Check if two tuples are identical."
      ],
      "metadata": {
        "id": "K-fmMtBYegav"
      }
    },
    {
      "cell_type": "code",
      "source": [
        "t1=(1,2,3,4,5)\n",
        "t2=(1,2,3,4,5)\n",
        "\n",
        "if t1==t2:\n",
        "    print(\"t1 and t2 are identical\")\n",
        "else:\n",
        "    print(\"t1 and t2 are not identical\")"
      ],
      "metadata": {
        "colab": {
          "base_uri": "https://localhost:8080/"
        },
        "id": "4TDNpYaaeRo4",
        "outputId": "8e73709d-fb2f-4dea-b18a-b9e2954bb44f"
      },
      "execution_count": null,
      "outputs": [
        {
          "output_type": "stream",
          "name": "stdout",
          "text": [
            "t1 and t2 are identical\n"
          ]
        }
      ]
    },
    {
      "cell_type": "markdown",
      "source": [
        "27. Sort the elements of a tuple.\n"
      ],
      "metadata": {
        "id": "QdKzctAcfnUJ"
      }
    },
    {
      "cell_type": "code",
      "source": [
        "t1=(4,3,5,2,6,7,1)\n",
        "a=list(t1)\n",
        "a.sort()\n",
        "t1=tuple(a)\n",
        "print(t1)\n"
      ],
      "metadata": {
        "colab": {
          "base_uri": "https://localhost:8080/"
        },
        "id": "lqI00_U9fMPz",
        "outputId": "dd443b38-1346-4147-e347-13f0b85cf29f"
      },
      "execution_count": null,
      "outputs": [
        {
          "output_type": "stream",
          "name": "stdout",
          "text": [
            "(1, 2, 3, 4, 5, 6, 7)\n"
          ]
        }
      ]
    },
    {
      "cell_type": "markdown",
      "source": [
        "28. Convert a tuple of integers to a tuple of strings."
      ],
      "metadata": {
        "id": "rQwBU2zbgKpc"
      }
    },
    {
      "cell_type": "code",
      "source": [
        "t1=(1,2,3,4,5,6)\n",
        "t2=()\n",
        "for i in t1:\n",
        "  t2+=(str(i),)\n",
        "print(t2)"
      ],
      "metadata": {
        "colab": {
          "base_uri": "https://localhost:8080/"
        },
        "id": "-uf354Y0gBU5",
        "outputId": "542c96f5-1f8a-4894-ddf5-05cab59911c6"
      },
      "execution_count": null,
      "outputs": [
        {
          "output_type": "stream",
          "name": "stdout",
          "text": [
            "('1', '2', '3', '4', '5', '6')\n"
          ]
        }
      ]
    },
    {
      "cell_type": "markdown",
      "source": [
        "29. Convert a tuple of strings to a tuple of integers."
      ],
      "metadata": {
        "id": "C3Z5LVnrgq88"
      }
    },
    {
      "cell_type": "code",
      "source": [
        "t1=('1', '2', '3', '4', '5', '6')\n",
        "t2=()\n",
        "for i in t1:\n",
        "  t2+=(int(i),)\n",
        "print(t2)"
      ],
      "metadata": {
        "colab": {
          "base_uri": "https://localhost:8080/"
        },
        "id": "4m0xTDgDgtJu",
        "outputId": "39c859f2-b5ed-42ad-8ff4-f5e1061bb327"
      },
      "execution_count": null,
      "outputs": [
        {
          "output_type": "stream",
          "name": "stdout",
          "text": [
            "(1, 2, 3, 4, 5, 6)\n"
          ]
        }
      ]
    },
    {
      "cell_type": "markdown",
      "source": [
        "30. Merge two tuples."
      ],
      "metadata": {
        "id": "gPfqlne6g27s"
      }
    },
    {
      "cell_type": "code",
      "source": [
        "t1=(1,2,3,4,5)\n",
        "t2=(1,2,3,4,5)\n",
        "print(t1+t2)"
      ],
      "metadata": {
        "colab": {
          "base_uri": "https://localhost:8080/"
        },
        "id": "CKMK_U6Bg64h",
        "outputId": "cc344c21-7bc0-4dff-d08a-ed8ce735c498"
      },
      "execution_count": null,
      "outputs": [
        {
          "output_type": "stream",
          "name": "stdout",
          "text": [
            "(1, 2, 3, 4, 5, 1, 2, 3, 4, 5)\n"
          ]
        }
      ]
    },
    {
      "cell_type": "markdown",
      "source": [
        "31. Flatten a nested tuple."
      ],
      "metadata": {
        "id": "eXGMYpfChNjz"
      }
    },
    {
      "cell_type": "code",
      "source": [
        "t1=(1,(2,3),4,5)\n",
        "t2=()\n",
        "for i in t1:\n",
        "  if isinstance(i,tuple):\n",
        "    for j in i:\n",
        "      t2=t2+(j,)\n",
        "  else:\n",
        "    t2=t2+(i,)\n",
        "print(t2)"
      ],
      "metadata": {
        "colab": {
          "base_uri": "https://localhost:8080/"
        },
        "id": "GU2W7ADKhE_v",
        "outputId": "05a5f81c-f857-4840-9f0b-19633b72606a"
      },
      "execution_count": null,
      "outputs": [
        {
          "output_type": "stream",
          "name": "stdout",
          "text": [
            "(1, 2, 3, 4, 5)\n"
          ]
        }
      ]
    },
    {
      "cell_type": "markdown",
      "source": [
        "32. Create a tuple of the first 5 prime numbers."
      ],
      "metadata": {
        "id": "gv_ZxiE_j24t"
      }
    },
    {
      "cell_type": "code",
      "source": [
        "a=()\n",
        "for i in range(2,50):\n",
        "  for j in range(2,i):\n",
        "    if i%j==0:\n",
        "      break\n",
        "  else:\n",
        "    a+=(i,)\n",
        "  if len(a)==5:\n",
        "    break\n",
        "print(a)"
      ],
      "metadata": {
        "colab": {
          "base_uri": "https://localhost:8080/"
        },
        "id": "AjEgxT-Xjr8Y",
        "outputId": "4480cec6-58c8-4853-e083-b459791c4df1"
      },
      "execution_count": null,
      "outputs": [
        {
          "output_type": "stream",
          "name": "stdout",
          "text": [
            "(2, 3, 5, 7, 11)\n"
          ]
        }
      ]
    },
    {
      "cell_type": "markdown",
      "source": [
        "33. Check if a tuple is a palindrome.\n"
      ],
      "metadata": {
        "id": "Net10e6ilUfC"
      }
    },
    {
      "cell_type": "code",
      "source": [
        "t1=(1,2,3,2,1)\n",
        "if t1==t1[::-1]:\n",
        "  print(\"tuple is palindrome\")\n",
        "else:\n",
        "  print(\"tuple is not palindrome\")"
      ],
      "metadata": {
        "colab": {
          "base_uri": "https://localhost:8080/"
        },
        "id": "nRidSEd4kWHA",
        "outputId": "0080fbed-1fd7-4375-8917-70b1ceb0c8ea"
      },
      "execution_count": null,
      "outputs": [
        {
          "output_type": "stream",
          "name": "stdout",
          "text": [
            "tuple is palindrome\n"
          ]
        }
      ]
    },
    {
      "cell_type": "markdown",
      "source": [
        "34. Create a tuple of squares of numbers from 1 to 5.\n"
      ],
      "metadata": {
        "id": "b61HeTgCmOki"
      }
    },
    {
      "cell_type": "code",
      "source": [
        "a=()\n",
        "for i in range (1,6):\n",
        "  a+=(i**2,)\n",
        "print(a)"
      ],
      "metadata": {
        "colab": {
          "base_uri": "https://localhost:8080/"
        },
        "id": "q1Fc6zCJmE_V",
        "outputId": "b8058588-76c0-4149-9bec-12116e52b141"
      },
      "execution_count": null,
      "outputs": [
        {
          "output_type": "stream",
          "name": "stdout",
          "text": [
            "(1, 4, 9, 16, 25)\n"
          ]
        }
      ]
    },
    {
      "cell_type": "markdown",
      "source": [
        "35. Filter out all even numbers from a tuple."
      ],
      "metadata": {
        "id": "wmSUTHDsnw5c"
      }
    },
    {
      "cell_type": "code",
      "source": [
        "a=(1,2,3,4,5,6,7,8,9,10)\n",
        "for i in a:\n",
        "  if i%2==0:\n",
        "    print(i,end=\" \")"
      ],
      "metadata": {
        "colab": {
          "base_uri": "https://localhost:8080/"
        },
        "id": "qMJCWNMYmkFl",
        "outputId": "d1331931-9ac4-473e-a4aa-59974dec4454"
      },
      "execution_count": null,
      "outputs": [
        {
          "output_type": "stream",
          "name": "stdout",
          "text": [
            "2 4 6 8 10 "
          ]
        }
      ]
    },
    {
      "cell_type": "markdown",
      "source": [
        "36. Multiply all elements in a tuple by 2.\n",
        "\n"
      ],
      "metadata": {
        "id": "Ru5bN5IcqVlZ"
      }
    },
    {
      "cell_type": "code",
      "source": [
        "t1=(1,2,3,4,5,6)\n",
        "t2=()\n",
        "for i in t1:\n",
        "  t2+=(i*2,)\n",
        "print(t2)"
      ],
      "metadata": {
        "colab": {
          "base_uri": "https://localhost:8080/"
        },
        "id": "5LsfiLZnovQg",
        "outputId": "a7ab153b-fb34-41e2-c34c-dfb92d0656f3"
      },
      "execution_count": null,
      "outputs": [
        {
          "output_type": "stream",
          "name": "stdout",
          "text": [
            "(2, 4, 6, 8, 10, 12)\n"
          ]
        }
      ]
    },
    {
      "cell_type": "markdown",
      "source": [
        "37. Create a tuple of random numbers."
      ],
      "metadata": {
        "id": "jNXZAIIetiAY"
      }
    },
    {
      "cell_type": "code",
      "source": [
        "import random\n",
        "a=()\n",
        "for i in range (1,10):\n",
        "  a+=(random.randint(1,100),)\n",
        "print(a)"
      ],
      "metadata": {
        "colab": {
          "base_uri": "https://localhost:8080/"
        },
        "id": "3F8aOtTfn2ku",
        "outputId": "ac37790a-dfbb-4daf-851b-b7cd7098aa97"
      },
      "execution_count": null,
      "outputs": [
        {
          "output_type": "stream",
          "name": "stdout",
          "text": [
            "(79, 7, 5, 81, 33, 78, 74, 7, 72)\n"
          ]
        }
      ]
    },
    {
      "cell_type": "markdown",
      "source": [
        "38. Check if a tuple is sorted."
      ],
      "metadata": {
        "id": "t-L5d8bbuihC"
      }
    },
    {
      "cell_type": "code",
      "source": [
        "t1=(1,2,3,4,5,6)\n",
        "if t1==tuple(sorted(t1)):\n",
        "  print(\"tuple is sorted\")\n",
        "else:\n",
        "  print(\"tuple is not sorted\")"
      ],
      "metadata": {
        "colab": {
          "base_uri": "https://localhost:8080/"
        },
        "id": "WMwxHT5HugqS",
        "outputId": "3644031b-d4da-4810-9b5f-bf204471ef03"
      },
      "execution_count": null,
      "outputs": [
        {
          "output_type": "stream",
          "name": "stdout",
          "text": [
            "tuple is sorted\n"
          ]
        }
      ]
    },
    {
      "cell_type": "markdown",
      "source": [
        "39. Rotate a tuple to the left by `n` positions."
      ],
      "metadata": {
        "id": "ItnAkExswHB_"
      }
    },
    {
      "cell_type": "code",
      "source": [
        "a=(1,2,3,4,5,6,7)\n",
        "b=()\n",
        "n=int(input(\"enter the number of rotation\"))\n",
        "b+=(a[n:])\n",
        "b+=(a[0:n])\n",
        "print(b)\n"
      ],
      "metadata": {
        "colab": {
          "base_uri": "https://localhost:8080/"
        },
        "id": "VqfGAeObuZAu",
        "outputId": "450fc253-88c6-4504-deed-200d599cca5c"
      },
      "execution_count": null,
      "outputs": [
        {
          "output_type": "stream",
          "name": "stdout",
          "text": [
            "enter the number of rotation2\n",
            "(3, 4, 5, 6, 7, 1, 2)\n"
          ]
        }
      ]
    },
    {
      "cell_type": "markdown",
      "source": [
        "40. Rotate a tuple to the right by `n` positions."
      ],
      "metadata": {
        "id": "NXAyRvrhzeJQ"
      }
    },
    {
      "cell_type": "code",
      "source": [
        "a=(1,2,3,4,5,6,7)\n",
        "b=()\n",
        "n=int(input(\"enter the number of rotation\"))\n",
        "b+=(a[-n:])\n",
        "b+=(a[:-n])\n",
        "print(b)"
      ],
      "metadata": {
        "colab": {
          "base_uri": "https://localhost:8080/"
        },
        "id": "uQto82XSvBv6",
        "outputId": "da628234-a938-4dec-b5e5-4a62bbf71078"
      },
      "execution_count": null,
      "outputs": [
        {
          "output_type": "stream",
          "name": "stdout",
          "text": [
            "enter the number of rotation2\n",
            "(6, 7, 1, 2, 3, 4, 5)\n"
          ]
        }
      ]
    },
    {
      "cell_type": "markdown",
      "source": [
        "41. Create a tuple of the first 5 Fibonacci numbers."
      ],
      "metadata": {
        "id": "gWn9mJXe25z3"
      }
    },
    {
      "cell_type": "code",
      "source": [
        "a=()\n",
        "x=0\n",
        "y=1\n",
        "a=(x,y)\n",
        "for i in range(1,9):\n",
        "  c=x+y\n",
        "  x=y\n",
        "  y=c\n",
        "  a+=(c,)\n",
        "  if len(a)==5:\n",
        "    break\n",
        "print(a)\n"
      ],
      "metadata": {
        "colab": {
          "base_uri": "https://localhost:8080/"
        },
        "id": "H39V_E4u260C",
        "outputId": "5ebd23f5-58e6-439a-8e32-e4c608f1301a"
      },
      "execution_count": null,
      "outputs": [
        {
          "output_type": "stream",
          "name": "stdout",
          "text": [
            "(0, 1, 1, 2, 3)\n"
          ]
        }
      ]
    },
    {
      "cell_type": "markdown",
      "source": [
        "42. Create a tuple from user input."
      ],
      "metadata": {
        "id": "v86-t0AY4-RR"
      }
    },
    {
      "cell_type": "code",
      "source": [
        "t1=()\n",
        "n=int(input(\"enter the number of element \"))\n",
        "for i in range(n):\n",
        "  a=int(input(\"enter the element to be enter\"))\n",
        "  t1+=(a,)\n",
        "print(t1)\n",
        "\n"
      ],
      "metadata": {
        "colab": {
          "base_uri": "https://localhost:8080/"
        },
        "id": "NcvbHzOy4j_g",
        "outputId": "bc4ab86b-cb89-43f0-9a89-104470bd29a3"
      },
      "execution_count": null,
      "outputs": [
        {
          "output_type": "stream",
          "name": "stdout",
          "text": [
            "enter the number of element 5\n",
            "enter the element to be enter1\n",
            "enter the element to be enter2\n",
            "enter the element to be enter3\n",
            "enter the element to be enter4\n",
            "enter the element to be enter5\n",
            "(1, 2, 3, 4, 5)\n"
          ]
        }
      ]
    },
    {
      "cell_type": "markdown",
      "source": [
        "43. Swap two elements in a tuple."
      ],
      "metadata": {
        "id": "v-XL7mim5rNj"
      }
    },
    {
      "cell_type": "code",
      "source": [
        "t1=(1,2,3,4,5)\n",
        "a=int(input(\"enter the index of 1st element to be swap\"))\n",
        "b=int(input(\"enter the index of 2nd element to be swap\"))\n",
        "c=list(t1)\n",
        "x=0\n",
        "\n",
        "x=c[a]\n",
        "c[a]=c[b]\n",
        "c[b]=x\n",
        "t1=tuple(c)\n",
        "print(t1)\n"
      ],
      "metadata": {
        "colab": {
          "base_uri": "https://localhost:8080/"
        },
        "id": "Ej1HQ_5l5wYq",
        "outputId": "97ab1e57-b56a-463d-f00d-3bed59565550"
      },
      "execution_count": null,
      "outputs": [
        {
          "output_type": "stream",
          "name": "stdout",
          "text": [
            "enter the index of 1st element to be swap2\n",
            "enter the index of 2nd element to be swap4\n",
            "(1, 2, 5, 4, 3)\n"
          ]
        }
      ]
    },
    {
      "cell_type": "markdown",
      "source": [
        "44. Reverse the elements of a tuple."
      ],
      "metadata": {
        "id": "o4dUUKu76iBQ"
      }
    },
    {
      "cell_type": "code",
      "source": [
        "a=(1,2,3,4,5,6)\n",
        "print(a[::-1])"
      ],
      "metadata": {
        "colab": {
          "base_uri": "https://localhost:8080/"
        },
        "id": "wu4Httnf6cSn",
        "outputId": "8114be53-9576-4ce0-bb3e-6291eaa878f3"
      },
      "execution_count": null,
      "outputs": [
        {
          "output_type": "stream",
          "name": "stdout",
          "text": [
            "(6, 5, 4, 3, 2, 1)\n"
          ]
        }
      ]
    },
    {
      "cell_type": "markdown",
      "source": [
        "45. Create a tuple of the first `n` powers of 2."
      ],
      "metadata": {
        "id": "o6on_xxl6tTu"
      }
    },
    {
      "cell_type": "code",
      "source": [
        "a=()\n",
        "n=int(input(\"enter the no. \"))\n",
        "for i in range(1,n+1):\n",
        "  a+=(2**i,)\n",
        "print(a)"
      ],
      "metadata": {
        "colab": {
          "base_uri": "https://localhost:8080/"
        },
        "id": "rw_pHN-t6pqu",
        "outputId": "49ea1fed-1610-4b3f-956b-79f09e1d2b6b"
      },
      "execution_count": null,
      "outputs": [
        {
          "output_type": "stream",
          "name": "stdout",
          "text": [
            "enter the no. 5\n",
            "(2, 4, 8, 16, 32)\n"
          ]
        }
      ]
    },
    {
      "cell_type": "markdown",
      "source": [
        "46. Find the longest string in a tuple of strings."
      ],
      "metadata": {
        "id": "DgU661zKAgpF"
      }
    },
    {
      "cell_type": "code",
      "source": [
        "t1=('apple','banana','ab')\n",
        "x=\"\"\n",
        "for i in t1:\n",
        "  if len(i)>len(x):\n",
        "    x=i\n",
        "print(f\"the longest string is {x}\")"
      ],
      "metadata": {
        "colab": {
          "base_uri": "https://localhost:8080/"
        },
        "id": "wtkrrx57AbFk",
        "outputId": "4dd8f8c1-f21b-443d-f3d2-2fc9eab0d333"
      },
      "execution_count": null,
      "outputs": [
        {
          "output_type": "stream",
          "name": "stdout",
          "text": [
            "the longest string is banana\n"
          ]
        }
      ]
    },
    {
      "cell_type": "markdown",
      "source": [
        "47. Find the shortest string in a tuple of strings."
      ],
      "metadata": {
        "id": "4GgyOr0hBV-s"
      }
    },
    {
      "cell_type": "code",
      "source": [
        "t1=('apple','banana','ab')               # for the unique no. of length\n",
        "x=t1[0]\n",
        "for i in l:\n",
        "  if len(i)<len(x):\n",
        "    x=i\n",
        "print(f\"the shortest word is {x}\")"
      ],
      "metadata": {
        "colab": {
          "base_uri": "https://localhost:8080/"
        },
        "id": "0HdKBEOPBbgs",
        "outputId": "99144051-e755-4eb4-9be6-a7eb5152223b"
      },
      "execution_count": null,
      "outputs": [
        {
          "output_type": "stream",
          "name": "stdout",
          "text": [
            "the shortest word is ab\n"
          ]
        }
      ]
    },
    {
      "cell_type": "markdown",
      "source": [
        "48. Create a tuple of the first `n` triangular numbers."
      ],
      "metadata": {
        "id": "1eWQiwGABrkJ"
      }
    },
    {
      "cell_type": "code",
      "source": [
        "a=()\n",
        "n=int(input(\"enter the no. of element\"))\n",
        "sum=0\n",
        "for i in range(1,n+1):\n",
        "  sum+=i\n",
        "  a+=(sum,)\n",
        "print(a)"
      ],
      "metadata": {
        "colab": {
          "base_uri": "https://localhost:8080/"
        },
        "id": "Etes-s06BnDM",
        "outputId": "1ef7a1a0-7729-4b7f-e6dc-1a0edbeb1bb4"
      },
      "execution_count": 55,
      "outputs": [
        {
          "output_type": "stream",
          "name": "stdout",
          "text": [
            "enter the no. of element9\n",
            "(1, 3, 6, 10, 15, 21, 28, 36, 45)\n"
          ]
        }
      ]
    },
    {
      "cell_type": "markdown",
      "source": [
        "49. Check if a tuple contains another tuple as a subsequence."
      ],
      "metadata": {
        "id": "elSpeATcX99T"
      }
    },
    {
      "cell_type": "code",
      "source": [
        "a=(1,2,3,4,5)\n",
        "b=(2,4)\n",
        "for i in b :\n",
        "  if i in a:\n",
        "    print(\"tuple contains another tuple as a subsequence\")\n",
        "  else:\n",
        "    print(\"tuple does not contains another tuple as a subsequence\" )"
      ],
      "metadata": {
        "colab": {
          "base_uri": "https://localhost:8080/"
        },
        "id": "1Zn28mhdX_MN",
        "outputId": "fba411d0-c5d8-4329-baba-0e93c822765a"
      },
      "execution_count": 2,
      "outputs": [
        {
          "output_type": "stream",
          "name": "stdout",
          "text": [
            "tuple contains another tuple as a subsequence\n",
            "tuple contains another tuple as a subsequence\n"
          ]
        }
      ]
    },
    {
      "cell_type": "markdown",
      "source": [
        "50. Create a tuple of alternating 1s and 0s of length `n`."
      ],
      "metadata": {
        "id": "p8Y5y1k4D8HJ"
      }
    },
    {
      "cell_type": "code",
      "source": [
        "a=(1,0)\n",
        "n=int(input(\"enter the no. of element \"))\n",
        "if(n%2==0):\n",
        "  print(a*(n//2))\n",
        "else:\n",
        "  x=a*((n-1)//2)\n",
        "  x+=(1,)\n",
        "  print(x)"
      ],
      "metadata": {
        "id": "MvcrUpaODn3g",
        "colab": {
          "base_uri": "https://localhost:8080/"
        },
        "outputId": "659294bc-71f2-402c-cc5f-eba265eb0369"
      },
      "execution_count": 4,
      "outputs": [
        {
          "output_type": "stream",
          "name": "stdout",
          "text": [
            "enter the no. of element 7\n",
            "(1, 0, 1, 0, 1, 0, 1)\n"
          ]
        }
      ]
    },
    {
      "cell_type": "markdown",
      "source": [
        "# **Set**"
      ],
      "metadata": {
        "id": "ireD8FjrZ8Os"
      }
    },
    {
      "cell_type": "markdown",
      "source": [
        "1. Create a set with integers from 1 to 5."
      ],
      "metadata": {
        "id": "85dfk7g9aRXu"
      }
    },
    {
      "cell_type": "code",
      "source": [
        "a=set()\n",
        "for i in range(1,6):\n",
        "  a.add(i)\n",
        "print(a)\n"
      ],
      "metadata": {
        "colab": {
          "base_uri": "https://localhost:8080/"
        },
        "id": "HayK00M9Z-01",
        "outputId": "4c1f5b94-5595-4654-ea87-51f70dbd8d35"
      },
      "execution_count": 5,
      "outputs": [
        {
          "output_type": "stream",
          "name": "stdout",
          "text": [
            "{1, 2, 3, 4, 5}\n"
          ]
        }
      ]
    },
    {
      "cell_type": "markdown",
      "source": [
        "2. Add an element to a set."
      ],
      "metadata": {
        "id": "NzDa-DcYa55Y"
      }
    },
    {
      "cell_type": "code",
      "source": [
        "a={1,2,3,4,5}\n",
        "n=int(input(\"enter a no.\"))\n",
        "a.add(n)\n",
        "print(a)"
      ],
      "metadata": {
        "colab": {
          "base_uri": "https://localhost:8080/"
        },
        "id": "PlGZZBbha-Iz",
        "outputId": "40d50f4d-3146-4464-b68d-75828b57dcef"
      },
      "execution_count": 6,
      "outputs": [
        {
          "output_type": "stream",
          "name": "stdout",
          "text": [
            "enter a no.7\n",
            "{1, 2, 3, 4, 5, 7}\n"
          ]
        }
      ]
    },
    {
      "cell_type": "markdown",
      "source": [
        "3. Remove an element from a set."
      ],
      "metadata": {
        "id": "MWqXF61bbm-P"
      }
    },
    {
      "cell_type": "code",
      "source": [
        "a={1,2,3,4,5}\n",
        "n=int(input(\"enter a no.\"))\n",
        "a.remove(n)\n",
        "print(a)"
      ],
      "metadata": {
        "colab": {
          "base_uri": "https://localhost:8080/"
        },
        "id": "z2fCkgBQbmpg",
        "outputId": "ad9b8918-a6f3-4fe5-c04a-840f654e102f"
      },
      "execution_count": 8,
      "outputs": [
        {
          "output_type": "stream",
          "name": "stdout",
          "text": [
            "enter a no.3\n",
            "{1, 2, 4, 5}\n"
          ]
        }
      ]
    },
    {
      "cell_type": "markdown",
      "source": [
        "4. Check if an element exists in a set."
      ],
      "metadata": {
        "id": "BrATpJwmckwe"
      }
    },
    {
      "cell_type": "code",
      "source": [
        "a={1,2,3,4,5}\n",
        "n=int(input(\"enter a no.\"))\n",
        "if n in a:\n",
        "  print(\"element exists in a set\")\n",
        "else:\n",
        "  print(\"element does not exists in a set\")"
      ],
      "metadata": {
        "colab": {
          "base_uri": "https://localhost:8080/"
        },
        "id": "59uz-Jhvao1s",
        "outputId": "eff7199a-f468-4c75-fd26-3a4cc42d3580"
      },
      "execution_count": 9,
      "outputs": [
        {
          "output_type": "stream",
          "name": "stdout",
          "text": [
            "enter a no.4\n",
            "element exists in a set\n"
          ]
        }
      ]
    },
    {
      "cell_type": "markdown",
      "source": [
        "5. Find the length of a set without using the `len()` function."
      ],
      "metadata": {
        "id": "mtvJ02_xcyMe"
      }
    },
    {
      "cell_type": "code",
      "source": [
        "a={1,2,3,4,5}\n",
        "count=0\n",
        "for i in a:\n",
        "  count+=1\n",
        "print(f\"total length of set is {count}\")"
      ],
      "metadata": {
        "colab": {
          "base_uri": "https://localhost:8080/"
        },
        "id": "TtmDYzdmcu6U",
        "outputId": "0ada4b14-1fa2-4639-d6b4-183707a7c62d"
      },
      "execution_count": 11,
      "outputs": [
        {
          "output_type": "stream",
          "name": "stdout",
          "text": [
            "total length of set is 5\n"
          ]
        }
      ]
    },
    {
      "cell_type": "markdown",
      "source": [
        "6. Clear all elements from a set.\n"
      ],
      "metadata": {
        "id": "zxPsm4KsdDSf"
      }
    },
    {
      "cell_type": "code",
      "source": [
        "a={1,2,3,4,5}\n",
        "a.clear()\n",
        "print(a)"
      ],
      "metadata": {
        "colab": {
          "base_uri": "https://localhost:8080/"
        },
        "id": "469rOo6Mc9w6",
        "outputId": "e47a9c37-e38e-41fd-f364-746e7d5703df"
      },
      "execution_count": 12,
      "outputs": [
        {
          "output_type": "stream",
          "name": "stdout",
          "text": [
            "set()\n"
          ]
        }
      ]
    },
    {
      "cell_type": "markdown",
      "source": [
        "7. Create a set of even numbers from 1 to 10."
      ],
      "metadata": {
        "id": "A98m2zGKdOfr"
      }
    },
    {
      "cell_type": "code",
      "source": [
        "a=set()\n",
        "for i in range(1,11):\n",
        "  if i %2 ==0:\n",
        "    a.add(i)\n",
        "print(a)"
      ],
      "metadata": {
        "colab": {
          "base_uri": "https://localhost:8080/"
        },
        "id": "c298VzIpdLY9",
        "outputId": "8ff62ede-5163-47bc-a566-7b0be2d7c815"
      },
      "execution_count": 13,
      "outputs": [
        {
          "output_type": "stream",
          "name": "stdout",
          "text": [
            "{2, 4, 6, 8, 10}\n"
          ]
        }
      ]
    },
    {
      "cell_type": "markdown",
      "source": [
        "8. Create a set of odd numbers from 1 to 10."
      ],
      "metadata": {
        "id": "E9OLJoIudamt"
      }
    },
    {
      "cell_type": "code",
      "source": [
        "a=set()\n",
        "for i in range(1,11):\n",
        "  if i %2 !=0:\n",
        "    a.add(i)\n",
        "print(a)"
      ],
      "metadata": {
        "colab": {
          "base_uri": "https://localhost:8080/"
        },
        "id": "fru3uOGLdXuP",
        "outputId": "b98cf1d1-a73b-4d51-b4fb-935b75955c1e"
      },
      "execution_count": 14,
      "outputs": [
        {
          "output_type": "stream",
          "name": "stdout",
          "text": [
            "{1, 3, 5, 7, 9}\n"
          ]
        }
      ]
    },
    {
      "cell_type": "markdown",
      "source": [
        "9. Find the union of two sets."
      ],
      "metadata": {
        "id": "IV6XDkuFde6X"
      }
    },
    {
      "cell_type": "code",
      "source": [
        "a={1,2,3,4,5}\n",
        "b={3,4,5,6,7,8}\n",
        "print(a.union(b))"
      ],
      "metadata": {
        "colab": {
          "base_uri": "https://localhost:8080/"
        },
        "id": "rtXG3uBjdg5p",
        "outputId": "d2435bc4-a79a-4e38-e3d3-03cf6188e6a2"
      },
      "execution_count": 15,
      "outputs": [
        {
          "output_type": "stream",
          "name": "stdout",
          "text": [
            "{1, 2, 3, 4, 5, 6, 7, 8}\n"
          ]
        }
      ]
    },
    {
      "cell_type": "markdown",
      "source": [
        "10. Find the intersection of two sets."
      ],
      "metadata": {
        "id": "Q0cPa-pxdtbm"
      }
    },
    {
      "cell_type": "code",
      "source": [
        "a={1,2,3,4,5}\n",
        "b={3,4,5,6,7,8}\n",
        "print(a.intersection(b))"
      ],
      "metadata": {
        "colab": {
          "base_uri": "https://localhost:8080/"
        },
        "id": "uisOBPc7dn2q",
        "outputId": "e22201c2-ce6f-417b-9cfb-84121fc6c337"
      },
      "execution_count": 16,
      "outputs": [
        {
          "output_type": "stream",
          "name": "stdout",
          "text": [
            "{3, 4, 5}\n"
          ]
        }
      ]
    },
    {
      "cell_type": "markdown",
      "source": [
        "11. Find the difference between two sets."
      ],
      "metadata": {
        "id": "SAvi-Ynnd0KJ"
      }
    },
    {
      "cell_type": "code",
      "source": [
        "a={1,2,3,4,5}\n",
        "b={3,4,5,6,7,8}\n",
        "print(a-b)"
      ],
      "metadata": {
        "colab": {
          "base_uri": "https://localhost:8080/"
        },
        "id": "nCIqulbKdzhp",
        "outputId": "123d8ec9-f282-429a-acc5-ea335d5b163c"
      },
      "execution_count": 17,
      "outputs": [
        {
          "output_type": "stream",
          "name": "stdout",
          "text": [
            "{1, 2}\n"
          ]
        }
      ]
    },
    {
      "cell_type": "markdown",
      "source": [
        "12. Check if a set is a subset of another set."
      ],
      "metadata": {
        "id": "YwRMN47Yd9pv"
      }
    },
    {
      "cell_type": "code",
      "source": [
        "a={1,2,3,4,5}\n",
        "b={3,4,3,4,5}\n",
        "if b.issubset(a):\n",
        "  print(\"b is subset of a\")\n",
        "else:\n",
        "  print(\"b is not subset of a\")"
      ],
      "metadata": {
        "colab": {
          "base_uri": "https://localhost:8080/"
        },
        "id": "pcS9EnOud9VH",
        "outputId": "4152d08f-89d3-484a-9a21-14b068bff328"
      },
      "execution_count": 20,
      "outputs": [
        {
          "output_type": "stream",
          "name": "stdout",
          "text": [
            "b is subset of a\n"
          ]
        }
      ]
    },
    {
      "cell_type": "markdown",
      "source": [
        "13. Check if a set is a superset of another set."
      ],
      "metadata": {
        "id": "rV6jM9GueLy-"
      }
    },
    {
      "cell_type": "code",
      "source": [
        "a={1,2,3,4,5}\n",
        "b={4,5}\n",
        "if a.issuperset(b):\n",
        "  print(\"a is superset of b\")\n",
        "else:\n",
        "  print(\"a is not superset of b\")\n",
        "\n"
      ],
      "metadata": {
        "colab": {
          "base_uri": "https://localhost:8080/"
        },
        "id": "_jEz91djdxXN",
        "outputId": "4dc5c3a7-1114-439f-bad8-a003acfbf21f"
      },
      "execution_count": 27,
      "outputs": [
        {
          "output_type": "stream",
          "name": "stdout",
          "text": [
            "a is superset of b\n"
          ]
        }
      ]
    },
    {
      "cell_type": "markdown",
      "source": [
        "14. Create a set from a list."
      ],
      "metadata": {
        "id": "FghJPuaxe5bG"
      }
    },
    {
      "cell_type": "code",
      "source": [
        "a=[1,2,3,4,5,6,7]\n",
        "print(set(a))"
      ],
      "metadata": {
        "colab": {
          "base_uri": "https://localhost:8080/"
        },
        "id": "py4TzqdGecJk",
        "outputId": "557774d1-e26a-43f4-c8b9-3518916903b8"
      },
      "execution_count": 28,
      "outputs": [
        {
          "output_type": "stream",
          "name": "stdout",
          "text": [
            "{1, 2, 3, 4, 5, 6, 7}\n"
          ]
        }
      ]
    },
    {
      "cell_type": "markdown",
      "source": [
        "15. Convert a set to a list."
      ],
      "metadata": {
        "id": "9IELzWdVe_MX"
      }
    },
    {
      "cell_type": "code",
      "source": [
        "a={1,2,3,4,5}\n",
        "print(list(a))"
      ],
      "metadata": {
        "colab": {
          "base_uri": "https://localhost:8080/"
        },
        "id": "HJfq3M_Ge8_W",
        "outputId": "99b0cb02-f964-4563-e07c-b13f92fa9a84"
      },
      "execution_count": 30,
      "outputs": [
        {
          "output_type": "stream",
          "name": "stdout",
          "text": [
            "[1, 2, 3, 4, 5]\n"
          ]
        }
      ]
    },
    {
      "cell_type": "markdown",
      "source": [
        "16. Remove a random element from a set."
      ],
      "metadata": {
        "id": "lGa3-uqGfQdp"
      }
    },
    {
      "cell_type": "code",
      "source": [
        "a={1,2,3,4,5,6,7,8}\n",
        "n=int(input(\"enter any random no.\"))\n",
        "a.remove(n)\n",
        "print(a)"
      ],
      "metadata": {
        "colab": {
          "base_uri": "https://localhost:8080/"
        },
        "id": "CmvkQh3yfKc6",
        "outputId": "613287ab-dbd7-4eda-f502-d584f9dec21a"
      },
      "execution_count": 32,
      "outputs": [
        {
          "output_type": "stream",
          "name": "stdout",
          "text": [
            "enter any random no.5\n",
            "{1, 2, 3, 4, 6, 7, 8}\n"
          ]
        }
      ]
    },
    {
      "cell_type": "markdown",
      "source": [
        "17. Pop an element from a set."
      ],
      "metadata": {
        "id": "k5obDmp0fkSK"
      }
    },
    {
      "cell_type": "code",
      "source": [
        "a={1,2,3,4,5,6,7}\n",
        "a.pop()\n",
        "print(a)"
      ],
      "metadata": {
        "colab": {
          "base_uri": "https://localhost:8080/"
        },
        "id": "ZaxfmXe7fdXZ",
        "outputId": "743f3c27-8440-491a-fe98-9660c5ef0954"
      },
      "execution_count": 36,
      "outputs": [
        {
          "output_type": "stream",
          "name": "stdout",
          "text": [
            "{2, 3, 4, 5, 6, 7}\n"
          ]
        }
      ]
    },
    {
      "cell_type": "markdown",
      "source": [
        "18. Check if two sets have no elements in common."
      ],
      "metadata": {
        "id": "DM-8LIGHgLpx"
      }
    },
    {
      "cell_type": "code",
      "source": [
        "a={1,2,3,4,5,6}\n",
        "b={4,5,6,7,8,9}\n",
        "if a.intersection(b):\n",
        "  print(\"two sets have elements in common\")\n",
        "else:\n",
        "  print(\"two sets have no elements in common\")"
      ],
      "metadata": {
        "colab": {
          "base_uri": "https://localhost:8080/"
        },
        "id": "BpVPpVvXf0kc",
        "outputId": "e559855b-fae5-4759-8ce9-bd26a5b568ac"
      },
      "execution_count": 38,
      "outputs": [
        {
          "output_type": "stream",
          "name": "stdout",
          "text": [
            "two sets have elements in common\n"
          ]
        }
      ]
    },
    {
      "cell_type": "markdown",
      "source": [
        "19. Find the symmetric difference between two sets."
      ],
      "metadata": {
        "id": "yhZCZPoDgex1"
      }
    },
    {
      "cell_type": "code",
      "source": [
        "a={1,2,3,4,5,6}\n",
        "b={4,5,6,7,8,9}\n",
        "print(a.symmetric_difference(b))\n"
      ],
      "metadata": {
        "colab": {
          "base_uri": "https://localhost:8080/"
        },
        "id": "H8PzK2Riggkt",
        "outputId": "9cb77987-2b56-46b1-d40d-50a778e95025"
      },
      "execution_count": 39,
      "outputs": [
        {
          "output_type": "stream",
          "name": "stdout",
          "text": [
            "{1, 2, 3, 7, 8, 9}\n"
          ]
        }
      ]
    },
    {
      "cell_type": "markdown",
      "source": [
        "20. Update a set with elements from another set."
      ],
      "metadata": {
        "id": "ucFum7rxgwCT"
      }
    },
    {
      "cell_type": "code",
      "source": [
        "a={1,2,3,4,5,6}\n",
        "b={4,5,6,7,8,9}\n",
        "a.update(b)\n",
        "print(a)"
      ],
      "metadata": {
        "colab": {
          "base_uri": "https://localhost:8080/"
        },
        "id": "gmpqevNsgsKd",
        "outputId": "f2546376-ea49-48bb-9d53-434e8e1388e8"
      },
      "execution_count": 40,
      "outputs": [
        {
          "output_type": "stream",
          "name": "stdout",
          "text": [
            "{1, 2, 3, 4, 5, 6, 7, 8, 9}\n"
          ]
        }
      ]
    },
    {
      "cell_type": "markdown",
      "source": [
        "21. Create a set of the first 5 prime numbers."
      ],
      "metadata": {
        "id": "4YfFGH1yhCnr"
      }
    },
    {
      "cell_type": "code",
      "source": [
        "a=set()\n",
        "for i in range(2,50):\n",
        "  for j in range(2,i):\n",
        "    if i%j==0:\n",
        "      break\n",
        "  else:\n",
        "    a.add(i)\n",
        "  if len(a)==5:\n",
        "    break\n",
        "print(a)\n"
      ],
      "metadata": {
        "colab": {
          "base_uri": "https://localhost:8080/"
        },
        "id": "sFtS6o_Eg_30",
        "outputId": "92eb4c4f-ed0d-4ed0-b336-1a87c1fdcb09"
      },
      "execution_count": 57,
      "outputs": [
        {
          "output_type": "stream",
          "name": "stdout",
          "text": [
            "{2, 3, 5, 7, 11}\n"
          ]
        }
      ]
    },
    {
      "cell_type": "markdown",
      "source": [
        "22. Check if two sets are identical."
      ],
      "metadata": {
        "id": "_UkIVpqImgVq"
      }
    },
    {
      "cell_type": "code",
      "source": [
        "a={1,2,3,4,5}\n",
        "b={1,2,4,3,5}\n",
        "if a==b:\n",
        "  print(\"two sets are identical\")\n",
        "else:\n",
        "  print(\"two sets are not identical\")"
      ],
      "metadata": {
        "colab": {
          "base_uri": "https://localhost:8080/"
        },
        "id": "U1MiIUK9maEm",
        "outputId": "68831bf3-d252-43ae-ae50-aaf9ec70d04c"
      },
      "execution_count": 42,
      "outputs": [
        {
          "output_type": "stream",
          "name": "stdout",
          "text": [
            "two sets are identical\n"
          ]
        }
      ]
    },
    {
      "cell_type": "markdown",
      "source": [
        "23. Create a frozen set."
      ],
      "metadata": {
        "id": "OkfplIaKmuMt"
      }
    },
    {
      "cell_type": "code",
      "source": [
        "a={5,2,3,7,5}\n",
        "print(frozenset(a))\n"
      ],
      "metadata": {
        "colab": {
          "base_uri": "https://localhost:8080/"
        },
        "id": "-klEYOEfmpVj",
        "outputId": "aeb33881-337d-43ac-c8bb-6c7b9e447b69"
      },
      "execution_count": 24,
      "outputs": [
        {
          "output_type": "stream",
          "name": "stdout",
          "text": [
            "frozenset({2, 3, 5, 7})\n"
          ]
        }
      ]
    },
    {
      "cell_type": "markdown",
      "source": [
        "24. Check if a set is disjoint with another set."
      ],
      "metadata": {
        "id": "4u_6-88_pdN0"
      }
    },
    {
      "cell_type": "code",
      "source": [
        "a={1,2,3}\n",
        "b={4,5,6,7,8,9}\n",
        "print(a.isdisjoint(b))\n"
      ],
      "metadata": {
        "colab": {
          "base_uri": "https://localhost:8080/"
        },
        "id": "FulKHWwjof1P",
        "outputId": "fc590fbd-fc6d-4a24-841d-a3fea823d6be"
      },
      "execution_count": 49,
      "outputs": [
        {
          "output_type": "stream",
          "name": "stdout",
          "text": [
            "True\n"
          ]
        }
      ]
    },
    {
      "cell_type": "markdown",
      "source": [
        "25. Create a set of squares of numbers from 1 to 5."
      ],
      "metadata": {
        "id": "nJzx2139qJn3"
      }
    },
    {
      "cell_type": "code",
      "source": [
        "a=set()\n",
        "for i in range(1,6):\n",
        "  a.add(i**2)\n",
        "print(a)"
      ],
      "metadata": {
        "colab": {
          "base_uri": "https://localhost:8080/"
        },
        "id": "zjQKAmgaprc_",
        "outputId": "ee4fcfbf-5c43-4fad-b9b1-0abc94031042"
      },
      "execution_count": 51,
      "outputs": [
        {
          "output_type": "stream",
          "name": "stdout",
          "text": [
            "{1, 4, 9, 16, 25}\n"
          ]
        }
      ]
    },
    {
      "cell_type": "markdown",
      "source": [
        "26. Filter out all even numbers from a set."
      ],
      "metadata": {
        "id": "HEqvTm4fqQd7"
      }
    },
    {
      "cell_type": "code",
      "source": [
        "a={1,2,3,4,5,6,7,8}\n",
        "for i in a:\n",
        "  if i%2 ==0:\n",
        "    print(i,end=\" \")"
      ],
      "metadata": {
        "colab": {
          "base_uri": "https://localhost:8080/"
        },
        "id": "tE6WV5U_qPww",
        "outputId": "18eca016-0791-4866-be09-a0149bf38794"
      },
      "execution_count": 52,
      "outputs": [
        {
          "output_type": "stream",
          "name": "stdout",
          "text": [
            "2 4 6 8 "
          ]
        }
      ]
    },
    {
      "cell_type": "markdown",
      "source": [
        "27. Multiply all elements in a set by 2."
      ],
      "metadata": {
        "id": "Jr1sY-HDqw5H"
      }
    },
    {
      "cell_type": "code",
      "source": [
        "a={1,2,3,4,5,6}\n",
        "b=set()\n",
        "for i in a:\n",
        "  b.add(i*2)\n",
        "print(b)\n"
      ],
      "metadata": {
        "colab": {
          "base_uri": "https://localhost:8080/"
        },
        "id": "T0uw3hp1qIyF",
        "outputId": "847deb84-d3d2-4a2a-8b04-4eb65607777d"
      },
      "execution_count": 53,
      "outputs": [
        {
          "output_type": "stream",
          "name": "stdout",
          "text": [
            "{2, 4, 6, 8, 10, 12}\n"
          ]
        }
      ]
    },
    {
      "cell_type": "markdown",
      "source": [
        "28. Create a set of random numbers."
      ],
      "metadata": {
        "id": "Z809TQhuroSp"
      }
    },
    {
      "cell_type": "code",
      "source": [
        "import random\n",
        "a=set()\n",
        "for i in range (1,10):\n",
        "  a.add(random.randint(1,100),)\n",
        "print(a)"
      ],
      "metadata": {
        "colab": {
          "base_uri": "https://localhost:8080/"
        },
        "id": "00CyOzFiq2qs",
        "outputId": "f7bda0c1-43d9-4095-a080-9fcd62850aab"
      },
      "execution_count": 34,
      "outputs": [
        {
          "output_type": "stream",
          "name": "stdout",
          "text": [
            "{96, 66, 98, 10, 46, 48, 17, 51, 58}\n"
          ]
        }
      ]
    },
    {
      "cell_type": "markdown",
      "source": [
        "29. Check if a set is empty."
      ],
      "metadata": {
        "id": "6Z7jUyZivdC3"
      }
    },
    {
      "cell_type": "code",
      "source": [
        "a={1,2,3,4}\n",
        "if a==set():\n",
        "  print(\"set is empty\")\n",
        "else:\n",
        "  print(\"set is not empty\")"
      ],
      "metadata": {
        "colab": {
          "base_uri": "https://localhost:8080/"
        },
        "id": "H4oXG_kRsV8t",
        "outputId": "8ff554b4-b4cf-42c9-88b5-129abe7aa3e5"
      },
      "execution_count": 37,
      "outputs": [
        {
          "output_type": "stream",
          "name": "stdout",
          "text": [
            "set is not empty\n"
          ]
        }
      ]
    },
    {
      "cell_type": "markdown",
      "source": [
        "30. Create a nested set (hint: use frozenset)."
      ],
      "metadata": {
        "id": "e2jeHcn9v3ym"
      }
    },
    {
      "cell_type": "code",
      "source": [
        "a=set()\n",
        "a.add(frozenset({1,2,3,4}))\n",
        "print(a)\n"
      ],
      "metadata": {
        "colab": {
          "base_uri": "https://localhost:8080/"
        },
        "id": "02R6NOOpvy4c",
        "outputId": "52e17576-93fa-4267-ba74-2fd5910ee18f"
      },
      "execution_count": 8,
      "outputs": [
        {
          "output_type": "stream",
          "name": "stdout",
          "text": [
            "{frozenset({1, 2, 3, 4})}\n"
          ]
        }
      ]
    },
    {
      "cell_type": "markdown",
      "source": [
        "31. Remove an element from a set using the discard method."
      ],
      "metadata": {
        "id": "OFqYKS0Lwglj"
      }
    },
    {
      "cell_type": "code",
      "source": [
        "a = {1, 2, 3, 4, 5, 6, 7}\n",
        "a.discard(3)\n",
        "print(a)\n"
      ],
      "metadata": {
        "colab": {
          "base_uri": "https://localhost:8080/"
        },
        "id": "TcxPAA3iwUII",
        "outputId": "5b432002-3375-45c2-d883-734fcf6125ba"
      },
      "execution_count": 9,
      "outputs": [
        {
          "output_type": "stream",
          "name": "stdout",
          "text": [
            "{1, 2, 4, 5, 6, 7}\n"
          ]
        }
      ]
    },
    {
      "cell_type": "markdown",
      "source": [
        "32. Compare two sets."
      ],
      "metadata": {
        "id": "NECV10BIw8EE"
      }
    },
    {
      "cell_type": "code",
      "source": [
        "a={1,2,3,4,5}\n",
        "b={1,2,4,3,5}\n",
        "if a==b:\n",
        "  print(\"two sets are identical\")\n",
        "else:\n",
        "  print(\"two sets are not identical\")"
      ],
      "metadata": {
        "id": "IGk5HPNLwwjZ"
      },
      "execution_count": null,
      "outputs": []
    },
    {
      "cell_type": "markdown",
      "source": [
        "33. Create a set from a string."
      ],
      "metadata": {
        "id": "32P3wA27xCOS"
      }
    },
    {
      "cell_type": "code",
      "source": [
        "a=\"abcd\"\n",
        "print(set(a))"
      ],
      "metadata": {
        "colab": {
          "base_uri": "https://localhost:8080/"
        },
        "id": "Aji5Y8eIxC3x",
        "outputId": "bb24dde7-a432-45c3-e4aa-f0c9d849b1dd"
      },
      "execution_count": 10,
      "outputs": [
        {
          "output_type": "stream",
          "name": "stdout",
          "text": [
            "{'c', 'd', 'b', 'a'}\n"
          ]
        }
      ]
    },
    {
      "cell_type": "markdown",
      "source": [
        "34. Convert a set of strings to a set of integers."
      ],
      "metadata": {
        "id": "XswkTx9mxSX_"
      }
    },
    {
      "cell_type": "code",
      "source": [
        "a={'1','2','3'}\n",
        "b=set(map(int,a))\n",
        "print(b)\n"
      ],
      "metadata": {
        "colab": {
          "base_uri": "https://localhost:8080/"
        },
        "id": "_iojtXmuxOlj",
        "outputId": "cde670f3-1aa2-4113-887b-516729f3c22d"
      },
      "execution_count": 14,
      "outputs": [
        {
          "output_type": "stream",
          "name": "stdout",
          "text": [
            "{1, 2, 3}\n"
          ]
        }
      ]
    },
    {
      "cell_type": "markdown",
      "source": [
        "35. Convert a set of integers to a set of strings."
      ],
      "metadata": {
        "id": "F2dgYyHpxop3"
      }
    },
    {
      "cell_type": "code",
      "source": [
        "a={1,2,3,4}\n",
        "b=set(map(str,a))\n",
        "print(b)\n"
      ],
      "metadata": {
        "colab": {
          "base_uri": "https://localhost:8080/"
        },
        "id": "AM3Enw3ixfEk",
        "outputId": "1f65bd6f-cd6c-4b24-a2a7-e6db459f5076"
      },
      "execution_count": 15,
      "outputs": [
        {
          "output_type": "stream",
          "name": "stdout",
          "text": [
            "{'3', '4', '2', '1'}\n"
          ]
        }
      ]
    },
    {
      "cell_type": "markdown",
      "source": [
        "36. Create a set from a tuple."
      ],
      "metadata": {
        "id": "RIN_i_Avxz11"
      }
    },
    {
      "cell_type": "code",
      "source": [
        "a=(1,2,3,4,5,6)\n",
        "print(set(a))"
      ],
      "metadata": {
        "colab": {
          "base_uri": "https://localhost:8080/"
        },
        "id": "mprbvPdExwX3",
        "outputId": "b141dce6-bfe0-4909-cdd4-e18ed5a2677c"
      },
      "execution_count": 17,
      "outputs": [
        {
          "output_type": "stream",
          "name": "stdout",
          "text": [
            "{1, 2, 3, 4, 5, 6}\n"
          ]
        }
      ]
    },
    {
      "cell_type": "markdown",
      "source": [
        "37. Convert a set to a tuple."
      ],
      "metadata": {
        "id": "uXnj1m8JyE62"
      }
    },
    {
      "cell_type": "code",
      "source": [
        "a={1,2,3,4,5,6}\n",
        "print(tuple(a))"
      ],
      "metadata": {
        "colab": {
          "base_uri": "https://localhost:8080/"
        },
        "id": "ILWg2bQEx94K",
        "outputId": "8c0e17e6-17f8-4926-a1f6-60c61cd11959"
      },
      "execution_count": 18,
      "outputs": [
        {
          "output_type": "stream",
          "name": "stdout",
          "text": [
            "(1, 2, 3, 4, 5, 6)\n"
          ]
        }
      ]
    },
    {
      "cell_type": "markdown",
      "source": [
        "38. Find the maximum value in a set."
      ],
      "metadata": {
        "id": "8w0Rwr5RyRWs"
      }
    },
    {
      "cell_type": "code",
      "source": [
        "a={1,2,3,4,5,6}\n",
        "print(max(a))"
      ],
      "metadata": {
        "colab": {
          "base_uri": "https://localhost:8080/"
        },
        "id": "Qr6LKY2WyJhK",
        "outputId": "7a9aa827-4101-4bb6-d164-978ef906194b"
      },
      "execution_count": 19,
      "outputs": [
        {
          "output_type": "stream",
          "name": "stdout",
          "text": [
            "6\n"
          ]
        }
      ]
    },
    {
      "cell_type": "markdown",
      "source": [
        "39. Find the minimum value in a set."
      ],
      "metadata": {
        "id": "j2yWutOZyaJK"
      }
    },
    {
      "cell_type": "code",
      "source": [
        "a={1,2,3,4,5,6}\n",
        "print(min(a))"
      ],
      "metadata": {
        "colab": {
          "base_uri": "https://localhost:8080/"
        },
        "id": "4CoNTHusyWeT",
        "outputId": "fa822b75-bd96-425f-dae2-063d61949315"
      },
      "execution_count": 20,
      "outputs": [
        {
          "output_type": "stream",
          "name": "stdout",
          "text": [
            "1\n"
          ]
        }
      ]
    },
    {
      "cell_type": "markdown",
      "source": [
        "40. Create a set from user input."
      ],
      "metadata": {
        "id": "l4kq-wCxyii0"
      }
    },
    {
      "cell_type": "code",
      "source": [
        "a=set()\n",
        "n=int(input(\"enter the number of element \"))\n",
        "for i in range(n):\n",
        "  x=int(input(\"enter the element to be enter\"))\n",
        "  a.add(x)\n",
        "print(a)\n"
      ],
      "metadata": {
        "colab": {
          "base_uri": "https://localhost:8080/"
        },
        "id": "PNbvAl-gyiG4",
        "outputId": "afbfc7ff-0ca8-4a31-97d2-dae8fde8c3b0"
      },
      "execution_count": 22,
      "outputs": [
        {
          "output_type": "stream",
          "name": "stdout",
          "text": [
            "enter the number of element 4\n",
            "enter the element to be enter3\n",
            "enter the element to be enter4\n",
            "enter the element to be enter2\n",
            "enter the element to be enter5\n",
            "{2, 3, 4, 5}\n"
          ]
        }
      ]
    },
    {
      "cell_type": "markdown",
      "source": [
        "41. Check if the intersection of two sets is empty."
      ],
      "metadata": {
        "id": "UAq62v9czUHd"
      }
    },
    {
      "cell_type": "code",
      "source": [
        "a={1,2,3,4,5}\n",
        "b={6,7,8,9,10}\n",
        "if a.intersection(b)==set():\n",
        "  print(\"intersection of two sets is empty\")\n",
        "else:\n",
        "  print(\"intersection of two sets is not empty\")"
      ],
      "metadata": {
        "colab": {
          "base_uri": "https://localhost:8080/"
        },
        "id": "eVduaHuCyZWN",
        "outputId": "c344a0be-865c-4bc8-ba23-14a98d65c14e"
      },
      "execution_count": 23,
      "outputs": [
        {
          "output_type": "stream",
          "name": "stdout",
          "text": [
            "intersection of two sets is empty\n"
          ]
        }
      ]
    },
    {
      "cell_type": "markdown",
      "source": [
        "42. Create a set of the first 5 Fibonacci numbers."
      ],
      "metadata": {
        "id": "-HDa6bAbzmns"
      }
    },
    {
      "cell_type": "code",
      "source": [
        "a=set()\n",
        "x=0\n",
        "y=1\n",
        "a={x,y}\n",
        "for i in range(1,9):\n",
        "  c=x+y\n",
        "  x=y\n",
        "  y=c\n",
        "  a.add(c)\n",
        "  if len(a)==5:\n",
        "    break\n",
        "print(a)"
      ],
      "metadata": {
        "colab": {
          "base_uri": "https://localhost:8080/"
        },
        "id": "Gay7ctwIziAy",
        "outputId": "2cddddbe-9c91-4df3-e32a-a52523e90050"
      },
      "execution_count": 25,
      "outputs": [
        {
          "output_type": "stream",
          "name": "stdout",
          "text": [
            "{0, 1, 2, 3, 5}\n"
          ]
        }
      ]
    },
    {
      "cell_type": "markdown",
      "source": [
        "43. Remove duplicates from a list using sets."
      ],
      "metadata": {
        "id": "rGgcsC301c25"
      }
    },
    {
      "cell_type": "code",
      "source": [
        "a=[1,2,3,4,5,4,3,2,1]\n",
        "print(list(set(a)))"
      ],
      "metadata": {
        "colab": {
          "base_uri": "https://localhost:8080/"
        },
        "id": "_8jLdq9W0_m0",
        "outputId": "f7ee6f76-d04f-419b-d69a-3f43e5d79a47"
      },
      "execution_count": 27,
      "outputs": [
        {
          "output_type": "stream",
          "name": "stdout",
          "text": [
            "[1, 2, 3, 4, 5]\n"
          ]
        }
      ]
    },
    {
      "cell_type": "markdown",
      "source": [
        "44. Check if two sets have the same elements, regardless of their count."
      ],
      "metadata": {
        "id": "l4Lo5iVT2BxM"
      }
    },
    {
      "cell_type": "code",
      "source": [
        "a={1,2,3,4,3,2,1,5,2}\n",
        "b={1,2,3,4,5}\n",
        "if a==b:\n",
        "  print(\"sets have same elements\")\n",
        "else:\n",
        "  print(\"sets don't have same element \")"
      ],
      "metadata": {
        "colab": {
          "base_uri": "https://localhost:8080/"
        },
        "id": "yAL6FAwL0d5B",
        "outputId": "813124a4-6153-4d47-b749-9598371cb088"
      },
      "execution_count": 28,
      "outputs": [
        {
          "output_type": "stream",
          "name": "stdout",
          "text": [
            "sets have same elements\n"
          ]
        }
      ]
    },
    {
      "cell_type": "markdown",
      "source": [
        "45. Create a set of the first `n` powers of 2."
      ],
      "metadata": {
        "id": "QcgX48RE2fFq"
      }
    },
    {
      "cell_type": "code",
      "source": [
        "a=set()\n",
        "n=int(input(\"enter the no. \"))\n",
        "for i in range(1,n+1):\n",
        "  a.add(i**2)\n",
        "print(a)"
      ],
      "metadata": {
        "colab": {
          "base_uri": "https://localhost:8080/"
        },
        "id": "iPoa5HlQ2aqw",
        "outputId": "0d2ca834-4f32-4ea2-b25e-9e97432b0b52"
      },
      "execution_count": 30,
      "outputs": [
        {
          "output_type": "stream",
          "name": "stdout",
          "text": [
            "enter the no. 5\n",
            "{1, 4, 9, 16, 25}\n"
          ]
        }
      ]
    },
    {
      "cell_type": "markdown",
      "source": [
        "46. Find the common elements between a set and a list."
      ],
      "metadata": {
        "id": "VGCR_z4P3moE"
      }
    },
    {
      "cell_type": "code",
      "source": [
        "a=[1,2,3,4,5,6,5,4,3]\n",
        "b={2,3,4,5,2,6,7}\n",
        "print(set(a).intersection(b))"
      ],
      "metadata": {
        "colab": {
          "base_uri": "https://localhost:8080/"
        },
        "id": "hb7tLh8_3CkC",
        "outputId": "a12f5f54-bd9e-472c-f2b4-62d9a480429d"
      },
      "execution_count": 35,
      "outputs": [
        {
          "output_type": "stream",
          "name": "stdout",
          "text": [
            "{2, 3, 4, 5, 6}\n"
          ]
        }
      ]
    },
    {
      "cell_type": "markdown",
      "source": [
        "47. Create a set of the first `n` triangular numbers."
      ],
      "metadata": {
        "id": "HhDDlQcw35uy"
      }
    },
    {
      "cell_type": "code",
      "source": [
        "a=set()\n",
        "n=int(input(\"enter the no. of element\"))\n",
        "x=0\n",
        "for i in range(1,n+1):\n",
        "  x+=i\n",
        "  a.add(x)\n",
        "print(a)"
      ],
      "metadata": {
        "colab": {
          "base_uri": "https://localhost:8080/"
        },
        "id": "c7giDxQT32xJ",
        "outputId": "2ce7fddb-f913-4380-acef-a4f8f54fc18c"
      },
      "execution_count": 53,
      "outputs": [
        {
          "output_type": "stream",
          "name": "stdout",
          "text": [
            "enter the no. of element5\n",
            "{1, 3, 6, 10, 15}\n"
          ]
        }
      ]
    },
    {
      "cell_type": "markdown",
      "source": [
        "48. Check if a set contains another set as a subset."
      ],
      "metadata": {
        "id": "ILPED4Zm4cIV"
      }
    },
    {
      "cell_type": "code",
      "source": [
        "a={1,2,3,4,5}\n",
        "b={3,4}\n",
        "if b.issubset(a):\n",
        "  print(\"b is subset of a\")\n",
        "else:\n",
        "  print(\"b is not subset of a\")"
      ],
      "metadata": {
        "colab": {
          "base_uri": "https://localhost:8080/"
        },
        "id": "Jft8D8bT4C42",
        "outputId": "156ba0ca-8e12-40b5-88ac-0acb9d3d5f3c"
      },
      "execution_count": 39,
      "outputs": [
        {
          "output_type": "stream",
          "name": "stdout",
          "text": [
            "b is subset of a\n"
          ]
        }
      ]
    },
    {
      "cell_type": "markdown",
      "source": [
        "49. Create a set of alternating 1s and 0s of length `n`"
      ],
      "metadata": {
        "id": "EWtZm4bI43bt"
      }
    },
    {
      "cell_type": "code",
      "source": [
        "a=(1,0)\n",
        "n=int(input(\"enter the no. of element \"))\n",
        "if(n%2==0):\n",
        "  print(a*(n//2))\n",
        "else:\n",
        "  x=a*((n-1)//2)\n",
        "  x+=(1,)\n",
        "  print(set(x))                         #set always store unique walue so output will be same always\n",
        ""
      ],
      "metadata": {
        "colab": {
          "base_uri": "https://localhost:8080/"
        },
        "id": "J6pgx7Ds4ysd",
        "outputId": "369d7aec-9820-44ef-89d8-8d37d63ad659"
      },
      "execution_count": 46,
      "outputs": [
        {
          "output_type": "stream",
          "name": "stdout",
          "text": [
            "enter the no. of element 5\n",
            "{0, 1}\n"
          ]
        }
      ]
    },
    {
      "cell_type": "markdown",
      "source": [
        "50. Merge multiple sets into one."
      ],
      "metadata": {
        "id": "Nar8scjv5dy3"
      }
    },
    {
      "cell_type": "code",
      "source": [
        "a={1,2,3,4,5}\n",
        "b={6,7,8,9,10}\n",
        "c={11,12,13,14,15}\n",
        "print(a.union(b).union(c))\n"
      ],
      "metadata": {
        "colab": {
          "base_uri": "https://localhost:8080/"
        },
        "id": "I_1_aTwr5Gz3",
        "outputId": "1b461bce-cc41-4378-b6af-4f484868a7b5"
      },
      "execution_count": 42,
      "outputs": [
        {
          "output_type": "stream",
          "name": "stdout",
          "text": [
            "{1, 2, 3, 4, 5, 6, 7, 8, 9, 10, 11, 12, 13, 14, 15}\n"
          ]
        }
      ]
    },
    {
      "cell_type": "code",
      "source": [],
      "metadata": {
        "id": "jWNDKZE05xs5"
      },
      "execution_count": null,
      "outputs": []
    }
  ]
}