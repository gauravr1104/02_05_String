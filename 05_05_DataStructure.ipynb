{
  "nbformat": 4,
  "nbformat_minor": 0,
  "metadata": {
    "colab": {
      "provenance": [],
      "authorship_tag": "ABX9TyM7wJ9McwSj5kLFRoNCFIy9",
      "include_colab_link": true
    },
    "kernelspec": {
      "name": "python3",
      "display_name": "Python 3"
    },
    "language_info": {
      "name": "python"
    }
  },
  "cells": [
    {
      "cell_type": "markdown",
      "metadata": {
        "id": "view-in-github",
        "colab_type": "text"
      },
      "source": [
        "<a href=\"https://colab.research.google.com/github/gauravr1104/02_05_String/blob/main/05_05_DataStructure.ipynb\" target=\"_parent\"><img src=\"https://colab.research.google.com/assets/colab-badge.svg\" alt=\"Open In Colab\"/></a>"
      ]
    },
    {
      "cell_type": "markdown",
      "source": [
        "# **String**"
      ],
      "metadata": {
        "id": "EpUbb2kRa7Ry"
      }
    },
    {
      "cell_type": "markdown",
      "source": [
        "1. Write a program to reverse a string.\n",
        "\n"
      ],
      "metadata": {
        "id": "ZJgSeDxnbj1j"
      }
    },
    {
      "cell_type": "code",
      "execution_count": 1,
      "metadata": {
        "colab": {
          "base_uri": "https://localhost:8080/"
        },
        "id": "JHkv-H-ja05-",
        "outputId": "fb116c87-5994-4d33-a2d2-15b1ee900725"
      },
      "outputs": [
        {
          "output_type": "stream",
          "name": "stdout",
          "text": [
            "enter the stringgaurav\n",
            "varuag\n"
          ]
        }
      ],
      "source": [
        "a=input(\"enter the string \")   #taking input from the user\n",
        "print(a[::-1])                #reversing the string using indexing and slicing\n"
      ]
    },
    {
      "cell_type": "markdown",
      "source": [
        "2. Check if a string is a palindrome."
      ],
      "metadata": {
        "id": "A_IInqW1b0dJ"
      }
    },
    {
      "cell_type": "code",
      "source": [
        "a=input(\"enter the string \")\n",
        "if a==a[::-1]:\n",
        "  print(\"palindrome\")\n",
        "else:\n",
        "  print(\"not palindrome\")"
      ],
      "metadata": {
        "colab": {
          "base_uri": "https://localhost:8080/"
        },
        "id": "_Z-k5wfobp8z",
        "outputId": "f4f711b4-f5b3-40f0-92a1-fda97491f213"
      },
      "execution_count": 7,
      "outputs": [
        {
          "output_type": "stream",
          "name": "stdout",
          "text": [
            "enter the stringABBA\n",
            "palindrome\n"
          ]
        }
      ]
    },
    {
      "cell_type": "markdown",
      "source": [
        "3. Convert a string to uppercase."
      ],
      "metadata": {
        "id": "MdMP8suRcU-Q"
      }
    },
    {
      "cell_type": "code",
      "source": [
        "a=input(\"enter the string\")\n",
        "print(a.upper())"
      ],
      "metadata": {
        "colab": {
          "base_uri": "https://localhost:8080/"
        },
        "id": "S_dXn5QUcaSq",
        "outputId": "afbdc752-4586-473a-d283-427400b411cc"
      },
      "execution_count": 4,
      "outputs": [
        {
          "output_type": "stream",
          "name": "stdout",
          "text": [
            "enter the stringgaurav\n",
            "GAURAV\n"
          ]
        }
      ]
    },
    {
      "cell_type": "markdown",
      "source": [
        "4. Convert a string to lowercase."
      ],
      "metadata": {
        "id": "rOm1MIUQci4W"
      }
    },
    {
      "cell_type": "code",
      "source": [
        "a=input(\"enter the string\")\n",
        "print(a.lower())\n"
      ],
      "metadata": {
        "colab": {
          "base_uri": "https://localhost:8080/"
        },
        "id": "wo6hbaNNcNeA",
        "outputId": "46fa6dc9-508f-4c98-ebb9-5af4e756eb17"
      },
      "execution_count": 63,
      "outputs": [
        {
          "output_type": "stream",
          "name": "stdout",
          "text": [
            "enter the stringGAURAV\n",
            "gaurav\n"
          ]
        }
      ]
    },
    {
      "cell_type": "markdown",
      "source": [
        "5. Count the number of vowels in a string.\n"
      ],
      "metadata": {
        "id": "nofoWoLKdT6P"
      }
    },
    {
      "cell_type": "code",
      "source": [
        "a=input(\"enter the string \")\n",
        "count=0\n",
        "b=\"aeiou\"\n",
        "for i in a:\n",
        "  if i.lower() in b:\n",
        "    count+=1\n",
        "print(f\"the number of vowels are {count}\")\n"
      ],
      "metadata": {
        "colab": {
          "base_uri": "https://localhost:8080/"
        },
        "id": "j2yNTSLQclmL",
        "outputId": "13b4ad95-9c16-4c4c-c1ef-0132ab07fea3"
      },
      "execution_count": 13,
      "outputs": [
        {
          "output_type": "stream",
          "name": "stdout",
          "text": [
            "enter the string aeioubha\n",
            "the number of vowels are 6\n"
          ]
        }
      ]
    },
    {
      "cell_type": "markdown",
      "source": [
        "6. Count the number of consonants in a string."
      ],
      "metadata": {
        "id": "Ob-za6NSeN9S"
      }
    },
    {
      "cell_type": "code",
      "source": [
        "a=input(\"enter the string \")\n",
        "count=0\n",
        "b='aeiou'\n",
        "for i in a:\n",
        "  if i.lower() not in b:\n",
        "    count+=1\n",
        "print(f\"the number of Consonent are {count}\")\n"
      ],
      "metadata": {
        "colab": {
          "base_uri": "https://localhost:8080/"
        },
        "id": "YELDUUGud4hR",
        "outputId": "d632f2e7-3d06-408e-d5bc-2be125707184"
      },
      "execution_count": 14,
      "outputs": [
        {
          "output_type": "stream",
          "name": "stdout",
          "text": [
            "enter the string GAURAV\n",
            "the number of Consonent are 3\n"
          ]
        }
      ]
    },
    {
      "cell_type": "markdown",
      "source": [
        "7. Remove all whitespaces from a string.\n"
      ],
      "metadata": {
        "id": "cNaoK9uOev6d"
      }
    },
    {
      "cell_type": "code",
      "source": [
        "a=input(\"enter the string \")\n",
        "print(a.replace(\" \",\"\"))"
      ],
      "metadata": {
        "colab": {
          "base_uri": "https://localhost:8080/"
        },
        "id": "WGOeOzf5fKmx",
        "outputId": "c7392035-61fb-4014-92e6-d1b42bc0925b"
      },
      "execution_count": 20,
      "outputs": [
        {
          "output_type": "stream",
          "name": "stdout",
          "text": [
            "enter the string                gaurav      singh      rawat\n",
            "gauravsinghrawat\n"
          ]
        }
      ]
    },
    {
      "cell_type": "markdown",
      "source": [
        "8. Find the length of a string without using the `len()` function."
      ],
      "metadata": {
        "id": "usVoZgYvgNAO"
      }
    },
    {
      "cell_type": "code",
      "source": [
        "a=input(\"enter the string \")\n",
        "count=0\n",
        "for i in a:\n",
        "  count+=1\n",
        "print(f\"total length is {count}\")\n"
      ],
      "metadata": {
        "colab": {
          "base_uri": "https://localhost:8080/"
        },
        "id": "IFFuIHSigEy3",
        "outputId": "f759702b-90be-4eb7-da84-e01b8f9b9ba2"
      },
      "execution_count": 16,
      "outputs": [
        {
          "output_type": "stream",
          "name": "stdout",
          "text": [
            "enter the string gaurav\n",
            "total length is 6\n"
          ]
        }
      ]
    },
    {
      "cell_type": "markdown",
      "source": [
        "9. Check if a string contains a specific word.\n",
        "\n",
        "\n"
      ],
      "metadata": {
        "id": "CI0fEEABgeep"
      }
    },
    {
      "cell_type": "code",
      "source": [
        "a=input(\"enter the string \")\n",
        "word=input(\"enter a word to find \")\n",
        "x=a.find(word)\n",
        "if x==-1:\n",
        "  print(f\"string does not contain {word}\")\n",
        "else:\n",
        "  print(f\"given string contain {word}\")"
      ],
      "metadata": {
        "colab": {
          "base_uri": "https://localhost:8080/"
        },
        "id": "P_InmbmzgcEX",
        "outputId": "661feffa-9a26-4199-da9f-a60f0ad24b7e"
      },
      "execution_count": 31,
      "outputs": [
        {
          "output_type": "stream",
          "name": "stdout",
          "text": [
            "enter the string Gaurav\n",
            "enter a word to find r\n",
            "given string contain r\n"
          ]
        }
      ]
    },
    {
      "cell_type": "markdown",
      "source": [
        "10. Replace a word in a string with another word."
      ],
      "metadata": {
        "id": "9JDqksGJjE4j"
      }
    },
    {
      "cell_type": "code",
      "source": [
        "a=input(\"enter the string \")\n",
        "w=input(\"enter a word that to be replaced\")\n",
        "r=input(\"enter the word\")\n",
        "print(a.replace(w,r))"
      ],
      "metadata": {
        "colab": {
          "base_uri": "https://localhost:8080/"
        },
        "id": "ZbzBjtp1it6Y",
        "outputId": "eda299e0-060f-4511-9e92-5d1ebf23be2d"
      },
      "execution_count": 25,
      "outputs": [
        {
          "output_type": "stream",
          "name": "stdout",
          "text": [
            "enter the string Gaurav\n",
            "enter a word that to be replacedr\n",
            "enter the wordt\n",
            "Gautav\n"
          ]
        }
      ]
    },
    {
      "cell_type": "markdown",
      "source": [
        "11. Count the occurrences of a word in a string."
      ],
      "metadata": {
        "id": "5GISOo8YjgE0"
      }
    },
    {
      "cell_type": "code",
      "source": [
        "a=input(\"enter the string \")\n",
        "w=input('enter the word whose occurance to be find ')\n",
        "count=0\n",
        "x={}\n",
        "for i in a:\n",
        "  if i==w:\n",
        "    count+=1\n",
        "print(f'the word {w} is occuring {count} times in a string')\n",
        "\n"
      ],
      "metadata": {
        "colab": {
          "base_uri": "https://localhost:8080/"
        },
        "id": "eDOmXDa0jYlB",
        "outputId": "fde3a78f-1602-4a76-f5bb-2d111a9ccf89"
      },
      "execution_count": 27,
      "outputs": [
        {
          "output_type": "stream",
          "name": "stdout",
          "text": [
            "enter the string Gaurav\n",
            "enter the word whose occurance to be find a\n",
            "the word a is occuring 2 times in a string\n"
          ]
        }
      ]
    },
    {
      "cell_type": "markdown",
      "source": [
        "12. Find the first occurrence of a word in a string."
      ],
      "metadata": {
        "id": "QSkhvHCZkZZs"
      }
    },
    {
      "cell_type": "code",
      "source": [
        "a=input(\"enter the string \")\n",
        "w=input('enter the word whose first occurance to be find ')\n",
        "for i in a:\n",
        "  if i == w:\n",
        "    x=a.find(i)+1\n",
        "print(f\"the firsts occurance of word{w} is in {x} position\")\n",
        "\n",
        "\n"
      ],
      "metadata": {
        "colab": {
          "base_uri": "https://localhost:8080/"
        },
        "id": "399gsF25kOrO",
        "outputId": "078d6d40-e997-44fe-9f86-439d4b6a2618"
      },
      "execution_count": 34,
      "outputs": [
        {
          "output_type": "stream",
          "name": "stdout",
          "text": [
            "enter the string gaurav\n",
            "enter the word whose first occurance to be find a\n",
            "the firsts occurance of worda is in 2 position\n"
          ]
        }
      ]
    },
    {
      "cell_type": "markdown",
      "source": [
        "13. Find the last occurrence of a word in a string."
      ],
      "metadata": {
        "id": "rUk_SQLJmtOK"
      }
    },
    {
      "cell_type": "code",
      "source": [
        "a=input(\"enter the string \")\n",
        "w=input('enter the word whose last occurance to be find ')\n",
        "for i in a:\n",
        "  if i == w:\n",
        "    x=a.rfind(i)+1                   #rfind() functiion is used to find the highest index of substring\n",
        "print(f\"the last occurance of word{w} is in {x} position\")"
      ],
      "metadata": {
        "colab": {
          "base_uri": "https://localhost:8080/"
        },
        "id": "wseO4gY5mtyj",
        "outputId": "4377bb72-dc9a-47f5-afa8-4bb9c7812d97"
      },
      "execution_count": 62,
      "outputs": [
        {
          "output_type": "stream",
          "name": "stdout",
          "text": [
            "enter the string Gaurav\n",
            "enter the word whose last occurance to be find a\n",
            "the last occurance of worda is in 5 position\n"
          ]
        }
      ]
    },
    {
      "cell_type": "markdown",
      "source": [
        "14. Split a string into a list of words."
      ],
      "metadata": {
        "id": "Tkm3D5-e2jtL"
      }
    },
    {
      "cell_type": "code",
      "source": [
        "a=input(\"Enter the string\")\n",
        "print(a.split())"
      ],
      "metadata": {
        "colab": {
          "base_uri": "https://localhost:8080/"
        },
        "id": "h9GVXab4rP5F",
        "outputId": "e7fe6281-41bf-486f-9bc4-628ba9047a90"
      },
      "execution_count": 64,
      "outputs": [
        {
          "output_type": "stream",
          "name": "stdout",
          "text": [
            "Enter the stringGaurav Singh Rawat\n",
            "['Gaurav', 'Singh', 'Rawat']\n"
          ]
        }
      ]
    },
    {
      "cell_type": "markdown",
      "source": [
        "15. Join a list of words into a string.\n"
      ],
      "metadata": {
        "id": "SlV0qOrv3tmK"
      }
    },
    {
      "cell_type": "code",
      "source": [
        "a=['Gaurav','Singh','Rawat']\n",
        "print(\" \".join(a))                            # join() function is used to join the words of the list"
      ],
      "metadata": {
        "colab": {
          "base_uri": "https://localhost:8080/"
        },
        "id": "8lxlkqV43s4l",
        "outputId": "d40097e9-03c7-4576-caee-6562587a0482"
      },
      "execution_count": 67,
      "outputs": [
        {
          "output_type": "stream",
          "name": "stdout",
          "text": [
            "Gaurav Singh Rawat\n"
          ]
        }
      ]
    },
    {
      "cell_type": "markdown",
      "source": [
        "16. Convert a string where words are separated by spaces to one where words\n",
        "are separated by underscores.\n",
        "\n"
      ],
      "metadata": {
        "id": "nVll9LDc4rsE"
      }
    },
    {
      "cell_type": "code",
      "source": [
        "a=input(\"Enter the string \")\n",
        "print(a.replace(\" \",\"_\"))"
      ],
      "metadata": {
        "colab": {
          "base_uri": "https://localhost:8080/"
        },
        "id": "_oj01LIj5YzL",
        "outputId": "39eadd81-3bbc-476a-f79a-d5b154c9f159"
      },
      "execution_count": 69,
      "outputs": [
        {
          "output_type": "stream",
          "name": "stdout",
          "text": [
            "Enter the stringGaurav Singh Rawat\n",
            "Gaurav_Singh_Rawat\n"
          ]
        }
      ]
    },
    {
      "cell_type": "markdown",
      "source": [
        "17. Check if a string starts with a specific word or phrase."
      ],
      "metadata": {
        "id": "9Y9WG-qt7u8Q"
      }
    },
    {
      "cell_type": "code",
      "source": [
        "a=input(\"Enter the string \")\n",
        "w=input(\"Enter a word to check it is start with\")\n",
        "print(a.startswith(w))"
      ],
      "metadata": {
        "colab": {
          "base_uri": "https://localhost:8080/"
        },
        "id": "GclRXR4o7Oj9",
        "outputId": "a99572c1-1d46-4114-9802-cd2c7ce7b51e"
      },
      "execution_count": 71,
      "outputs": [
        {
          "output_type": "stream",
          "name": "stdout",
          "text": [
            "Enter the string how are you\n",
            "Enter a word to check it is start withhow\n",
            "True\n"
          ]
        }
      ]
    },
    {
      "cell_type": "markdown",
      "source": [
        "18. Check if a string ends with a specific word or phrase.\n"
      ],
      "metadata": {
        "id": "rYZW06jY8q8A"
      }
    },
    {
      "cell_type": "code",
      "source": [
        "a=input(\"Enter the string \")\n",
        "w=input(\"Enter a word to check it is end with\")\n",
        "print(a.endswith(w))\n"
      ],
      "metadata": {
        "colab": {
          "base_uri": "https://localhost:8080/"
        },
        "id": "2zD6gPbq8qT4",
        "outputId": "6cb6e1fa-090a-4145-d75a-43272fecb619"
      },
      "execution_count": 72,
      "outputs": [
        {
          "output_type": "stream",
          "name": "stdout",
          "text": [
            "Enter the string gaurav\n",
            "Enter a word to check it is end withav\n",
            "True\n"
          ]
        }
      ]
    },
    {
      "cell_type": "markdown",
      "source": [
        "19. Convert a string to title case (e.g., \"hello world\" to \"Hello World\").\n"
      ],
      "metadata": {
        "id": "K_Uhsoki9f9v"
      }
    },
    {
      "cell_type": "code",
      "source": [
        "a=input(\"Enter the string \")\n",
        "print(a.title())"
      ],
      "metadata": {
        "colab": {
          "base_uri": "https://localhost:8080/"
        },
        "id": "f4YULM3f9Cr5",
        "outputId": "a1c534b9-37a0-46a1-8dc2-d82be355532f"
      },
      "execution_count": 75,
      "outputs": [
        {
          "output_type": "stream",
          "name": "stdout",
          "text": [
            "Enter the string hello world\n",
            "Hello World\n"
          ]
        }
      ]
    },
    {
      "cell_type": "markdown",
      "source": [
        "20. Find the longest word in a string.\n"
      ],
      "metadata": {
        "id": "W0R2GqaZ-R_1"
      }
    },
    {
      "cell_type": "code",
      "source": [
        "a=input(\"Enter the string \")\n",
        "l=a.split()\n",
        "x=\"\"\n",
        "for i in l:\n",
        "  if len(i)>len(x):\n",
        "    x=i\n",
        "print(f\"the largest word is {x}\")"
      ],
      "metadata": {
        "colab": {
          "base_uri": "https://localhost:8080/"
        },
        "id": "A_1Udj_l99MF",
        "outputId": "2b75b833-cdb2-4e26-971c-13996240d143"
      },
      "execution_count": 87,
      "outputs": [
        {
          "output_type": "stream",
          "name": "stdout",
          "text": [
            "Enter the string gaurav the great\n",
            "the largest word is gaurav\n"
          ]
        }
      ]
    },
    {
      "cell_type": "markdown",
      "source": [
        "21. Find the shortest word in a string."
      ],
      "metadata": {
        "id": "S1-oJtbMCzqp"
      }
    },
    {
      "cell_type": "code",
      "source": [
        "a=input(\"Enter the string \")\n",
        "l=a.split()\n",
        "x=\"\"\n",
        "for i in l:\n",
        "  if x==\"\":\n",
        "    x=i\n",
        "  if len(i)<len(x):\n",
        "    x=i\n",
        "print(f\"the shortest word is {x}\")\n"
      ],
      "metadata": {
        "colab": {
          "base_uri": "https://localhost:8080/"
        },
        "id": "JGO0ZVHNCy1T",
        "outputId": "e669e1ce-c3cb-4e98-bb53-5110b46706aa"
      },
      "execution_count": 91,
      "outputs": [
        {
          "output_type": "stream",
          "name": "stdout",
          "text": [
            "Enter the string Gaurav the great\n",
            "the shortest word is the\n"
          ]
        }
      ]
    },
    {
      "cell_type": "markdown",
      "source": [
        "22. Reverse the order of words in a string.\n"
      ],
      "metadata": {
        "id": "AsbdOr3jE7uA"
      }
    },
    {
      "cell_type": "code",
      "source": [
        "a=input(\"Enter the string \")\n",
        "print(a[::-1])"
      ],
      "metadata": {
        "colab": {
          "base_uri": "https://localhost:8080/"
        },
        "id": "zUYUwlfaAOeN",
        "outputId": "bb73a844-cca8-458a-8488-c85c26f36c67"
      },
      "execution_count": 92,
      "outputs": [
        {
          "output_type": "stream",
          "name": "stdout",
          "text": [
            "Enter the string gaurav\n",
            "varuag\n"
          ]
        }
      ]
    },
    {
      "cell_type": "markdown",
      "source": [
        "23. Check if a string is alphanumeric.\n"
      ],
      "metadata": {
        "id": "us9rtGw9FQpq"
      }
    },
    {
      "cell_type": "code",
      "source": [
        "a=input(\"Enter the string \")\n",
        "print(a.isalnum())"
      ],
      "metadata": {
        "colab": {
          "base_uri": "https://localhost:8080/"
        },
        "id": "3fUXjHkvFLYp",
        "outputId": "744169b7-c9a4-42b3-c22c-99eb89148d3f"
      },
      "execution_count": 94,
      "outputs": [
        {
          "output_type": "stream",
          "name": "stdout",
          "text": [
            "Enter the string gaurav123\n",
            "True\n"
          ]
        }
      ]
    },
    {
      "cell_type": "markdown",
      "source": [
        "24. Extract all digits from a string."
      ],
      "metadata": {
        "id": "bmlWDLykF8Rd"
      }
    },
    {
      "cell_type": "code",
      "source": [
        "a=input(\"Enter the string \")\n",
        "for i in range(0,10):\n",
        "  if str(i) in a:\n",
        "    print(i,end=\" \")"
      ],
      "metadata": {
        "colab": {
          "base_uri": "https://localhost:8080/"
        },
        "id": "AGPyTO0HF5LK",
        "outputId": "4b287b1c-d888-4639-df1e-b0ac23bc42c0"
      },
      "execution_count": 103,
      "outputs": [
        {
          "output_type": "stream",
          "name": "stdout",
          "text": [
            "Enter the string gauravj098092\n",
            "0 2 8 9 "
          ]
        }
      ]
    },
    {
      "cell_type": "markdown",
      "source": [
        "# **OR**\n"
      ],
      "metadata": {
        "id": "lJSvzVyzJX9j"
      }
    },
    {
      "cell_type": "code",
      "source": [
        "a=input(\"Enter the string \")\n",
        "for i in a:\n",
        "  if i.isdigit():    #isdigit() function check wheter itr contain digit or not and return boolean true or false\n",
        "    print(i,end=' ')"
      ],
      "metadata": {
        "colab": {
          "base_uri": "https://localhost:8080/"
        },
        "id": "EoZto5fKJBUo",
        "outputId": "3982610d-5e10-4ac8-c6ff-e77aff0298a4"
      },
      "execution_count": 104,
      "outputs": [
        {
          "output_type": "stream",
          "name": "stdout",
          "text": [
            "Enter the string gaut787huh8\n",
            "7 8 7 8 "
          ]
        }
      ]
    },
    {
      "cell_type": "markdown",
      "source": [
        "25. Extract all alphabets from a string.\n"
      ],
      "metadata": {
        "id": "o67zNjV2IgPn"
      }
    },
    {
      "cell_type": "code",
      "source": [
        "a=input(\"Enter the string \")\n",
        "for i in a:\n",
        "  if \"a\"<=i<=\"z\":\n",
        "    print(i,end=\" \")"
      ],
      "metadata": {
        "colab": {
          "base_uri": "https://localhost:8080/"
        },
        "id": "VGyf_lVXFoUS",
        "outputId": "0f2f26a8-a18a-4fb6-81de-378a9f28ee33"
      },
      "execution_count": 101,
      "outputs": [
        {
          "output_type": "stream",
          "name": "stdout",
          "text": [
            "Enter the string gau7189rt\n",
            "g a u r t "
          ]
        }
      ]
    },
    {
      "cell_type": "markdown",
      "source": [
        "26. Count the number of uppercase letters in a string."
      ],
      "metadata": {
        "id": "iFDt7eJ_Jesg"
      }
    },
    {
      "cell_type": "code",
      "source": [
        "a=input(\"Enter the string \")\n",
        "count=0\n",
        "for i in a:\n",
        "  if \"A\"<=i<=\"Z\":\n",
        "    count+=1\n",
        "print(f\"the number of uppercase letter are {count}\")"
      ],
      "metadata": {
        "colab": {
          "base_uri": "https://localhost:8080/"
        },
        "id": "T2Mmj7nOJhhV",
        "outputId": "866ba639-00f4-4411-c4fb-872ab5d76166"
      },
      "execution_count": 107,
      "outputs": [
        {
          "output_type": "stream",
          "name": "stdout",
          "text": [
            "Enter the string GaUrAv\n",
            "the number of uppercase letter are 3\n"
          ]
        }
      ]
    },
    {
      "cell_type": "markdown",
      "source": [
        "27. Count the number of lowercase letters in a string."
      ],
      "metadata": {
        "id": "KiZIeneOK2UD"
      }
    },
    {
      "cell_type": "code",
      "source": [
        "a=input(\"Enter the string \")\n",
        "count=0\n",
        "for i in a:\n",
        "  if \"a\"<=i<=\"z\":\n",
        "    count+=1\n",
        "print(f\"the number of lowercase letter are {count}\")"
      ],
      "metadata": {
        "colab": {
          "base_uri": "https://localhost:8080/"
        },
        "id": "8AMbbAyEKwAt",
        "outputId": "1782b0f9-cecd-4893-a00d-9dbbce052b4a"
      },
      "execution_count": 108,
      "outputs": [
        {
          "output_type": "stream",
          "name": "stdout",
          "text": [
            "Enter the string GaUrAv rAwAt\n",
            "the number of lowercase letter are 6\n"
          ]
        }
      ]
    },
    {
      "cell_type": "markdown",
      "source": [
        "28. Swap the case of each character in a string."
      ],
      "metadata": {
        "id": "o5hUiyGgLHp3"
      }
    },
    {
      "cell_type": "code",
      "source": [
        "a=input(\"Enter the string \")\n",
        "print(a.swapcase())"
      ],
      "metadata": {
        "colab": {
          "base_uri": "https://localhost:8080/"
        },
        "id": "jhyx9AIMLK2m",
        "outputId": "3d63e596-a925-4c6c-d1ab-bbc065bccd95"
      },
      "execution_count": 109,
      "outputs": [
        {
          "output_type": "stream",
          "name": "stdout",
          "text": [
            "Enter the string GaUrAv\n",
            "gAuRaV\n"
          ]
        }
      ]
    },
    {
      "cell_type": "markdown",
      "source": [
        "29. Remove a specific word from a string."
      ],
      "metadata": {
        "id": "jPvEL-WULdcU"
      }
    },
    {
      "cell_type": "code",
      "source": [
        "a=input(\"Enter the string \")\n",
        "w=input(\"enter the word to be removed\")\n",
        "print(a.replace(w,\"\"))"
      ],
      "metadata": {
        "colab": {
          "base_uri": "https://localhost:8080/"
        },
        "id": "qr-PoktlLYvI",
        "outputId": "08bfa9df-a8c9-4a2c-e399-37531f3b5fa3"
      },
      "execution_count": 111,
      "outputs": [
        {
          "output_type": "stream",
          "name": "stdout",
          "text": [
            "Enter the string gaurav\n",
            "enter the word to be removedr\n",
            "gauav\n"
          ]
        }
      ]
    },
    {
      "cell_type": "markdown",
      "source": [
        "30. Check if a string is a valid email address."
      ],
      "metadata": {
        "id": "V6VelbJcMwM_"
      }
    },
    {
      "cell_type": "code",
      "source": [
        "a=input(\"enter an email address \")\n",
        "x=\"@gmail.com\"\n",
        "if a.endswith(x) and a.count(x)==1 and a.startswith(x)== False:\n",
        "  print(\"email is valid\")\n",
        "else:\n",
        "  print(\"email is invalid\")"
      ],
      "metadata": {
        "colab": {
          "base_uri": "https://localhost:8080/"
        },
        "id": "FN8An173MWYL",
        "outputId": "8cb98918-ae05-45f5-e6db-db28e1cf4865"
      },
      "execution_count": 124,
      "outputs": [
        {
          "output_type": "stream",
          "name": "stdout",
          "text": [
            "enter an email address gauravrawat13@gmail.com\n",
            "email is valid\n"
          ]
        }
      ]
    },
    {
      "cell_type": "markdown",
      "source": [
        "31. Extract the username from an email address string."
      ],
      "metadata": {
        "id": "u16BAWPfTi38"
      }
    },
    {
      "cell_type": "code",
      "source": [
        "a=input(\"enter an email address \")\n",
        "username=\"\"\n",
        "for i in a:\n",
        "  if (i!='@'):\n",
        "    username+=i\n",
        "  else:\n",
        "    break\n",
        "print(username)"
      ],
      "metadata": {
        "colab": {
          "base_uri": "https://localhost:8080/"
        },
        "id": "yFnjqUn9N192",
        "outputId": "cff31324-64c5-4054-a8d5-f5828af6ffa2"
      },
      "execution_count": 126,
      "outputs": [
        {
          "output_type": "stream",
          "name": "stdout",
          "text": [
            "enter an email address buahsb@gmail.com\n",
            "buahsb\n"
          ]
        }
      ]
    },
    {
      "cell_type": "markdown",
      "source": [
        "# **Or**"
      ],
      "metadata": {
        "id": "86-bDJYSV1fy"
      }
    },
    {
      "cell_type": "code",
      "source": [
        "a = input('enter the email address ')\n",
        "a[:a.find('@')]"
      ],
      "metadata": {
        "colab": {
          "base_uri": "https://localhost:8080/",
          "height": 52
        },
        "id": "BvVaQobsVJg_",
        "outputId": "4616fa59-35e2-4dec-a6d6-b4f1bd470b25"
      },
      "execution_count": 129,
      "outputs": [
        {
          "name": "stdout",
          "output_type": "stream",
          "text": [
            "enter the email address gaurav12@gmail.com\n"
          ]
        },
        {
          "output_type": "execute_result",
          "data": {
            "text/plain": [
              "'gaurav12'"
            ],
            "application/vnd.google.colaboratory.intrinsic+json": {
              "type": "string"
            }
          },
          "metadata": {},
          "execution_count": 129
        }
      ]
    },
    {
      "cell_type": "markdown",
      "source": [
        "32. Extract the domain name from an email address string."
      ],
      "metadata": {
        "id": "eyVef7bEYVIK"
      }
    },
    {
      "cell_type": "code",
      "source": [
        "a = input('enter the email address ')\n",
        "a[a.find('@'):]"
      ],
      "metadata": {
        "colab": {
          "base_uri": "https://localhost:8080/",
          "height": 52
        },
        "id": "SXRNMMcfWKG3",
        "outputId": "2993471c-ba75-42eb-e0e2-1e7d91538c15"
      },
      "execution_count": 130,
      "outputs": [
        {
          "name": "stdout",
          "output_type": "stream",
          "text": [
            "enter the email address nuksnz@gmail.com\n"
          ]
        },
        {
          "output_type": "execute_result",
          "data": {
            "text/plain": [
              "'@gmail.com'"
            ],
            "application/vnd.google.colaboratory.intrinsic+json": {
              "type": "string"
            }
          },
          "metadata": {},
          "execution_count": 130
        }
      ]
    },
    {
      "cell_type": "markdown",
      "source": [
        "33. Replace multiple spaces in a string with a single space."
      ],
      "metadata": {
        "id": "jIREBjkbYhaP"
      }
    },
    {
      "cell_type": "code",
      "source": [
        "a=input(\"enter the string\")\n",
        "print(' '.join(a.split()))"
      ],
      "metadata": {
        "colab": {
          "base_uri": "https://localhost:8080/"
        },
        "id": "8SFOk_W-ZGM3",
        "outputId": "270ff3cb-9c25-40d2-9b37-d7ad60d34c58"
      },
      "execution_count": 134,
      "outputs": [
        {
          "output_type": "stream",
          "name": "stdout",
          "text": [
            "enter the string       gaurav       rawat kknks     k\n",
            "gaurav rawat kknks k\n"
          ]
        }
      ]
    },
    {
      "cell_type": "markdown",
      "source": [
        "34. Check if a string is a valid URL."
      ],
      "metadata": {
        "id": "WG7PgtC8hmLI"
      }
    },
    {
      "cell_type": "code",
      "source": [
        "a=input(\"enter the url: \")\n",
        "n=a.endswith(' ')\n",
        "if( a.startswith('https://')== True  and a.count('https://')==1):\n",
        "  print('url is valid')\n",
        "elif( a.startswith('https://') == True  and a.count('http://')==1):\n",
        "  print('url is valid')\n",
        "else:\n",
        "  print('url is not valid')"
      ],
      "metadata": {
        "colab": {
          "base_uri": "https://localhost:8080/"
        },
        "id": "jIZukLdthIaX",
        "outputId": "30b996c4-c46e-4711-ca4c-0c476b49228a"
      },
      "execution_count": 137,
      "outputs": [
        {
          "output_type": "stream",
          "name": "stdout",
          "text": [
            "enter the url: https://www.google.com/\n",
            "url is valid\n"
          ]
        }
      ]
    },
    {
      "cell_type": "markdown",
      "source": [
        "35. Extract the protocol (http or https) from a URL string.\n"
      ],
      "metadata": {
        "id": "46KP-oJLgmpp"
      }
    },
    {
      "cell_type": "code",
      "source": [
        "a=input(\"enter the url: \")\n",
        "a[:a.find(':')]"
      ],
      "metadata": {
        "colab": {
          "base_uri": "https://localhost:8080/",
          "height": 52
        },
        "id": "QTYnBQhjdkGl",
        "outputId": "402fd682-1ed5-45ef-ee61-fc9396a6391d"
      },
      "execution_count": 140,
      "outputs": [
        {
          "name": "stdout",
          "output_type": "stream",
          "text": [
            "enter the url: https://www.google.com/\n"
          ]
        },
        {
          "output_type": "execute_result",
          "data": {
            "text/plain": [
              "'https'"
            ],
            "application/vnd.google.colaboratory.intrinsic+json": {
              "type": "string"
            }
          },
          "metadata": {},
          "execution_count": 140
        }
      ]
    },
    {
      "cell_type": "markdown",
      "source": [
        "36. Find the frequency of each character in a string."
      ],
      "metadata": {
        "id": "9nNaGhhmj94I"
      }
    },
    {
      "cell_type": "code",
      "source": [
        "a=input(\"Enter the string \")\n",
        "x={}\n",
        "for i in a:\n",
        "  if i in x:\n",
        "    x[i]+=1\n",
        "  else:\n",
        "    x[i]=1\n",
        "print(x)\n",
        ""
      ],
      "metadata": {
        "colab": {
          "base_uri": "https://localhost:8080/"
        },
        "id": "Aln4-vcUdkDQ",
        "outputId": "e2c5c915-9316-4e75-e48e-0235621a749d"
      },
      "execution_count": 162,
      "outputs": [
        {
          "output_type": "stream",
          "name": "stdout",
          "text": [
            "Enter the string gaurav\n",
            "{'g': 1, 'a': 2, 'u': 1, 'r': 1, 'v': 1}\n"
          ]
        }
      ]
    },
    {
      "cell_type": "markdown",
      "source": [
        "37. Remove all punctuation from a string.\n"
      ],
      "metadata": {
        "id": "z8SCsvHOlLaq"
      }
    },
    {
      "cell_type": "code",
      "source": [
        "a=input(\"Enter the string \")\n",
        "x=\"!@#$%^&*()\"\n",
        "y=\"\"\n",
        "for i in a:\n",
        "  if i not in x:\n",
        "    y+=i\n",
        "print(y)\n"
      ],
      "metadata": {
        "colab": {
          "base_uri": "https://localhost:8080/"
        },
        "id": "IwXqh6SSlMUk",
        "outputId": "a51e7418-3e5d-451a-c24d-ed5b655dffa5"
      },
      "execution_count": 145,
      "outputs": [
        {
          "output_type": "stream",
          "name": "stdout",
          "text": [
            "Enter the string g!a@u#rav\n",
            "gaurav\n"
          ]
        }
      ]
    },
    {
      "cell_type": "markdown",
      "source": [
        "38. Check if a string contains only digits."
      ],
      "metadata": {
        "id": "2OWCS79gmVRu"
      }
    },
    {
      "cell_type": "code",
      "source": [
        "a=input(\"Enter the string \")\n",
        "print(a.isdigit())            #will return true if string only contains digit"
      ],
      "metadata": {
        "colab": {
          "base_uri": "https://localhost:8080/"
        },
        "id": "7LFbSmH-mUze",
        "outputId": "6adb0230-3a01-49b6-ce51-4d8afc303798"
      },
      "execution_count": 147,
      "outputs": [
        {
          "output_type": "stream",
          "name": "stdout",
          "text": [
            "Enter the string 15752\n",
            "True\n"
          ]
        }
      ]
    },
    {
      "cell_type": "markdown",
      "source": [
        "39. Check if a string contains only alphabets."
      ],
      "metadata": {
        "id": "YZT4khEanh8w"
      }
    },
    {
      "cell_type": "code",
      "source": [
        "a=input(\"Enter the string \")\n",
        "print(a.isalpha())             #will return true if string only contain alphabets"
      ],
      "metadata": {
        "colab": {
          "base_uri": "https://localhost:8080/"
        },
        "id": "bOGfavAhnhng",
        "outputId": "9917acf5-aba4-491e-e3a4-214c919c509f"
      },
      "execution_count": 152,
      "outputs": [
        {
          "output_type": "stream",
          "name": "stdout",
          "text": [
            "Enter the string gaurav\n",
            "True\n"
          ]
        }
      ]
    },
    {
      "cell_type": "markdown",
      "source": [
        "40. Convert a string to a list of characters."
      ],
      "metadata": {
        "id": "ZQ9Bn9aXn1iz"
      }
    },
    {
      "cell_type": "code",
      "source": [
        "a=input(\"Enter the string \")\n",
        "x=[]\n",
        "for i in a:\n",
        "  x.append(i)\n",
        "print(x)"
      ],
      "metadata": {
        "colab": {
          "base_uri": "https://localhost:8080/"
        },
        "id": "wiwcOGKxlK9a",
        "outputId": "a6be76dc-3066-4cbd-f1be-6def24b9b706"
      },
      "execution_count": 150,
      "outputs": [
        {
          "output_type": "stream",
          "name": "stdout",
          "text": [
            "Enter the string Gaurav\n",
            "['G', 'a', 'u', 'r', 'a', 'v']\n"
          ]
        }
      ]
    },
    {
      "cell_type": "markdown",
      "source": [
        "41. Check if two strings are anagrams."
      ],
      "metadata": {
        "id": "I_qaP7q7pF5n"
      }
    },
    {
      "cell_type": "code",
      "source": [
        "a=input(\"enter a word\")\n",
        "b=input(\"enter another word\")\n",
        "x=[]\n",
        "y=[]\n",
        "for i in a:\n",
        "  x.append(i)\n",
        "for j in b:\n",
        "  y.append(j)\n",
        "if set(x)==set(y) and len(x)==len(y):\n",
        "  print(\"a and b are anagrams\")\n",
        "else:\n",
        "  print(\"a and b are not anagrams\")"
      ],
      "metadata": {
        "colab": {
          "base_uri": "https://localhost:8080/"
        },
        "id": "4mNEIO8GkyeC",
        "outputId": "af42880d-2a02-4a9a-cc9e-a675ae3fafd1"
      },
      "execution_count": 157,
      "outputs": [
        {
          "output_type": "stream",
          "name": "stdout",
          "text": [
            "enter a wordajay\n",
            "enter another wordjaya\n",
            "a and b are anagrams\n"
          ]
        }
      ]
    },
    {
      "cell_type": "markdown",
      "source": [
        "42. Encode a string using a Caesar cipher."
      ],
      "metadata": {
        "id": "EI6IXFsIrqcJ"
      }
    },
    {
      "cell_type": "code",
      "source": [
        "a=input(\"enter a word \")\n",
        "x=\"\"\n",
        "for i in a:\n",
        "  y=ord(i)+3             #shifting to the next 3rd value\n",
        "  x+=chr(y)\n",
        "print(x)"
      ],
      "metadata": {
        "colab": {
          "base_uri": "https://localhost:8080/"
        },
        "id": "TV4wloi_rqC6",
        "outputId": "caae7ef8-c3fc-4594-cc48-871d91a6140d"
      },
      "execution_count": 160,
      "outputs": [
        {
          "output_type": "stream",
          "name": "stdout",
          "text": [
            "enter a wordhello\n",
            "khoor\n"
          ]
        }
      ]
    },
    {
      "cell_type": "markdown",
      "source": [
        "43. Decode a Caesar cipher encoded string."
      ],
      "metadata": {
        "id": "Urxdfjq1vHo3"
      }
    },
    {
      "cell_type": "code",
      "source": [
        "a=input(\"enter a word \")\n",
        "x=\"\"\n",
        "for i in a:\n",
        "  y=ord(i)-3\n",
        "  x+=chr(y)\n",
        "print(x)"
      ],
      "metadata": {
        "colab": {
          "base_uri": "https://localhost:8080/"
        },
        "id": "3mIyJjMJplas",
        "outputId": "f2a524c6-6a80-4832-cd9c-ff44a5b8a053"
      },
      "execution_count": 161,
      "outputs": [
        {
          "output_type": "stream",
          "name": "stdout",
          "text": [
            "enter a word khoor\n",
            "hello\n"
          ]
        }
      ]
    },
    {
      "cell_type": "markdown",
      "source": [
        "44. Find the most frequent word in a string."
      ],
      "metadata": {
        "id": "hgq4yqvlv5yr"
      }
    },
    {
      "cell_type": "code",
      "source": [
        "a=input(\"Enter the string \")\n",
        "b=a.split()                        # will split the whole string in list\n",
        "x={}\n",
        "count=0\n",
        "for i in b:                         # will access each element in list\n",
        "  if i in x:\n",
        "    x[i]+=1\n",
        "  else:\n",
        "    x[i]=1\n",
        "\n",
        "for j in x:\n",
        "  if x[j]>count:\n",
        "    count=x[j]\n",
        "    y=j\n",
        "print(f\"the most frequent word is {y}\")\n",
        "\n",
        "\n"
      ],
      "metadata": {
        "colab": {
          "base_uri": "https://localhost:8080/"
        },
        "id": "UvOxbgwrvhO5",
        "outputId": "f98ce0e5-7e09-44da-a23c-03609703651d"
      },
      "execution_count": 165,
      "outputs": [
        {
          "output_type": "stream",
          "name": "stdout",
          "text": [
            "Enter the string this is the best lapyop in the world is is is\n",
            "the most frequent character is is\n"
          ]
        }
      ]
    },
    {
      "cell_type": "markdown",
      "source": [
        "45. Find all unique words in a string."
      ],
      "metadata": {
        "id": "W6NjN263yQkS"
      }
    },
    {
      "cell_type": "code",
      "source": [
        "a=input(\"Enter the string \")\n",
        "x=\"\"\n",
        "for i in a:\n",
        "  if i not in x:\n",
        "    x+=i\n",
        "print(f\"the unique words are {x}\")\n"
      ],
      "metadata": {
        "colab": {
          "base_uri": "https://localhost:8080/"
        },
        "id": "AMEw7YkeyMwN",
        "outputId": "311f2866-03d2-471d-a922-1ef916ed1f33"
      },
      "execution_count": 167,
      "outputs": [
        {
          "output_type": "stream",
          "name": "stdout",
          "text": [
            "Enter the string gauravgauravgaurav\n",
            "the unique words are gaurv\n"
          ]
        }
      ]
    },
    {
      "cell_type": "markdown",
      "source": [
        "46. Count the number of syllables in a string."
      ],
      "metadata": {
        "id": "sC1oxSST18dU"
      }
    },
    {
      "cell_type": "code",
      "source": [],
      "metadata": {
        "id": "HFqapi7a1oz1"
      },
      "execution_count": null,
      "outputs": []
    },
    {
      "cell_type": "markdown",
      "source": [
        "47. Check if a string contains any special characters."
      ],
      "metadata": {
        "id": "zCiiZWV352aF"
      }
    },
    {
      "cell_type": "code",
      "source": [
        "a=input(\"Enter the string \")\n",
        "x='!@#$%^&*()'\n",
        "count=0\n",
        "for i in a:\n",
        "  if i in x:\n",
        "    count+=1\n",
        "print(f'there are {count} special characters')"
      ],
      "metadata": {
        "colab": {
          "base_uri": "https://localhost:8080/"
        },
        "id": "SKSXUpLv57VC",
        "outputId": "146c18f3-a0f5-4df5-9502-ea1fea65cf67"
      },
      "execution_count": 171,
      "outputs": [
        {
          "output_type": "stream",
          "name": "stdout",
          "text": [
            "Enter the string G!A@U#R$\n",
            "there are 4 special characters\n"
          ]
        }
      ]
    },
    {
      "cell_type": "markdown",
      "source": [
        "48. Remove the nth word from a string."
      ],
      "metadata": {
        "id": "NR_uIdNJ8jSp"
      }
    },
    {
      "cell_type": "code",
      "source": [
        "a=input(\"enter a string \")\n",
        "n=int(input(\"enter the number of the element to be remove\"))\n",
        "b=a.split()\n",
        "b.pop(n-1)\n",
        "print(\" \".join(b))"
      ],
      "metadata": {
        "colab": {
          "base_uri": "https://localhost:8080/"
        },
        "id": "8B-tVE3k665C",
        "outputId": "a187fd17-fbe9-4ab3-e343-ba07066167e1"
      },
      "execution_count": 1,
      "outputs": [
        {
          "output_type": "stream",
          "name": "stdout",
          "text": [
            "enter a stringgaurav is the great\n",
            "enter the number of the element to be remove3\n",
            "gaurav is great\n"
          ]
        }
      ]
    },
    {
      "cell_type": "markdown",
      "source": [
        "49. Insert a word at the nth position in a string."
      ],
      "metadata": {
        "id": "HDEBJnS69QCS"
      }
    },
    {
      "cell_type": "code",
      "source": [
        "a=input(\"enter a string\")\n",
        "n=int(input(\"enter the nth position to be insert\"))\n",
        "b=a.split()\n",
        "b.insert(n-1,input(\"enter the word to be insert\"))\n",
        "print(\" \".join(b))"
      ],
      "metadata": {
        "colab": {
          "base_uri": "https://localhost:8080/"
        },
        "id": "X8eN26qc6b4M",
        "outputId": "142f8f71-48f9-4d66-e26b-f5ee9b5180c1"
      },
      "execution_count": 175,
      "outputs": [
        {
          "output_type": "stream",
          "name": "stdout",
          "text": [
            "enter a stringgaurav is great\n",
            "enter the nth position to be insert3\n",
            "enter the word to be insertthe\n",
            "gaurav is the great\n"
          ]
        }
      ]
    },
    {
      "cell_type": "markdown",
      "source": [
        "50. Convert a CSV string to a list of lists."
      ],
      "metadata": {
        "id": "OvuqyTq5_Dua"
      }
    },
    {
      "cell_type": "code",
      "source": [],
      "metadata": {
        "id": "mGNZxwoj_DTg"
      },
      "execution_count": null,
      "outputs": []
    },
    {
      "cell_type": "markdown",
      "source": [
        "# **List**"
      ],
      "metadata": {
        "id": "Sy6XemqYXwOO"
      }
    },
    {
      "cell_type": "markdown",
      "source": [
        "1. Create a list with integers from 1 to 10."
      ],
      "metadata": {
        "id": "6OQpRppFXwKb"
      }
    },
    {
      "cell_type": "code",
      "source": [
        "a=[]\n",
        "for i in range (1,11):\n",
        "  a.append(i)\n",
        "print(a)"
      ],
      "metadata": {
        "colab": {
          "base_uri": "https://localhost:8080/"
        },
        "id": "1kdwio_jX712",
        "outputId": "40088b50-6796-41ab-d284-fd776a3035b5"
      },
      "execution_count": 2,
      "outputs": [
        {
          "output_type": "stream",
          "name": "stdout",
          "text": [
            "[1, 2, 3, 4, 5, 6, 7, 8, 9, 10]\n"
          ]
        }
      ]
    },
    {
      "cell_type": "markdown",
      "source": [
        "2. Find the length of a list without using the `len()` function.\n"
      ],
      "metadata": {
        "id": "JbIQZfMTYdsT"
      }
    },
    {
      "cell_type": "code",
      "source": [
        "a=[1,2,3,4,5,6,34,32]\n",
        "count=0\n",
        "for i in a:\n",
        "  count+=1\n",
        "print(f\"the length of list is {count}\")"
      ],
      "metadata": {
        "colab": {
          "base_uri": "https://localhost:8080/"
        },
        "id": "iJnemOR6YfBo",
        "outputId": "c61250ac-8002-4800-f37e-71ddbd5191fe"
      },
      "execution_count": 3,
      "outputs": [
        {
          "output_type": "stream",
          "name": "stdout",
          "text": [
            "the length of list is 8\n"
          ]
        }
      ]
    },
    {
      "cell_type": "code",
      "source": [
        "a=[1,2,3,4,5,6]\n",
        "n=int(input(\"enter the no. to be append\"))\n",
        "a.append(n)\n",
        "print(a)\n"
      ],
      "metadata": {
        "colab": {
          "base_uri": "https://localhost:8080/"
        },
        "id": "Ga2zhjeQYEsG",
        "outputId": "af02b7f4-dd67-4faa-9d81-a2ab7131ff45"
      },
      "execution_count": 4,
      "outputs": [
        {
          "output_type": "stream",
          "name": "stdout",
          "text": [
            "enter the no. to be append45\n",
            "[1, 2, 3, 4, 5, 6, 45]\n"
          ]
        }
      ]
    },
    {
      "cell_type": "markdown",
      "source": [
        "4. Insert an element at a specific index in a list."
      ],
      "metadata": {
        "id": "9Qh8snG4ZTxU"
      }
    },
    {
      "cell_type": "code",
      "source": [
        "a=[1,2,3,4,5,6,7]\n",
        "i=int(input(\"enter the index\"))\n",
        "n=int(input(\"enter the no. to be insert\"))\n",
        "a.insert(i,n)\n",
        "print(a)"
      ],
      "metadata": {
        "colab": {
          "base_uri": "https://localhost:8080/"
        },
        "id": "L8pVlNB4ZPBd",
        "outputId": "0f9313ba-03a3-4734-89b1-6f8f30567e93"
      },
      "execution_count": 5,
      "outputs": [
        {
          "output_type": "stream",
          "name": "stdout",
          "text": [
            "enter the index5\n",
            "enter the no. to be insert56\n",
            "[1, 2, 3, 4, 5, 56, 6, 7]\n"
          ]
        }
      ]
    },
    {
      "cell_type": "markdown",
      "source": [
        "5. Remove an element from a list by its value."
      ],
      "metadata": {
        "id": "4F6XqmZbZpdQ"
      }
    },
    {
      "cell_type": "code",
      "source": [
        "a=[1,2,3,4,5,6,7,8]\n",
        "n=int(input(\"enter the no. to be removed\"))\n",
        "a.remove(n)\n",
        "print(a)\n"
      ],
      "metadata": {
        "colab": {
          "base_uri": "https://localhost:8080/"
        },
        "id": "iBH8l4KRZj7_",
        "outputId": "d1813faa-60a2-4e7b-97f3-710deb21b2b4"
      },
      "execution_count": 6,
      "outputs": [
        {
          "output_type": "stream",
          "name": "stdout",
          "text": [
            "enter the no. to be removed5\n",
            "[1, 2, 3, 4, 6, 7, 8]\n"
          ]
        }
      ]
    },
    {
      "cell_type": "markdown",
      "source": [
        "6. Remove an element from a list by its index."
      ],
      "metadata": {
        "id": "vJT9EeG0aBVm"
      }
    },
    {
      "cell_type": "code",
      "source": [
        "a=[1,2,3,4,5,6,7,8]\n",
        "n=int(input(\"enter the index of no. to be removed\"))\n",
        "a.pop(n)\n",
        "print(a)"
      ],
      "metadata": {
        "colab": {
          "base_uri": "https://localhost:8080/"
        },
        "id": "ZIQ1WTG7Z9Z7",
        "outputId": "574e6fdb-da6b-45a1-b133-11818719d518"
      },
      "execution_count": 7,
      "outputs": [
        {
          "output_type": "stream",
          "name": "stdout",
          "text": [
            "enter the index of no. to be removed2\n",
            "[1, 2, 4, 5, 6, 7, 8]\n"
          ]
        }
      ]
    },
    {
      "cell_type": "markdown",
      "source": [
        "7. Check if an element exists in a list."
      ],
      "metadata": {
        "id": "F_GDRAeQaOdd"
      }
    },
    {
      "cell_type": "code",
      "source": [
        "a=[1,2,3,4,5,6,7,8]\n",
        "n=int(input(\"enter the no. to be check\"))\n",
        "if n in a:\n",
        "  print(\"no. is present in the list\")\n",
        "else:\n",
        "  print(\"no. is not present in the list\")"
      ],
      "metadata": {
        "colab": {
          "base_uri": "https://localhost:8080/"
        },
        "id": "1CLJG6h3aJnF",
        "outputId": "1399882d-9798-4b85-c875-21d313353b42"
      },
      "execution_count": 8,
      "outputs": [
        {
          "output_type": "stream",
          "name": "stdout",
          "text": [
            "enter the no. to be check4\n",
            "no. is present in the list\n"
          ]
        }
      ]
    },
    {
      "cell_type": "markdown",
      "source": [
        "8. Find the index of the first occurrence of an element in a list."
      ],
      "metadata": {
        "id": "g3l6pKlAat2N"
      }
    },
    {
      "cell_type": "code",
      "source": [
        "a=[1,2,3,4,3,4,5,6,7,8]\n",
        "n=int(input(\"enter the no. of which 1st index to be checked \"))\n",
        "for i in a:\n",
        "  if i==n:\n",
        "    x=a.index(i)\n",
        "    break\n",
        "print(f\"the index of {n} is {x}\")"
      ],
      "metadata": {
        "colab": {
          "base_uri": "https://localhost:8080/"
        },
        "id": "M54IP0Arak1x",
        "outputId": "22c803df-ad39-43a2-d4fb-497cbb53c59c"
      },
      "execution_count": 11,
      "outputs": [
        {
          "output_type": "stream",
          "name": "stdout",
          "text": [
            "enter the no. of which 1st index to be checked 4\n",
            "the index of 4 is 3\n"
          ]
        }
      ]
    },
    {
      "cell_type": "markdown",
      "source": [
        "9. Count the occurrences of an element in a list."
      ],
      "metadata": {
        "id": "CWK_hh5-bYIt"
      }
    },
    {
      "cell_type": "code",
      "source": [
        "a=[1,2,3,1,2,3,1,2,3,3,4,5]\n",
        "n=int(input(\"enter the no. of which occurance is to be found \"))\n",
        "count=0\n",
        "for i in a:\n",
        "  if i==n:\n",
        "    count+=1\n",
        "print(f\"the occurance of {n} is {count} times\")"
      ],
      "metadata": {
        "colab": {
          "base_uri": "https://localhost:8080/"
        },
        "id": "dw1TodzKbGAt",
        "outputId": "92b5b832-fa95-45ad-bf72-46b3c28f0aa0"
      },
      "execution_count": 12,
      "outputs": [
        {
          "output_type": "stream",
          "name": "stdout",
          "text": [
            "enter the no. of which occurance is to be found 3\n",
            "the occurance of 3 is 4 times\n"
          ]
        }
      ]
    },
    {
      "cell_type": "markdown",
      "source": [
        "10. Reverse the order of elements in a list."
      ],
      "metadata": {
        "id": "gKLO4BAMcIEN"
      }
    },
    {
      "cell_type": "code",
      "source": [
        "a=[1,2,3,4,5,6,7]\n",
        "print(a[::-1])"
      ],
      "metadata": {
        "colab": {
          "base_uri": "https://localhost:8080/"
        },
        "id": "Bj4JUiIYcDet",
        "outputId": "06a3c4c4-86e8-489f-f792-3cea519892a9"
      },
      "execution_count": 13,
      "outputs": [
        {
          "output_type": "stream",
          "name": "stdout",
          "text": [
            "[7, 6, 5, 4, 3, 2, 1]\n"
          ]
        }
      ]
    },
    {
      "cell_type": "markdown",
      "source": [
        "11. Sort a list in ascending order.\n"
      ],
      "metadata": {
        "id": "eRa_FLLuccJl"
      }
    },
    {
      "cell_type": "code",
      "source": [
        "a=[1,2,3,4,45,6,3,42]\n",
        "a.sort()\n",
        "print(a)"
      ],
      "metadata": {
        "colab": {
          "base_uri": "https://localhost:8080/"
        },
        "id": "zrOE8PbecUye",
        "outputId": "f7ed8a67-4cb7-45c5-9569-650894652e3b"
      },
      "execution_count": 14,
      "outputs": [
        {
          "output_type": "stream",
          "name": "stdout",
          "text": [
            "[1, 2, 3, 3, 4, 6, 42, 45]\n"
          ]
        }
      ]
    },
    {
      "cell_type": "markdown",
      "source": [
        "12. Sort a list in descending order."
      ],
      "metadata": {
        "id": "Qjoa9RvTcpoT"
      }
    },
    {
      "cell_type": "code",
      "source": [
        "a=[1,2,3,4,3,2,3,5,6]\n",
        "a.reverse()\n",
        "print(a)"
      ],
      "metadata": {
        "colab": {
          "base_uri": "https://localhost:8080/"
        },
        "id": "TrcCDcpAclYi",
        "outputId": "80ed1d29-645d-4b98-b0c5-c55dddb4fa6d"
      },
      "execution_count": 15,
      "outputs": [
        {
          "output_type": "stream",
          "name": "stdout",
          "text": [
            "[6, 5, 3, 2, 3, 4, 3, 2, 1]\n"
          ]
        }
      ]
    },
    {
      "cell_type": "markdown",
      "source": [
        "13. Create a list of even numbers from 1 to 20."
      ],
      "metadata": {
        "id": "MCsDRjawczkf"
      }
    },
    {
      "cell_type": "code",
      "source": [
        "[i for i in range (1,21) if i%2==0]\n"
      ],
      "metadata": {
        "colab": {
          "base_uri": "https://localhost:8080/"
        },
        "id": "tap4W6pDcwK1",
        "outputId": "db3d8ff4-1e07-41ee-dc98-610c64474bf0"
      },
      "execution_count": 16,
      "outputs": [
        {
          "output_type": "execute_result",
          "data": {
            "text/plain": [
              "[2, 4, 6, 8, 10, 12, 14, 16, 18, 20]"
            ]
          },
          "metadata": {},
          "execution_count": 16
        }
      ]
    },
    {
      "cell_type": "markdown",
      "source": [
        "14. Create a list of odd numbers from 1 to 20."
      ],
      "metadata": {
        "id": "8Pnzz5Kbc_fZ"
      }
    },
    {
      "cell_type": "code",
      "source": [
        "[i for i in range (1,21) if i%2!=0]"
      ],
      "metadata": {
        "colab": {
          "base_uri": "https://localhost:8080/"
        },
        "id": "LK-1qjzrc7_k",
        "outputId": "4f379cbb-fafc-4b07-f0ff-d1c68eed9b7b"
      },
      "execution_count": 17,
      "outputs": [
        {
          "output_type": "execute_result",
          "data": {
            "text/plain": [
              "[1, 3, 5, 7, 9, 11, 13, 15, 17, 19]"
            ]
          },
          "metadata": {},
          "execution_count": 17
        }
      ]
    },
    {
      "cell_type": "markdown",
      "source": [
        "15. Find the sum of all elements in a list."
      ],
      "metadata": {
        "id": "X655xWBFdHcN"
      }
    },
    {
      "cell_type": "code",
      "source": [
        "a=[1,2,3,4,5,4,3,2,1]\n",
        "sum=0\n",
        "for i in a:\n",
        "  sum+=i\n",
        "print(sum)"
      ],
      "metadata": {
        "colab": {
          "base_uri": "https://localhost:8080/"
        },
        "id": "Jn8ppHR4dDZW",
        "outputId": "08cf6b9c-1808-473e-d981-8ca8e079e5af"
      },
      "execution_count": 18,
      "outputs": [
        {
          "output_type": "stream",
          "name": "stdout",
          "text": [
            "25\n"
          ]
        }
      ]
    },
    {
      "cell_type": "markdown",
      "source": [
        "16. Find the maximum value in a list."
      ],
      "metadata": {
        "id": "OjzHoNRydiJf"
      }
    },
    {
      "cell_type": "code",
      "source": [
        "a=[1,2,3,4,3,2,5,6,45]\n",
        "print(max(a))"
      ],
      "metadata": {
        "colab": {
          "base_uri": "https://localhost:8080/"
        },
        "id": "cX7AtK85dcot",
        "outputId": "e6ea96f6-f4ac-4f53-a2ca-fcc60fc03264"
      },
      "execution_count": 19,
      "outputs": [
        {
          "output_type": "stream",
          "name": "stdout",
          "text": [
            "45\n"
          ]
        }
      ]
    },
    {
      "cell_type": "markdown",
      "source": [
        "17. Find the minimum value in a list."
      ],
      "metadata": {
        "id": "3K7GxtbwdtLT"
      }
    },
    {
      "cell_type": "code",
      "source": [
        "a=[1,2,3,4,3,2,5,6,45]\n",
        "print(min(a))"
      ],
      "metadata": {
        "colab": {
          "base_uri": "https://localhost:8080/"
        },
        "id": "v-v7gI_kdt1C",
        "outputId": "93feda19-31ce-4c5a-df48-a57f86d03e41"
      },
      "execution_count": 20,
      "outputs": [
        {
          "output_type": "stream",
          "name": "stdout",
          "text": [
            "1\n"
          ]
        }
      ]
    },
    {
      "cell_type": "markdown",
      "source": [
        "18. Create a list of squares of numbers from 1 to 10."
      ],
      "metadata": {
        "id": "O7SzQBFxd3j4"
      }
    },
    {
      "cell_type": "code",
      "source": [
        "[i*i for i in range(1,11)]"
      ],
      "metadata": {
        "colab": {
          "base_uri": "https://localhost:8080/"
        },
        "id": "Jmxtp9Jgd0-c",
        "outputId": "8f14f811-784c-4a50-8e03-326802d54249"
      },
      "execution_count": 21,
      "outputs": [
        {
          "output_type": "execute_result",
          "data": {
            "text/plain": [
              "[1, 4, 9, 16, 25, 36, 49, 64, 81, 100]"
            ]
          },
          "metadata": {},
          "execution_count": 21
        }
      ]
    },
    {
      "cell_type": "markdown",
      "source": [
        "19. Create a list of random numbers."
      ],
      "metadata": {
        "id": "KuSsdoYEeOi0"
      }
    },
    {
      "cell_type": "code",
      "source": [
        "import random\n",
        "a=[]\n",
        "for i in range (1,10):\n",
        "  a.append(random.randint(1,100))\n",
        "print(a)"
      ],
      "metadata": {
        "colab": {
          "base_uri": "https://localhost:8080/"
        },
        "id": "Ms3xrSvKeJOm",
        "outputId": "60405684-26f1-4feb-b014-5e0ded543a49"
      },
      "execution_count": 29,
      "outputs": [
        {
          "output_type": "stream",
          "name": "stdout",
          "text": [
            "[51, 79, 16, 55, 40, 16, 16, 72, 94]\n"
          ]
        }
      ]
    },
    {
      "cell_type": "markdown",
      "source": [
        "20. Remove duplicates from a list."
      ],
      "metadata": {
        "id": "KOqlxGuzekSz"
      }
    },
    {
      "cell_type": "code",
      "source": [
        "a=[1,2,3,2,1,2,4,5,6,5,6,7,4,3,8]\n",
        "b=[]\n",
        "for i in a :\n",
        "  if i not in b:\n",
        "    b.append(i)\n",
        "print(b)"
      ],
      "metadata": {
        "colab": {
          "base_uri": "https://localhost:8080/"
        },
        "id": "cB5zYJzzeWIl",
        "outputId": "716082c4-7b02-4302-bd94-a78de513d4d8"
      },
      "execution_count": 32,
      "outputs": [
        {
          "output_type": "stream",
          "name": "stdout",
          "text": [
            "[1, 2, 3, 4, 5, 6, 7, 8]\n"
          ]
        }
      ]
    },
    {
      "cell_type": "markdown",
      "source": [
        "# **Or**"
      ],
      "metadata": {
        "id": "qUX18KfufdIa"
      }
    },
    {
      "cell_type": "code",
      "source": [
        "list(set(a))"
      ],
      "metadata": {
        "colab": {
          "base_uri": "https://localhost:8080/"
        },
        "id": "gUd1TgrNfNHH",
        "outputId": "238d730a-ae40-4174-98ba-e7b35aca5d10"
      },
      "execution_count": 33,
      "outputs": [
        {
          "output_type": "execute_result",
          "data": {
            "text/plain": [
              "[1, 2, 3, 4, 5, 6, 7, 8]"
            ]
          },
          "metadata": {},
          "execution_count": 33
        }
      ]
    },
    {
      "cell_type": "markdown",
      "source": [
        "21. Find the common elements between two lists.\n"
      ],
      "metadata": {
        "id": "Mu6Vch5LfkUK"
      }
    },
    {
      "cell_type": "code",
      "source": [
        "a=[1,2,3,2,3,4,5,4,3,4,5]\n",
        "b=[2,3,4,3,2,5,4,3,6,5,4]\n",
        "c=list(set(a).intersection(set(b)))\n",
        "print(c)"
      ],
      "metadata": {
        "colab": {
          "base_uri": "https://localhost:8080/"
        },
        "id": "e87LV1KZfnab",
        "outputId": "abf8ee8d-a98c-4ec4-fb8b-9a31f6b6a5d9"
      },
      "execution_count": 35,
      "outputs": [
        {
          "output_type": "stream",
          "name": "stdout",
          "text": [
            "[2, 3, 4, 5]\n"
          ]
        }
      ]
    },
    {
      "cell_type": "markdown",
      "source": [
        "# **Or**"
      ],
      "metadata": {
        "id": "JBwP-C4KgAO4"
      }
    },
    {
      "cell_type": "code",
      "source": [
        "c=[]\n",
        "for i in a:\n",
        "  if i in b:\n",
        "    c.append(i)\n",
        "\n",
        "print(list(set(c)))"
      ],
      "metadata": {
        "colab": {
          "base_uri": "https://localhost:8080/"
        },
        "id": "I4qLnXIBf3Dk",
        "outputId": "43ca17ac-2cf5-4861-9482-e1a360afcb4d"
      },
      "execution_count": 37,
      "outputs": [
        {
          "output_type": "stream",
          "name": "stdout",
          "text": [
            "[2, 3, 4, 5]\n"
          ]
        }
      ]
    },
    {
      "cell_type": "markdown",
      "source": [
        "22. Find the difference between two lists.\n"
      ],
      "metadata": {
        "id": "oRkW9COCgfFp"
      }
    },
    {
      "cell_type": "code",
      "source": [
        "a=[1,3,7,2,4,6,8,10]\n",
        "b=[1,3,5,7,9]\n",
        "c=list(set(a).difference(set(b)))\n",
        "print(c)"
      ],
      "metadata": {
        "colab": {
          "base_uri": "https://localhost:8080/"
        },
        "id": "9CwmEa0dgSzt",
        "outputId": "ecab1771-2d81-42e2-b7ce-0507a86f90a4"
      },
      "execution_count": 44,
      "outputs": [
        {
          "output_type": "stream",
          "name": "stdout",
          "text": [
            "[2, 4, 6, 8, 10]\n"
          ]
        }
      ]
    },
    {
      "cell_type": "markdown",
      "source": [
        "23. Merge two lists."
      ],
      "metadata": {
        "id": "LuLLjkxgh4CC"
      }
    },
    {
      "cell_type": "code",
      "source": [
        "a=[1,2,3,4,5]\n",
        "b=[6,7,8,9,10]\n",
        "c=a+b\n",
        "print(c)"
      ],
      "metadata": {
        "colab": {
          "base_uri": "https://localhost:8080/"
        },
        "id": "acGolQdLh3Yo",
        "outputId": "62fb5a01-bd78-4fe7-875c-1b5e9a33e20c"
      },
      "execution_count": 49,
      "outputs": [
        {
          "output_type": "stream",
          "name": "stdout",
          "text": [
            "[1, 2, 3, 4, 5, 6, 7, 8, 9, 10]\n"
          ]
        }
      ]
    },
    {
      "cell_type": "markdown",
      "source": [
        "# OR"
      ],
      "metadata": {
        "id": "EAepIt95h-mT"
      }
    },
    {
      "cell_type": "code",
      "source": [
        "a.extend(b)\n",
        "print(a)"
      ],
      "metadata": {
        "colab": {
          "base_uri": "https://localhost:8080/"
        },
        "id": "xXb3e-aSgyrN",
        "outputId": "b46ba622-1384-48ff-fc4e-c30b311201d2"
      },
      "execution_count": 50,
      "outputs": [
        {
          "output_type": "stream",
          "name": "stdout",
          "text": [
            "[1, 2, 3, 4, 5, 6, 7, 8, 9, 10]\n"
          ]
        }
      ]
    },
    {
      "cell_type": "markdown",
      "source": [
        "24. Multiply all elements in a list by 2."
      ],
      "metadata": {
        "id": "1W9RudPnibOZ"
      }
    },
    {
      "cell_type": "code",
      "source": [
        "[i*2 for i in range(1,11)]"
      ],
      "metadata": {
        "colab": {
          "base_uri": "https://localhost:8080/"
        },
        "id": "efRVYlpuiEA5",
        "outputId": "08dda7c6-d130-40be-f743-93dbf9299a09"
      },
      "execution_count": 51,
      "outputs": [
        {
          "output_type": "execute_result",
          "data": {
            "text/plain": [
              "[2, 4, 6, 8, 10, 12, 14, 16, 18, 20]"
            ]
          },
          "metadata": {},
          "execution_count": 51
        }
      ]
    },
    {
      "cell_type": "markdown",
      "source": [
        "25. Filter out all even numbers from a list."
      ],
      "metadata": {
        "id": "gWviGBX5iqLm"
      }
    },
    {
      "cell_type": "code",
      "source": [
        "a=[1,2,3,4,5,6,7,45,34,22]\n",
        "for i in a:\n",
        "  if i %2==0:\n",
        "    print(i,end=\" \")"
      ],
      "metadata": {
        "colab": {
          "base_uri": "https://localhost:8080/"
        },
        "id": "GH9bEcB6ihfy",
        "outputId": "ee519645-ea01-4695-c79a-9bbf41862bf6"
      },
      "execution_count": 53,
      "outputs": [
        {
          "output_type": "stream",
          "name": "stdout",
          "text": [
            "2 4 6 34 22 "
          ]
        }
      ]
    },
    {
      "cell_type": "code",
      "source": [],
      "metadata": {
        "id": "TEcNdTFci5CL"
      },
      "execution_count": null,
      "outputs": []
    }
  ]
}